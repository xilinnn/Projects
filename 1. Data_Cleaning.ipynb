{
 "cells": [
  {
   "cell_type": "code",
   "execution_count": 4,
   "id": "90cf63bd",
   "metadata": {},
   "outputs": [],
   "source": [
    "import json\n",
    "import pandas as pd\n",
    "from pyspark.sql import SparkSession, Window\n",
    "from pyspark.sql.functions import col,lower,current_date, expr\n",
    "import pyspark.sql.functions as F\n",
    "from pyspark.sql.functions import col, count, desc\n",
    "from pyspark.ml.feature import RegexTokenizer, StopWordsRemover, Word2Vec\n",
    "from pyspark.sql.functions import udf\n",
    "from pyspark.sql.types import BooleanType\n",
    "from langdetect import detect\n",
    "from pyspark.sql.types import StringType\n",
    "import langid\n",
    "import spacy\n",
    "from spacy_langdetect import LanguageDetector"
   ]
  },
  {
   "cell_type": "code",
   "execution_count": 5,
   "id": "5b38d15f",
   "metadata": {},
   "outputs": [
    {
     "name": "stderr",
     "output_type": "stream",
     "text": [
      "23/12/14 17:58:36 WARN Utils: Your hostname, CelinedeMacBook-Pro.local resolves to a loopback address: 127.0.0.1; using 192.168.100.25 instead (on interface en0)\n",
      "23/12/14 17:58:36 WARN Utils: Set SPARK_LOCAL_IP if you need to bind to another address\n",
      "Setting default log level to \"WARN\".\n",
      "To adjust logging level use sc.setLogLevel(newLevel). For SparkR, use setLogLevel(newLevel).\n",
      "23/12/14 17:58:36 WARN NativeCodeLoader: Unable to load native-hadoop library for your platform... using builtin-java classes where applicable\n"
     ]
    }
   ],
   "source": [
    "spark = SparkSession.builder.getOrCreate()"
   ]
  },
  {
   "cell_type": "markdown",
   "id": "bcc56441",
   "metadata": {},
   "source": [
    "# 1. Data Cleaning"
   ]
  },
  {
   "cell_type": "markdown",
   "id": "42a7e118",
   "metadata": {},
   "source": [
    "## a. Business Dataset"
   ]
  },
  {
   "cell_type": "code",
   "execution_count": 6,
   "id": "f4eb36c6",
   "metadata": {},
   "outputs": [
    {
     "name": "stderr",
     "output_type": "stream",
     "text": [
      "23/12/14 17:58:41 WARN SparkStringUtils: Truncated the string representation of a plan since it was too large. This behavior can be adjusted by setting 'spark.sql.debug.maxToStringFields'.\n"
     ]
    },
    {
     "name": "stdout",
     "output_type": "stream",
     "text": [
      "Number of rows in business: 150346\n"
     ]
    }
   ],
   "source": [
    "# Read the dataset in Spark\n",
    "business = spark.read.json('/Users/celine/Desktop/5430nlp/group/yelp_dataset/yelp_academic_dataset_business.json')\n",
    "\n",
    "# Count the number of rows in the DataFrame\n",
    "num_rows = business.count()\n",
    "\n",
    "# Print the number of rows\n",
    "print(\"Number of rows in business: {}\".format(num_rows))"
   ]
  },
  {
   "cell_type": "code",
   "execution_count": 7,
   "id": "1d18d88c",
   "metadata": {},
   "outputs": [
    {
     "name": "stdout",
     "output_type": "stream",
     "text": [
      "+--------------------+--------------------+--------------------+--------------------+-------------+--------------------+-------+----------+------------+--------------------+-----------+------------+-----+-----+\n",
      "|             address|          attributes|         business_id|          categories|         city|               hours|is_open|  latitude|   longitude|                name|postal_code|review_count|stars|state|\n",
      "+--------------------+--------------------+--------------------+--------------------+-------------+--------------------+-------+----------+------------+--------------------+-----------+------------+-----+-----+\n",
      "|1616 Chapala St, ...|{NULL, NULL, NULL...|Pns2l4eNsfO8kk83d...|Doctors, Traditio...|Santa Barbara|                NULL|      0|34.4266787|-119.7111968|Abby Rappoport, L...|      93101|           7|  5.0|   CA|\n",
      "|87 Grasso Plaza S...|{NULL, NULL, NULL...|mpf3x-BjTdTEA3yCZ...|Shipping Centers,...|       Affton|{8:0-18:30, 0:0-0...|      1| 38.551126|  -90.335695|       The UPS Store|      63123|          15|  3.0|   MO|\n",
      "|5255 E Broadway Blvd|{NULL, NULL, NULL...|tUFrWirKiKi_TAnsV...|Department Stores...|       Tucson|{8:0-23:0, 8:0-22...|      0| 32.223236| -110.880452|              Target|      85711|          22|  3.5|   AZ|\n",
      "|         935 Race St|{NULL, NULL, u'no...|MTSW4McQd7CbVtyjq...|Restaurants, Food...| Philadelphia|{7:0-21:0, 7:0-20...|      1|39.9555052| -75.1555641|  St Honore Pastries|      19107|          80|  4.0|   PA|\n",
      "|       101 Walnut St|{NULL, NULL, NULL...|mWMc6_wTdE0EUBKIG...|Brewpubs, Breweri...|   Green Lane|{12:0-22:0, NULL,...|      1|40.3381827| -75.4716585|Perkiomen Valley ...|      18054|          13|  4.5|   PA|\n",
      "+--------------------+--------------------+--------------------+--------------------+-------------+--------------------+-------+----------+------------+--------------------+-----------+------------+-----+-----+\n",
      "only showing top 5 rows\n",
      "\n"
     ]
    }
   ],
   "source": [
    "business.show(5)"
   ]
  },
  {
   "cell_type": "code",
   "execution_count": 8,
   "id": "041cde30",
   "metadata": {},
   "outputs": [
    {
     "name": "stderr",
     "output_type": "stream",
     "text": [
      "                                                                                \r"
     ]
    },
    {
     "name": "stdout",
     "output_type": "stream",
     "text": [
      "Number of rows after dropping null values: 117618\n"
     ]
    },
    {
     "name": "stderr",
     "output_type": "stream",
     "text": [
      "[Stage 8:=======>                                                   (1 + 7) / 8]\r"
     ]
    },
    {
     "name": "stdout",
     "output_type": "stream",
     "text": [
      "Number of rows after dropping duplicates: 117618\n"
     ]
    },
    {
     "name": "stderr",
     "output_type": "stream",
     "text": [
      "                                                                                \r"
     ]
    }
   ],
   "source": [
    "# Drop Null Values\n",
    "business_without_na = business.na.drop()\n",
    "num_rows_without_na = business_without_na.count()\n",
    "print(\"Number of rows after dropping null values: {}\".format(num_rows_without_na))\n",
    "\n",
    "# Drop duplicates\n",
    "business_clean = business_without_na.dropDuplicates()\n",
    "num_rows_clean = business_clean.count()\n",
    "print(\"Number of rows after dropping duplicates: {}\".format(num_rows_clean))"
   ]
  },
  {
   "cell_type": "code",
   "execution_count": 9,
   "id": "7c448abd",
   "metadata": {},
   "outputs": [
    {
     "name": "stderr",
     "output_type": "stream",
     "text": [
      "                                                                                \r"
     ]
    },
    {
     "name": "stdout",
     "output_type": "stream",
     "text": [
      "Number of rows for open business: 94976\n",
      "Number of rows for restaurants: 39448\n"
     ]
    }
   ],
   "source": [
    "# Select the business that is open\n",
    "business_open = business_clean.filter(col('is_open') == 1)\n",
    "num_rows_business_open = business_open.count()\n",
    "print(\"Number of rows for open business: {}\".format(num_rows_business_open))\n",
    "\n",
    "# Select the data that is Restaurants\n",
    "restaurants = business_open.filter(col('categories').contains('Restaurants') | col('categories').contains('Food'))\n",
    "num_rows_restaurants = restaurants.count()\n",
    "print(\"Number of rows for restaurants: {}\".format(num_rows_restaurants))"
   ]
  },
  {
   "cell_type": "code",
   "execution_count": 10,
   "id": "8e87366e",
   "metadata": {},
   "outputs": [
    {
     "name": "stdout",
     "output_type": "stream",
     "text": [
      "+------------+--------------+\n",
      "|        city|business_count|\n",
      "+------------+--------------+\n",
      "|Philadelphia|          3729|\n",
      "|       Tampa|          2266|\n",
      "|Indianapolis|          2083|\n",
      "|      Tucson|          1889|\n",
      "|   Nashville|          1829|\n",
      "+------------+--------------+\n",
      "only showing top 5 rows\n",
      "\n"
     ]
    }
   ],
   "source": [
    "# Group by \"city\" and count the number of unique business_ids and sum the review_count in each city\n",
    "cityBusinessCountDF = restaurants.groupBy(\"city\").agg(count(\"business_id\").alias(\"business_count\"))\n",
    "\n",
    "# Order the result in descending order\n",
    "sortedCityBusinessCountDF = cityBusinessCountDF.orderBy(desc(\"business_count\"))\n",
    "\n",
    "# Show the result\n",
    "sortedCityBusinessCountDF.show(5)"
   ]
  },
  {
   "cell_type": "code",
   "execution_count": 11,
   "id": "005efd37",
   "metadata": {},
   "outputs": [],
   "source": [
    "# We select the city with the most businesses to be our target city\n",
    "restaurants_in_Philadelphia = restaurants.filter(col(\"city\") == \"Philadelphia\")"
   ]
  },
  {
   "cell_type": "code",
   "execution_count": 12,
   "id": "2a64c27b",
   "metadata": {},
   "outputs": [
    {
     "name": "stdout",
     "output_type": "stream",
     "text": [
      "+--------------------+--------------------+--------------------+--------------------+------------+--------------------+-------+-------------+--------------+--------------------+-----------+------------+-----+-----+\n",
      "|             address|          attributes|         business_id|          categories|        city|               hours|is_open|     latitude|     longitude|                name|postal_code|review_count|stars|state|\n",
      "+--------------------+--------------------+--------------------+--------------------+------------+--------------------+-------+-------------+--------------+--------------------+-----------+------------+-----+-----+\n",
      "|6153 Ridge Ave, U...|{NULL, NULL, NULL...|F6hASqb_Z5ASXz0-p...|Flowers & Gifts, ...|Philadelphia|{8:0-18:0, 8:0-18...|      1|    40.035169|    -75.216409| Edible Arrangements|      19128|          10|  3.5|   PA|\n",
      "|226 W Rittenhouse...|{NULL, NULL, NULL...|K9gaM9XdGqGWsQMdj...|Coffee & Tea, Foo...|Philadelphia|{0:0-0:0, 0:0-0:0...|      1|39.9492424097|-75.1739857577|            7-Eleven|      19103|          15|  3.5|   PA|\n",
      "| 9918 Roosevelt Blvd|{NULL, NULL, u'be...|0CSiz9Q_xuZ9YNq8K...|  Restaurants, Pizza|Philadelphia|{11:0-21:0, NULL,...|      1|     40.09453|    -75.018255|      Angela's Pizza|      19115|          22|  4.0|   PA|\n",
      "|1322 Frankford Av...|{NULL, NULL, NULL...|umqAlYC0OtFjFI-sT...|Desserts, Ice Cre...|Philadelphia|{12:0-22:0, 12:0-...|      1|   39.9708619|    -75.134813|Jeni's Splendid I...|      19125|          16|  4.0|   PA|\n",
      "|    7375 Crabtree St|{NULL, NULL, NULL...|5Eq-hxUIIjZTHFnpZ...|  Restaurants, Pizza|Philadelphia|{11:0-0:0, 11:0-2...|      1|   40.0406177|   -75.0438084|Tom's Corner Gril...|      19136|          11|  3.5|   PA|\n",
      "+--------------------+--------------------+--------------------+--------------------+------------+--------------------+-------+-------------+--------------+--------------------+-----------+------------+-----+-----+\n",
      "only showing top 5 rows\n",
      "\n"
     ]
    }
   ],
   "source": [
    "restaurants_in_Philadelphia.show(5)"
   ]
  },
  {
   "cell_type": "markdown",
   "id": "b28ec768",
   "metadata": {},
   "source": [
    "## b. Review Dataset"
   ]
  },
  {
   "cell_type": "markdown",
   "id": "afbde507",
   "metadata": {},
   "source": [
    "#### 1. Read data"
   ]
  },
  {
   "cell_type": "code",
   "execution_count": 13,
   "id": "d9c5d2ba",
   "metadata": {},
   "outputs": [
    {
     "name": "stderr",
     "output_type": "stream",
     "text": [
      "23/12/14 17:58:48 WARN GarbageCollectionMetrics: To enable non-built-in garbage collector(s) List(G1 Concurrent GC), users should configure it(them) to spark.eventLog.gcMetrics.youngGenerationGarbageCollectors or spark.eventLog.gcMetrics.oldGenerationGarbageCollectors\n",
      "[Stage 36:============================================>           (32 + 8) / 40]\r"
     ]
    },
    {
     "name": "stdout",
     "output_type": "stream",
     "text": [
      "Number of rows in reviews: 6990280\n"
     ]
    },
    {
     "name": "stderr",
     "output_type": "stream",
     "text": [
      "                                                                                \r"
     ]
    }
   ],
   "source": [
    "# Read the dataset in Spark\n",
    "review = spark.read.json('/Users/celine/Desktop/5430nlp/group/yelp_dataset/yelp_academic_dataset_review.json')\n",
    "\n",
    "# Count the number of rows in the DataFrame\n",
    "num_rows = review.count()\n",
    "\n",
    "# Print the number of rows\n",
    "print(\"Number of rows in reviews: {}\".format(num_rows))"
   ]
  },
  {
   "cell_type": "code",
   "execution_count": 14,
   "id": "a4ca483a",
   "metadata": {},
   "outputs": [
    {
     "name": "stdout",
     "output_type": "stream",
     "text": [
      "+--------------------+----+-------------------+-----+--------------------+-----+--------------------+------+--------------------+\n",
      "|         business_id|cool|               date|funny|           review_id|stars|                text|useful|             user_id|\n",
      "+--------------------+----+-------------------+-----+--------------------+-----+--------------------+------+--------------------+\n",
      "|XQfwVwDr-v0ZS3_Cb...|   0|2018-07-07 22:09:11|    0|KU_O5udG6zpxOg-Vc...|  3.0|If you decide to ...|     0|mh_-eMZ6K5RLWhZyI...|\n",
      "|7ATYjTIgM3jUlt4UM...|   1|2012-01-03 15:28:18|    0|BiTunyQ73aT9WBnpR...|  5.0|I've taken a lot ...|     1|OyoGAe7OKpv6SyGZT...|\n",
      "|YjUWPpI6HXG530lwP...|   0|2014-02-05 20:30:30|    0|saUsX_uimxRlCVr67...|  3.0|Family diner. Had...|     0|8g_iMtfSiwikVnbP2...|\n",
      "|kxX2SOes4o-D3ZQBk...|   1|2015-01-04 00:01:03|    0|AqPFMleE6RsU23_au...|  5.0|Wow!  Yummy, diff...|     1|_7bHUi9Uuf5__HHc_...|\n",
      "|e4Vwtrqf-wpJfwesg...|   1|2017-01-14 20:54:15|    0|Sx8TMOWLNuJBWer-0...|  4.0|Cute interior and...|     1|bcjbaE6dDog4jkNY9...|\n",
      "+--------------------+----+-------------------+-----+--------------------+-----+--------------------+------+--------------------+\n",
      "only showing top 5 rows\n",
      "\n"
     ]
    }
   ],
   "source": [
    "review.show(5)"
   ]
  },
  {
   "cell_type": "markdown",
   "id": "7c0aac6f",
   "metadata": {},
   "source": [
    "#### 2. Drop null & duplicate values"
   ]
  },
  {
   "cell_type": "code",
   "execution_count": 15,
   "id": "ae3bdc8b",
   "metadata": {},
   "outputs": [
    {
     "name": "stderr",
     "output_type": "stream",
     "text": [
      "                                                                                \r"
     ]
    },
    {
     "name": "stdout",
     "output_type": "stream",
     "text": [
      "Number of rows after dropping null values: 6990280\n"
     ]
    },
    {
     "name": "stderr",
     "output_type": "stream",
     "text": [
      "23/12/14 17:58:58 WARN RowBasedKeyValueBatch: Calling spill() on RowBasedKeyValueBatch. Will not spill but return 0.\n",
      "23/12/14 17:58:58 WARN RowBasedKeyValueBatch: Calling spill() on RowBasedKeyValueBatch. Will not spill but return 0.\n",
      "23/12/14 17:58:58 WARN RowBasedKeyValueBatch: Calling spill() on RowBasedKeyValueBatch. Will not spill but return 0.\n",
      "23/12/14 17:58:58 WARN RowBasedKeyValueBatch: Calling spill() on RowBasedKeyValueBatch. Will not spill but return 0.\n",
      "23/12/14 17:58:58 WARN RowBasedKeyValueBatch: Calling spill() on RowBasedKeyValueBatch. Will not spill but return 0.\n",
      "23/12/14 17:58:58 WARN RowBasedKeyValueBatch: Calling spill() on RowBasedKeyValueBatch. Will not spill but return 0.\n",
      "23/12/14 17:58:58 WARN RowBasedKeyValueBatch: Calling spill() on RowBasedKeyValueBatch. Will not spill but return 0.\n",
      "23/12/14 17:58:58 WARN RowBasedKeyValueBatch: Calling spill() on RowBasedKeyValueBatch. Will not spill but return 0.\n",
      "23/12/14 17:58:59 WARN RowBasedKeyValueBatch: Calling spill() on RowBasedKeyValueBatch. Will not spill but return 0.\n",
      "23/12/14 17:58:59 WARN RowBasedKeyValueBatch: Calling spill() on RowBasedKeyValueBatch. Will not spill but return 0.\n",
      "23/12/14 17:58:59 WARN RowBasedKeyValueBatch: Calling spill() on RowBasedKeyValueBatch. Will not spill but return 0.\n",
      "23/12/14 17:58:59 WARN RowBasedKeyValueBatch: Calling spill() on RowBasedKeyValueBatch. Will not spill but return 0.\n",
      "23/12/14 17:58:59 WARN RowBasedKeyValueBatch: Calling spill() on RowBasedKeyValueBatch. Will not spill but return 0.\n",
      "23/12/14 17:58:59 WARN RowBasedKeyValueBatch: Calling spill() on RowBasedKeyValueBatch. Will not spill but return 0.\n",
      "23/12/14 17:58:59 WARN RowBasedKeyValueBatch: Calling spill() on RowBasedKeyValueBatch. Will not spill but return 0.\n",
      "23/12/14 17:58:59 WARN RowBasedKeyValueBatch: Calling spill() on RowBasedKeyValueBatch. Will not spill but return 0.\n",
      "23/12/14 17:58:59 WARN RowBasedKeyValueBatch: Calling spill() on RowBasedKeyValueBatch. Will not spill but return 0.\n",
      "23/12/14 17:58:59 WARN RowBasedKeyValueBatch: Calling spill() on RowBasedKeyValueBatch. Will not spill but return 0.\n",
      "23/12/14 17:59:02 WARN RowBasedKeyValueBatch: Calling spill() on RowBasedKeyValueBatch. Will not spill but return 0.\n",
      "23/12/14 17:59:02 WARN RowBasedKeyValueBatch: Calling spill() on RowBasedKeyValueBatch. Will not spill but return 0.\n",
      "23/12/14 17:59:02 WARN RowBasedKeyValueBatch: Calling spill() on RowBasedKeyValueBatch. Will not spill but return 0.\n",
      "23/12/14 17:59:02 WARN RowBasedKeyValueBatch: Calling spill() on RowBasedKeyValueBatch. Will not spill but return 0.\n",
      "23/12/14 17:59:02 WARN RowBasedKeyValueBatch: Calling spill() on RowBasedKeyValueBatch. Will not spill but return 0.\n",
      "23/12/14 17:59:02 WARN RowBasedKeyValueBatch: Calling spill() on RowBasedKeyValueBatch. Will not spill but return 0.\n",
      "23/12/14 17:59:02 WARN RowBasedKeyValueBatch: Calling spill() on RowBasedKeyValueBatch. Will not spill but return 0.\n",
      "23/12/14 17:59:02 WARN RowBasedKeyValueBatch: Calling spill() on RowBasedKeyValueBatch. Will not spill but return 0.\n",
      "23/12/14 17:59:02 WARN RowBasedKeyValueBatch: Calling spill() on RowBasedKeyValueBatch. Will not spill but return 0.\n",
      "23/12/14 17:59:02 WARN RowBasedKeyValueBatch: Calling spill() on RowBasedKeyValueBatch. Will not spill but return 0.\n",
      "23/12/14 17:59:03 WARN RowBasedKeyValueBatch: Calling spill() on RowBasedKeyValueBatch. Will not spill but return 0.\n",
      "23/12/14 17:59:03 WARN RowBasedKeyValueBatch: Calling spill() on RowBasedKeyValueBatch. Will not spill but return 0.\n",
      "23/12/14 17:59:03 WARN RowBasedKeyValueBatch: Calling spill() on RowBasedKeyValueBatch. Will not spill but return 0.\n",
      "23/12/14 17:59:03 WARN RowBasedKeyValueBatch: Calling spill() on RowBasedKeyValueBatch. Will not spill but return 0.\n",
      "23/12/14 17:59:03 WARN RowBasedKeyValueBatch: Calling spill() on RowBasedKeyValueBatch. Will not spill but return 0.\n",
      "23/12/14 17:59:03 WARN RowBasedKeyValueBatch: Calling spill() on RowBasedKeyValueBatch. Will not spill but return 0.\n",
      "23/12/14 17:59:05 WARN RowBasedKeyValueBatch: Calling spill() on RowBasedKeyValueBatch. Will not spill but return 0.\n",
      "23/12/14 17:59:05 WARN RowBasedKeyValueBatch: Calling spill() on RowBasedKeyValueBatch. Will not spill but return 0.\n",
      "23/12/14 17:59:05 WARN RowBasedKeyValueBatch: Calling spill() on RowBasedKeyValueBatch. Will not spill but return 0.\n",
      "23/12/14 17:59:05 WARN RowBasedKeyValueBatch: Calling spill() on RowBasedKeyValueBatch. Will not spill but return 0.\n",
      "23/12/14 17:59:05 WARN RowBasedKeyValueBatch: Calling spill() on RowBasedKeyValueBatch. Will not spill but return 0.\n",
      "23/12/14 17:59:05 WARN RowBasedKeyValueBatch: Calling spill() on RowBasedKeyValueBatch. Will not spill but return 0.\n",
      "23/12/14 17:59:05 WARN RowBasedKeyValueBatch: Calling spill() on RowBasedKeyValueBatch. Will not spill but return 0.\n",
      "23/12/14 17:59:05 WARN RowBasedKeyValueBatch: Calling spill() on RowBasedKeyValueBatch. Will not spill but return 0.\n",
      "23/12/14 17:59:05 WARN RowBasedKeyValueBatch: Calling spill() on RowBasedKeyValueBatch. Will not spill but return 0.\n",
      "23/12/14 17:59:05 WARN RowBasedKeyValueBatch: Calling spill() on RowBasedKeyValueBatch. Will not spill but return 0.\n",
      "23/12/14 17:59:06 WARN RowBasedKeyValueBatch: Calling spill() on RowBasedKeyValueBatch. Will not spill but return 0.\n",
      "23/12/14 17:59:06 WARN RowBasedKeyValueBatch: Calling spill() on RowBasedKeyValueBatch. Will not spill but return 0.\n",
      "23/12/14 17:59:06 WARN RowBasedKeyValueBatch: Calling spill() on RowBasedKeyValueBatch. Will not spill but return 0.\n",
      "23/12/14 17:59:06 WARN RowBasedKeyValueBatch: Calling spill() on RowBasedKeyValueBatch. Will not spill but return 0.\n",
      "23/12/14 17:59:06 WARN RowBasedKeyValueBatch: Calling spill() on RowBasedKeyValueBatch. Will not spill but return 0.\n",
      "23/12/14 17:59:06 WARN RowBasedKeyValueBatch: Calling spill() on RowBasedKeyValueBatch. Will not spill but return 0.\n",
      "23/12/14 17:59:06 WARN RowBasedKeyValueBatch: Calling spill() on RowBasedKeyValueBatch. Will not spill but return 0.\n",
      "23/12/14 17:59:06 WARN RowBasedKeyValueBatch: Calling spill() on RowBasedKeyValueBatch. Will not spill but return 0.\n",
      "23/12/14 17:59:06 WARN RowBasedKeyValueBatch: Calling spill() on RowBasedKeyValueBatch. Will not spill but return 0.\n",
      "23/12/14 17:59:06 WARN RowBasedKeyValueBatch: Calling spill() on RowBasedKeyValueBatch. Will not spill but return 0.\n",
      "23/12/14 17:59:09 WARN RowBasedKeyValueBatch: Calling spill() on RowBasedKeyValueBatch. Will not spill but return 0.\n",
      "23/12/14 17:59:09 WARN RowBasedKeyValueBatch: Calling spill() on RowBasedKeyValueBatch. Will not spill but return 0.\n",
      "23/12/14 17:59:09 WARN RowBasedKeyValueBatch: Calling spill() on RowBasedKeyValueBatch. Will not spill but return 0.\n",
      "23/12/14 17:59:09 WARN RowBasedKeyValueBatch: Calling spill() on RowBasedKeyValueBatch. Will not spill but return 0.\n",
      "23/12/14 17:59:09 WARN RowBasedKeyValueBatch: Calling spill() on RowBasedKeyValueBatch. Will not spill but return 0.\n",
      "23/12/14 17:59:09 WARN RowBasedKeyValueBatch: Calling spill() on RowBasedKeyValueBatch. Will not spill but return 0.\n",
      "23/12/14 17:59:09 WARN RowBasedKeyValueBatch: Calling spill() on RowBasedKeyValueBatch. Will not spill but return 0.\n",
      "23/12/14 17:59:09 WARN RowBasedKeyValueBatch: Calling spill() on RowBasedKeyValueBatch. Will not spill but return 0.\n",
      "23/12/14 17:59:09 WARN RowBasedKeyValueBatch: Calling spill() on RowBasedKeyValueBatch. Will not spill but return 0.\n",
      "23/12/14 17:59:09 WARN RowBasedKeyValueBatch: Calling spill() on RowBasedKeyValueBatch. Will not spill but return 0.\n",
      "23/12/14 17:59:09 WARN RowBasedKeyValueBatch: Calling spill() on RowBasedKeyValueBatch. Will not spill but return 0.\n",
      "23/12/14 17:59:09 WARN RowBasedKeyValueBatch: Calling spill() on RowBasedKeyValueBatch. Will not spill but return 0.\n",
      "23/12/14 17:59:09 WARN RowBasedKeyValueBatch: Calling spill() on RowBasedKeyValueBatch. Will not spill but return 0.\n",
      "23/12/14 17:59:10 WARN RowBasedKeyValueBatch: Calling spill() on RowBasedKeyValueBatch. Will not spill but return 0.\n",
      "23/12/14 17:59:10 WARN RowBasedKeyValueBatch: Calling spill() on RowBasedKeyValueBatch. Will not spill but return 0.\n",
      "23/12/14 17:59:10 WARN RowBasedKeyValueBatch: Calling spill() on RowBasedKeyValueBatch. Will not spill but return 0.\n",
      "23/12/14 17:59:10 WARN RowBasedKeyValueBatch: Calling spill() on RowBasedKeyValueBatch. Will not spill but return 0.\n",
      "23/12/14 17:59:10 WARN RowBasedKeyValueBatch: Calling spill() on RowBasedKeyValueBatch. Will not spill but return 0.\n",
      "23/12/14 17:59:10 WARN RowBasedKeyValueBatch: Calling spill() on RowBasedKeyValueBatch. Will not spill but return 0.\n",
      "23/12/14 17:59:10 WARN RowBasedKeyValueBatch: Calling spill() on RowBasedKeyValueBatch. Will not spill but return 0.\n",
      "23/12/14 17:59:10 WARN RowBasedKeyValueBatch: Calling spill() on RowBasedKeyValueBatch. Will not spill but return 0.\n",
      "23/12/14 17:59:12 WARN RowBasedKeyValueBatch: Calling spill() on RowBasedKeyValueBatch. Will not spill but return 0.\n",
      "23/12/14 17:59:12 WARN RowBasedKeyValueBatch: Calling spill() on RowBasedKeyValueBatch. Will not spill but return 0.\n",
      "23/12/14 17:59:12 WARN RowBasedKeyValueBatch: Calling spill() on RowBasedKeyValueBatch. Will not spill but return 0.\n",
      "23/12/14 17:59:12 WARN RowBasedKeyValueBatch: Calling spill() on RowBasedKeyValueBatch. Will not spill but return 0.\n",
      "23/12/14 17:59:12 WARN RowBasedKeyValueBatch: Calling spill() on RowBasedKeyValueBatch. Will not spill but return 0.\n",
      "23/12/14 17:59:13 WARN RowBasedKeyValueBatch: Calling spill() on RowBasedKeyValueBatch. Will not spill but return 0.\n",
      "23/12/14 17:59:13 WARN RowBasedKeyValueBatch: Calling spill() on RowBasedKeyValueBatch. Will not spill but return 0.\n",
      "23/12/14 17:59:13 WARN RowBasedKeyValueBatch: Calling spill() on RowBasedKeyValueBatch. Will not spill but return 0.\n",
      "23/12/14 17:59:13 WARN RowBasedKeyValueBatch: Calling spill() on RowBasedKeyValueBatch. Will not spill but return 0.\n",
      "23/12/14 17:59:13 WARN RowBasedKeyValueBatch: Calling spill() on RowBasedKeyValueBatch. Will not spill but return 0.\n",
      "23/12/14 17:59:13 WARN RowBasedKeyValueBatch: Calling spill() on RowBasedKeyValueBatch. Will not spill but return 0.\n",
      "23/12/14 17:59:13 WARN RowBasedKeyValueBatch: Calling spill() on RowBasedKeyValueBatch. Will not spill but return 0.\n",
      "23/12/14 17:59:13 WARN RowBasedKeyValueBatch: Calling spill() on RowBasedKeyValueBatch. Will not spill but return 0.\n",
      "23/12/14 17:59:13 WARN RowBasedKeyValueBatch: Calling spill() on RowBasedKeyValueBatch. Will not spill but return 0.\n",
      "23/12/14 17:59:13 WARN RowBasedKeyValueBatch: Calling spill() on RowBasedKeyValueBatch. Will not spill but return 0.\n",
      "23/12/14 17:59:13 WARN RowBasedKeyValueBatch: Calling spill() on RowBasedKeyValueBatch. Will not spill but return 0.\n",
      "23/12/14 17:59:13 WARN RowBasedKeyValueBatch: Calling spill() on RowBasedKeyValueBatch. Will not spill but return 0.\n",
      "23/12/14 17:59:13 WARN RowBasedKeyValueBatch: Calling spill() on RowBasedKeyValueBatch. Will not spill but return 0.\n",
      "23/12/14 17:59:13 WARN RowBasedKeyValueBatch: Calling spill() on RowBasedKeyValueBatch. Will not spill but return 0.\n",
      "23/12/14 17:59:16 WARN RowBasedKeyValueBatch: Calling spill() on RowBasedKeyValueBatch. Will not spill but return 0.\n",
      "23/12/14 17:59:16 WARN RowBasedKeyValueBatch: Calling spill() on RowBasedKeyValueBatch. Will not spill but return 0.\n",
      "23/12/14 17:59:16 WARN RowBasedKeyValueBatch: Calling spill() on RowBasedKeyValueBatch. Will not spill but return 0.\n",
      "23/12/14 17:59:16 WARN RowBasedKeyValueBatch: Calling spill() on RowBasedKeyValueBatch. Will not spill but return 0.\n",
      "23/12/14 17:59:16 WARN RowBasedKeyValueBatch: Calling spill() on RowBasedKeyValueBatch. Will not spill but return 0.\n",
      "23/12/14 17:59:16 WARN RowBasedKeyValueBatch: Calling spill() on RowBasedKeyValueBatch. Will not spill but return 0.\n",
      "23/12/14 17:59:16 WARN RowBasedKeyValueBatch: Calling spill() on RowBasedKeyValueBatch. Will not spill but return 0.\n",
      "23/12/14 17:59:16 WARN RowBasedKeyValueBatch: Calling spill() on RowBasedKeyValueBatch. Will not spill but return 0.\n",
      "23/12/14 17:59:17 WARN RowBasedKeyValueBatch: Calling spill() on RowBasedKeyValueBatch. Will not spill but return 0.\n",
      "23/12/14 17:59:17 WARN RowBasedKeyValueBatch: Calling spill() on RowBasedKeyValueBatch. Will not spill but return 0.\n",
      "23/12/14 17:59:17 WARN RowBasedKeyValueBatch: Calling spill() on RowBasedKeyValueBatch. Will not spill but return 0.\n",
      "23/12/14 17:59:17 WARN RowBasedKeyValueBatch: Calling spill() on RowBasedKeyValueBatch. Will not spill but return 0.\n",
      "23/12/14 17:59:17 WARN RowBasedKeyValueBatch: Calling spill() on RowBasedKeyValueBatch. Will not spill but return 0.\n",
      "23/12/14 17:59:17 WARN RowBasedKeyValueBatch: Calling spill() on RowBasedKeyValueBatch. Will not spill but return 0.\n",
      "23/12/14 17:59:17 WARN RowBasedKeyValueBatch: Calling spill() on RowBasedKeyValueBatch. Will not spill but return 0.\n",
      "23/12/14 17:59:17 WARN RowBasedKeyValueBatch: Calling spill() on RowBasedKeyValueBatch. Will not spill but return 0.\n",
      "23/12/14 17:59:18 WARN RowBasedKeyValueBatch: Calling spill() on RowBasedKeyValueBatch. Will not spill but return 0.\n",
      "23/12/14 17:59:18 WARN RowBasedKeyValueBatch: Calling spill() on RowBasedKeyValueBatch. Will not spill but return 0.\n",
      "23/12/14 17:59:18 WARN RowBasedKeyValueBatch: Calling spill() on RowBasedKeyValueBatch. Will not spill but return 0.\n",
      "23/12/14 17:59:18 WARN RowBasedKeyValueBatch: Calling spill() on RowBasedKeyValueBatch. Will not spill but return 0.\n",
      "23/12/14 17:59:18 WARN RowBasedKeyValueBatch: Calling spill() on RowBasedKeyValueBatch. Will not spill but return 0.\n",
      "23/12/14 17:59:18 WARN RowBasedKeyValueBatch: Calling spill() on RowBasedKeyValueBatch. Will not spill but return 0.\n",
      "23/12/14 17:59:18 WARN RowBasedKeyValueBatch: Calling spill() on RowBasedKeyValueBatch. Will not spill but return 0.\n",
      "23/12/14 17:59:18 WARN RowBasedKeyValueBatch: Calling spill() on RowBasedKeyValueBatch. Will not spill but return 0.\n",
      "23/12/14 17:59:19 WARN RowBasedKeyValueBatch: Calling spill() on RowBasedKeyValueBatch. Will not spill but return 0.\n",
      "23/12/14 17:59:19 WARN RowBasedKeyValueBatch: Calling spill() on RowBasedKeyValueBatch. Will not spill but return 0.\n",
      "23/12/14 17:59:19 WARN RowBasedKeyValueBatch: Calling spill() on RowBasedKeyValueBatch. Will not spill but return 0.\n",
      "23/12/14 17:59:19 WARN RowBasedKeyValueBatch: Calling spill() on RowBasedKeyValueBatch. Will not spill but return 0.\n",
      "23/12/14 17:59:19 WARN RowBasedKeyValueBatch: Calling spill() on RowBasedKeyValueBatch. Will not spill but return 0.\n",
      "23/12/14 17:59:19 WARN RowBasedKeyValueBatch: Calling spill() on RowBasedKeyValueBatch. Will not spill but return 0.\n",
      "23/12/14 17:59:19 WARN RowBasedKeyValueBatch: Calling spill() on RowBasedKeyValueBatch. Will not spill but return 0.\n",
      "23/12/14 17:59:19 WARN RowBasedKeyValueBatch: Calling spill() on RowBasedKeyValueBatch. Will not spill but return 0.\n",
      "23/12/14 17:59:20 WARN RowBasedKeyValueBatch: Calling spill() on RowBasedKeyValueBatch. Will not spill but return 0.\n",
      "23/12/14 17:59:20 WARN RowBasedKeyValueBatch: Calling spill() on RowBasedKeyValueBatch. Will not spill but return 0.\n",
      "23/12/14 17:59:20 WARN RowBasedKeyValueBatch: Calling spill() on RowBasedKeyValueBatch. Will not spill but return 0.\n",
      "23/12/14 17:59:20 WARN RowBasedKeyValueBatch: Calling spill() on RowBasedKeyValueBatch. Will not spill but return 0.\n",
      "23/12/14 17:59:20 WARN RowBasedKeyValueBatch: Calling spill() on RowBasedKeyValueBatch. Will not spill but return 0.\n",
      "23/12/14 17:59:20 WARN RowBasedKeyValueBatch: Calling spill() on RowBasedKeyValueBatch. Will not spill but return 0.\n",
      "23/12/14 17:59:20 WARN RowBasedKeyValueBatch: Calling spill() on RowBasedKeyValueBatch. Will not spill but return 0.\n",
      "23/12/14 17:59:20 WARN RowBasedKeyValueBatch: Calling spill() on RowBasedKeyValueBatch. Will not spill but return 0.\n",
      "23/12/14 17:59:21 WARN RowBasedKeyValueBatch: Calling spill() on RowBasedKeyValueBatch. Will not spill but return 0.\n",
      "23/12/14 17:59:21 WARN RowBasedKeyValueBatch: Calling spill() on RowBasedKeyValueBatch. Will not spill but return 0.\n",
      "23/12/14 17:59:21 WARN RowBasedKeyValueBatch: Calling spill() on RowBasedKeyValueBatch. Will not spill but return 0.\n",
      "23/12/14 17:59:21 WARN RowBasedKeyValueBatch: Calling spill() on RowBasedKeyValueBatch. Will not spill but return 0.\n",
      "23/12/14 17:59:21 WARN RowBasedKeyValueBatch: Calling spill() on RowBasedKeyValueBatch. Will not spill but return 0.\n",
      "23/12/14 17:59:21 WARN RowBasedKeyValueBatch: Calling spill() on RowBasedKeyValueBatch. Will not spill but return 0.\n",
      "23/12/14 17:59:21 WARN RowBasedKeyValueBatch: Calling spill() on RowBasedKeyValueBatch. Will not spill but return 0.\n",
      "23/12/14 17:59:21 WARN RowBasedKeyValueBatch: Calling spill() on RowBasedKeyValueBatch. Will not spill but return 0.\n",
      "23/12/14 17:59:22 WARN RowBasedKeyValueBatch: Calling spill() on RowBasedKeyValueBatch. Will not spill but return 0.\n",
      "23/12/14 17:59:22 WARN RowBasedKeyValueBatch: Calling spill() on RowBasedKeyValueBatch. Will not spill but return 0.\n",
      "23/12/14 17:59:22 WARN RowBasedKeyValueBatch: Calling spill() on RowBasedKeyValueBatch. Will not spill but return 0.\n",
      "23/12/14 17:59:22 WARN RowBasedKeyValueBatch: Calling spill() on RowBasedKeyValueBatch. Will not spill but return 0.\n",
      "23/12/14 17:59:22 WARN RowBasedKeyValueBatch: Calling spill() on RowBasedKeyValueBatch. Will not spill but return 0.\n",
      "23/12/14 17:59:22 WARN RowBasedKeyValueBatch: Calling spill() on RowBasedKeyValueBatch. Will not spill but return 0.\n",
      "23/12/14 17:59:22 WARN RowBasedKeyValueBatch: Calling spill() on RowBasedKeyValueBatch. Will not spill but return 0.\n",
      "23/12/14 17:59:22 WARN RowBasedKeyValueBatch: Calling spill() on RowBasedKeyValueBatch. Will not spill but return 0.\n",
      "23/12/14 17:59:23 WARN RowBasedKeyValueBatch: Calling spill() on RowBasedKeyValueBatch. Will not spill but return 0.\n",
      "23/12/14 17:59:23 WARN RowBasedKeyValueBatch: Calling spill() on RowBasedKeyValueBatch. Will not spill but return 0.\n",
      "23/12/14 17:59:23 WARN RowBasedKeyValueBatch: Calling spill() on RowBasedKeyValueBatch. Will not spill but return 0.\n",
      "23/12/14 17:59:23 WARN RowBasedKeyValueBatch: Calling spill() on RowBasedKeyValueBatch. Will not spill but return 0.\n",
      "23/12/14 17:59:23 WARN RowBasedKeyValueBatch: Calling spill() on RowBasedKeyValueBatch. Will not spill but return 0.\n",
      "23/12/14 17:59:23 WARN RowBasedKeyValueBatch: Calling spill() on RowBasedKeyValueBatch. Will not spill but return 0.\n",
      "23/12/14 17:59:23 WARN RowBasedKeyValueBatch: Calling spill() on RowBasedKeyValueBatch. Will not spill but return 0.\n",
      "23/12/14 17:59:23 WARN RowBasedKeyValueBatch: Calling spill() on RowBasedKeyValueBatch. Will not spill but return 0.\n",
      "[Stage 45:===============================================>        (57 + 8) / 67]\r"
     ]
    },
    {
     "name": "stdout",
     "output_type": "stream",
     "text": [
      "Number of rows after dropping duplicates: 6990280\n"
     ]
    },
    {
     "name": "stderr",
     "output_type": "stream",
     "text": [
      "                                                                                \r"
     ]
    }
   ],
   "source": [
    "# Drop Null Values\n",
    "review_without_na = review.na.drop()\n",
    "num_rows_review_without_na = review_without_na.count()\n",
    "print(\"Number of rows after dropping null values: {}\".format(num_rows_review_without_na))\n",
    "\n",
    "# Drop duplicates\n",
    "review_clean = review_without_na.dropDuplicates()\n",
    "num_rows_review_clean = review_clean.count()\n",
    "print(\"Number of rows after dropping duplicates: {}\".format(num_rows_review_clean))\n"
   ]
  },
  {
   "cell_type": "markdown",
   "id": "1f016993",
   "metadata": {},
   "source": [
    "#### 3. Rename a column to avoid ambiguity"
   ]
  },
  {
   "cell_type": "code",
   "execution_count": 16,
   "id": "32ab656a",
   "metadata": {},
   "outputs": [
    {
     "name": "stdout",
     "output_type": "stream",
     "text": [
      "+--------------------+----+-------------------+-----+--------------------+---------------------+--------------------+------+--------------------+\n",
      "|         business_id|cool|               date|funny|           review_id|customer_review_stars|                text|useful|             user_id|\n",
      "+--------------------+----+-------------------+-----+--------------------+---------------------+--------------------+------+--------------------+\n",
      "|XQfwVwDr-v0ZS3_Cb...|   0|2018-07-07 22:09:11|    0|KU_O5udG6zpxOg-Vc...|                  3.0|If you decide to ...|     0|mh_-eMZ6K5RLWhZyI...|\n",
      "|7ATYjTIgM3jUlt4UM...|   1|2012-01-03 15:28:18|    0|BiTunyQ73aT9WBnpR...|                  5.0|I've taken a lot ...|     1|OyoGAe7OKpv6SyGZT...|\n",
      "|YjUWPpI6HXG530lwP...|   0|2014-02-05 20:30:30|    0|saUsX_uimxRlCVr67...|                  3.0|Family diner. Had...|     0|8g_iMtfSiwikVnbP2...|\n",
      "|kxX2SOes4o-D3ZQBk...|   1|2015-01-04 00:01:03|    0|AqPFMleE6RsU23_au...|                  5.0|Wow!  Yummy, diff...|     1|_7bHUi9Uuf5__HHc_...|\n",
      "|e4Vwtrqf-wpJfwesg...|   1|2017-01-14 20:54:15|    0|Sx8TMOWLNuJBWer-0...|                  4.0|Cute interior and...|     1|bcjbaE6dDog4jkNY9...|\n",
      "+--------------------+----+-------------------+-----+--------------------+---------------------+--------------------+------+--------------------+\n",
      "only showing top 5 rows\n",
      "\n"
     ]
    }
   ],
   "source": [
    "# Rename the star column to avoid confusion with the star column in business dataset\n",
    "review_final = review.withColumnRenamed('stars', 'customer_review_stars')\n",
    "review_final.show(5)"
   ]
  },
  {
   "cell_type": "markdown",
   "id": "e79f6b2b",
   "metadata": {},
   "source": [
    "#### 4. Observe the timespan for our review dataset"
   ]
  },
  {
   "cell_type": "code",
   "execution_count": 17,
   "id": "babb944d",
   "metadata": {},
   "outputs": [
    {
     "name": "stderr",
     "output_type": "stream",
     "text": [
      "[Stage 50:============================================>           (32 + 8) / 40]\r"
     ]
    },
    {
     "name": "stdout",
     "output_type": "stream",
     "text": [
      "+-------------------+-------------------+\n",
      "|max_date           |min_date           |\n",
      "+-------------------+-------------------+\n",
      "|2022-01-19 19:48:45|2005-02-16 03:23:22|\n",
      "+-------------------+-------------------+\n",
      "\n"
     ]
    },
    {
     "name": "stderr",
     "output_type": "stream",
     "text": [
      "                                                                                \r"
     ]
    }
   ],
   "source": [
    "# Find the maximum and minimum dates\n",
    "date_stats = review_final.agg(expr(\"max(date)\").alias(\"max_date\"), expr(\"min(date)\").alias(\"min_date\"))\n",
    "\n",
    "# Show the maximum and minimum dates\n",
    "date_stats.show(truncate=False)"
   ]
  },
  {
   "cell_type": "markdown",
   "id": "7520cc2d",
   "metadata": {},
   "source": [
    "#### 5. Select reviews made in recent 3 years"
   ]
  },
  {
   "cell_type": "code",
   "execution_count": 18,
   "id": "f54419d3",
   "metadata": {},
   "outputs": [
    {
     "name": "stderr",
     "output_type": "stream",
     "text": [
      "                                                                                \r"
     ]
    },
    {
     "data": {
      "text/plain": [
       "2068468"
      ]
     },
     "execution_count": 18,
     "metadata": {},
     "output_type": "execute_result"
    }
   ],
   "source": [
    "# Convert the 'date' column to a DateType\n",
    "review_final = review_final.withColumn(\"date\", col(\"date\").cast(\"date\"))\n",
    "\n",
    "# Filter the DataFrame for the recent 3 years (of the dataset)\n",
    "recent_3_years_df = review_final.filter(col(\"date\") >= (expr(\"date '2022-01-19'\") - expr(\"INTERVAL 3 YEARS\")))\n",
    "\n",
    "recent_3_years_df.count()"
   ]
  },
  {
   "cell_type": "code",
   "execution_count": 19,
   "id": "84303c09",
   "metadata": {},
   "outputs": [
    {
     "name": "stderr",
     "output_type": "stream",
     "text": [
      "[Stage 56:============================================>           (32 + 8) / 40]\r"
     ]
    },
    {
     "name": "stdout",
     "output_type": "stream",
     "text": [
      "+----------+----------+\n",
      "|max_date  |min_date  |\n",
      "+----------+----------+\n",
      "|2022-01-19|2019-01-19|\n",
      "+----------+----------+\n",
      "\n"
     ]
    },
    {
     "name": "stderr",
     "output_type": "stream",
     "text": [
      "                                                                                \r"
     ]
    }
   ],
   "source": [
    "# Find the maximum and minimum dates\n",
    "date_stats2 = recent_3_years_df.agg(expr(\"max(date)\").alias(\"max_date\"), expr(\"min(date)\").alias(\"min_date\"))\n",
    "\n",
    "# Show the maximum and minimum dates\n",
    "date_stats2.show(truncate=False)"
   ]
  },
  {
   "cell_type": "markdown",
   "id": "5f5d36e0",
   "metadata": {},
   "source": [
    "## c. Join Two Datasets"
   ]
  },
  {
   "cell_type": "markdown",
   "id": "bdc0cf92",
   "metadata": {},
   "source": [
    "#### 1.Combine Datasets"
   ]
  },
  {
   "cell_type": "code",
   "execution_count": 21,
   "id": "25e9eb15",
   "metadata": {},
   "outputs": [
    {
     "name": "stderr",
     "output_type": "stream",
     "text": [
      "[Stage 62:============================================>           (32 + 8) / 40]\r"
     ]
    },
    {
     "name": "stdout",
     "output_type": "stream",
     "text": [
      "Number of rows after merge: 135433\n"
     ]
    },
    {
     "name": "stderr",
     "output_type": "stream",
     "text": [
      "                                                                                \r"
     ]
    }
   ],
   "source": [
    "df = restaurants_in_Philadelphia.join(recent_3_years_df, on='business_id', how='inner')\n",
    "print(\"Number of rows after merge: {}\".format(df.count()))"
   ]
  },
  {
   "cell_type": "code",
   "execution_count": 22,
   "id": "b8e29590",
   "metadata": {},
   "outputs": [
    {
     "name": "stderr",
     "output_type": "stream",
     "text": [
      "[Stage 66:=====================================================>  (38 + 2) / 40]\r"
     ]
    },
    {
     "name": "stdout",
     "output_type": "stream",
     "text": [
      "+--------------------+---------------+--------------------+--------------------+------------+--------------------+-------+----------+-----------+------------------+-----------+------------+-----+-----+----+----------+-----+--------------------+---------------------+--------------------+------+--------------------+\n",
      "|         business_id|        address|          attributes|          categories|        city|               hours|is_open|  latitude|  longitude|              name|postal_code|review_count|stars|state|cool|      date|funny|           review_id|customer_review_stars|                text|useful|             user_id|\n",
      "+--------------------+---------------+--------------------+--------------------+------------+--------------------+-------+----------+-----------+------------------+-----------+------------+-----+-----+----+----------+-----+--------------------+---------------------+--------------------+------+--------------------+\n",
      "|RI33oswGDkIsc0fuQ...| 2654 S 10th St|{NULL, NULL, u'no...|Restaurants, Chee...|Philadelphia|{0:0-0:0, 0:0-0:0...|      1|  39.91579|-75.1653879|     Oregon Steaks|      19148|         184|  3.5|   PA|   0|2019-08-06|    0|ItCwIOnSxJFp_hHjq...|                  5.0|after several ppl...|     0|VUFb5monKirGUv7o9...|\n",
      "|RI33oswGDkIsc0fuQ...| 2654 S 10th St|{NULL, NULL, u'no...|Restaurants, Chee...|Philadelphia|{0:0-0:0, 0:0-0:0...|      1|  39.91579|-75.1653879|     Oregon Steaks|      19148|         184|  3.5|   PA|   0|2019-06-01|    1|ptdsEHzE61HKn_vqf...|                  4.0|The cheeseburgers...|     1|s_iMmN729A58i9sk4...|\n",
      "|4i1to26tzHGWDpquE...|3152 N Broad St|{NULL, NULL, 'bee...|Breakfast & Brunc...|Philadelphia|{6:0-14:30, 6:0-1...|      1|40.0014002| -75.153227|   Lee's Breakfast|      19132|          10|  4.0|   PA|   0|2019-05-22|    0|WcG6K3A7IP6vS9aZV...|                  5.0|They got good gru...|     0|qPCaHNNtYs_or8ZFA...|\n",
      "|MTSW4McQd7CbVtyjq...|    935 Race St|{NULL, NULL, u'no...|Restaurants, Food...|Philadelphia|{7:0-21:0, 7:0-20...|      1|39.9555052|-75.1555641|St Honore Pastries|      19107|          80|  4.0|   PA|   2|2020-03-18|    0|FpQ0osfFoRn6SlIpu...|                  5.0|We have tried man...|     1|Te3BwftEFN8C9WxIm...|\n",
      "|MTSW4McQd7CbVtyjq...|    935 Race St|{NULL, NULL, u'no...|Restaurants, Food...|Philadelphia|{7:0-21:0, 7:0-20...|      1|39.9555052|-75.1555641|St Honore Pastries|      19107|          80|  4.0|   PA|   0|2019-05-22|    0|k_9lzCaFMiv4xlIDZ...|                  5.0|I can only commen...|     1|X7cade4By6ENDk54g...|\n",
      "+--------------------+---------------+--------------------+--------------------+------------+--------------------+-------+----------+-----------+------------------+-----------+------------+-----+-----+----+----------+-----+--------------------+---------------------+--------------------+------+--------------------+\n",
      "only showing top 5 rows\n",
      "\n"
     ]
    },
    {
     "name": "stderr",
     "output_type": "stream",
     "text": [
      "                                                                                \r"
     ]
    }
   ],
   "source": [
    "df.show(5)"
   ]
  },
  {
   "cell_type": "markdown",
   "id": "7eb9cb6d",
   "metadata": {},
   "source": [
    "## d. English Only"
   ]
  },
  {
   "cell_type": "code",
   "execution_count": 23,
   "id": "0c93d7c4",
   "metadata": {},
   "outputs": [
    {
     "name": "stderr",
     "output_type": "stream",
     "text": [
      "                                                                                \r"
     ]
    },
    {
     "data": {
      "text/plain": [
       "135230"
      ]
     },
     "execution_count": 23,
     "metadata": {},
     "output_type": "execute_result"
    }
   ],
   "source": [
    "# Function to detect language using langid\n",
    "def detect_language(text):\n",
    "    lang, _ = langid.classify(text)\n",
    "    return lang\n",
    "\n",
    "language_detector = udf(detect_language, StringType())\n",
    "\n",
    "# Apply the detect_language function to the 'text' column\n",
    "df = df.withColumn('language', language_detector(F.col('text')))\n",
    "\n",
    "# Filter rows where the language is English ('en')\n",
    "english_df = df.filter(F.col('language')=='en')\n",
    "\n",
    "\n",
    "english_df.count()"
   ]
  },
  {
   "cell_type": "markdown",
   "id": "84ee854a",
   "metadata": {},
   "source": [
    "## e. Businesses more than 10 reviews "
   ]
  },
  {
   "cell_type": "code",
   "execution_count": 31,
   "id": "3a457b5f",
   "metadata": {},
   "outputs": [
    {
     "name": "stderr",
     "output_type": "stream",
     "text": [
      "[Stage 82:=>(22 + 8) / 40][Stage 84:>   (0 + 0) / 2][Stage 85:>   (0 + 0) / 2]0]\r"
     ]
    }
   ],
   "source": [
    "counts_df = english_df.groupBy('business_id').count()\n",
    "filtered_counts_df = counts_df.filter(F.col('count') > 10)\n",
    "more_than_10_df = english_df.join(filtered_counts_df, 'business_id')\n",
    "more_than_10_df.show()\n"
   ]
  },
  {
   "cell_type": "code",
   "execution_count": 10,
   "id": "ab2f8a6c",
   "metadata": {},
   "outputs": [],
   "source": [
    "more_than_10_df.to_json('/Users/celine/Desktop/5430nlp/group/English_Only_More_than_10_reviews.json', orient='records', lines=True)"
   ]
  }
 ],
 "metadata": {
  "celltoolbar": "Raw Cell Format",
  "kernelspec": {
   "display_name": "Python 3 (ipykernel)",
   "language": "python",
   "name": "python3"
  },
  "language_info": {
   "codemirror_mode": {
    "name": "ipython",
    "version": 3
   },
   "file_extension": ".py",
   "mimetype": "text/x-python",
   "name": "python",
   "nbconvert_exporter": "python",
   "pygments_lexer": "ipython3",
   "version": "3.11.6"
  }
 },
 "nbformat": 4,
 "nbformat_minor": 5
}
