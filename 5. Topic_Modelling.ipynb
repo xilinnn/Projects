{
 "cells": [
  {
   "cell_type": "code",
   "execution_count": 1,
   "id": "30db950f",
   "metadata": {},
   "outputs": [],
   "source": [
    "import json\n",
    "import pandas as pd\n",
    "from pyspark.sql import SparkSession, Window\n",
    "import pyspark.sql.functions as F\n",
    "from pyspark.sql.functions import col, count, desc,concat_ws\n",
    "from pyspark.sql.functions import udf\n",
    "from pyspark.sql.types import BooleanType, StringType\n",
    "from langdetect import detect\n"
   ]
  },
  {
   "cell_type": "code",
   "execution_count": 2,
   "id": "cf2afa0d",
   "metadata": {},
   "outputs": [
    {
     "name": "stderr",
     "output_type": "stream",
     "text": [
      "Setting default log level to \"WARN\".\n",
      "To adjust logging level use sc.setLogLevel(newLevel). For SparkR, use setLogLevel(newLevel).\n",
      "23/12/14 19:08:07 WARN NativeCodeLoader: Unable to load native-hadoop library for your platform... using builtin-java classes where applicable\n",
      "23/12/14 19:08:08 WARN Utils: Service 'SparkUI' could not bind on port 4040. Attempting port 4041.\n"
     ]
    },
    {
     "name": "stderr",
     "output_type": "stream",
     "text": [
      "23/12/14 19:08:23 WARN GarbageCollectionMetrics: To enable non-built-in garbage collector(s) List(G1 Concurrent GC), users should configure it(them) to spark.eventLog.gcMetrics.youngGenerationGarbageCollectors or spark.eventLog.gcMetrics.oldGenerationGarbageCollectors\n"
     ]
    }
   ],
   "source": [
    "spark = SparkSession.builder.getOrCreate()"
   ]
  },
  {
   "cell_type": "code",
   "execution_count": 3,
   "id": "7aac4b43",
   "metadata": {},
   "outputs": [
    {
     "name": "stderr",
     "output_type": "stream",
     "text": [
      "                                                                                \r"
     ]
    }
   ],
   "source": [
    "# Read the dataset in Spark\n",
    "df = spark.read.json('/Users/celine/Desktop/5430nlp/group/deduplicated_reviews.json')"
   ]
  },
  {
   "cell_type": "code",
   "execution_count": 5,
   "id": "01e01f12",
   "metadata": {},
   "outputs": [
    {
     "name": "stdout",
     "output_type": "stream",
     "text": [
      "+--------------+--------------------+--------------------+--------------------+------------+----+---------------------+----------+-----+--------------------+-------+--------+--------+-----------+-------------+-----------+------------+---------+-----+-----+--------------------+------+--------------------+\n",
      "|       address|          attributes|         business_id|          categories|        city|cool|customer_review_stars|      date|funny|               hours|is_open|language|latitude|  longitude|         name|postal_code|review_count|review_id|stars|state|                text|useful|             user_id|\n",
      "+--------------+--------------------+--------------------+--------------------+------------+----+---------------------+----------+-----+--------------------+-------+--------+--------+-----------+-------------+-----------+------------+---------+-----+-----+--------------------+------+--------------------+\n",
      "|2654 S 10th St|Row(AcceptsInsura...|RI33oswGDkIsc0fuQ...|Restaurants, Chee...|Philadelphia|   0|                  5.0|2019-08-06|    0|Row(Friday='0:0-0...|      1|      en|39.91579|-75.1653879|Oregon Steaks|      19148|         184|        0|  3.5|   PA|after several ppl...|     0|VUFb5monKirGUv7o9...|\n",
      "|2654 S 10th St|Row(AcceptsInsura...|RI33oswGDkIsc0fuQ...|Restaurants, Chee...|Philadelphia|   0|                  4.0|2019-06-01|    1|Row(Friday='0:0-0...|      1|      en|39.91579|-75.1653879|Oregon Steaks|      19148|         184|        1|  3.5|   PA|The cheeseburgers...|     1|s_iMmN729A58i9sk4...|\n",
      "|2654 S 10th St|Row(AcceptsInsura...|RI33oswGDkIsc0fuQ...|Restaurants, Chee...|Philadelphia|   1|                  4.0|2019-07-20|    1|Row(Friday='0:0-0...|      1|      en|39.91579|-75.1653879|Oregon Steaks|      19148|         184|      953|  3.5|   PA|In my humble opin...|     2|_i3uTqtUfyVZDryKz...|\n",
      "|2654 S 10th St|Row(AcceptsInsura...|RI33oswGDkIsc0fuQ...|Restaurants, Chee...|Philadelphia|   0|                  3.0|2019-12-04|    0|Row(Friday='0:0-0...|      1|      en|39.91579|-75.1653879|Oregon Steaks|      19148|         184|      955|  3.5|   PA|Overall this plac...|     0|EO4goAgwcbaRx3x-e...|\n",
      "|2654 S 10th St|Row(AcceptsInsura...|RI33oswGDkIsc0fuQ...|Restaurants, Chee...|Philadelphia|   0|                  4.0|2019-11-14|    0|Row(Friday='0:0-0...|      1|      en|39.91579|-75.1653879|Oregon Steaks|      19148|         184|      956|  3.5|   PA|Perfect place for...|     0|kV3YVK6v8GSggxeBC...|\n",
      "+--------------+--------------------+--------------------+--------------------+------------+----+---------------------+----------+-----+--------------------+-------+--------+--------+-----------+-------------+-----------+------------+---------+-----+-----+--------------------+------+--------------------+\n",
      "only showing top 5 rows\n",
      "\n"
     ]
    }
   ],
   "source": [
    "df.show(5)"
   ]
  },
  {
   "cell_type": "code",
   "execution_count": 8,
   "id": "59a804cf",
   "metadata": {},
   "outputs": [
    {
     "name": "stdout",
     "output_type": "stream",
     "text": [
      "+--------------------+-------------+-----+--------------+------------+-----------+--------------------+\n",
      "|         business_id|         name|stars|       address|        city|postal_code|                text|\n",
      "+--------------------+-------------+-----+--------------+------------+-----------+--------------------+\n",
      "|RI33oswGDkIsc0fuQ...|Oregon Steaks|  3.5|2654 S 10th St|Philadelphia|      19148|after several ppl...|\n",
      "|RI33oswGDkIsc0fuQ...|Oregon Steaks|  3.5|2654 S 10th St|Philadelphia|      19148|The cheeseburgers...|\n",
      "|RI33oswGDkIsc0fuQ...|Oregon Steaks|  3.5|2654 S 10th St|Philadelphia|      19148|In my humble opin...|\n",
      "|RI33oswGDkIsc0fuQ...|Oregon Steaks|  3.5|2654 S 10th St|Philadelphia|      19148|Overall this plac...|\n",
      "|RI33oswGDkIsc0fuQ...|Oregon Steaks|  3.5|2654 S 10th St|Philadelphia|      19148|Perfect place for...|\n",
      "+--------------------+-------------+-----+--------------+------------+-----------+--------------------+\n",
      "only showing top 5 rows\n",
      "\n"
     ]
    }
   ],
   "source": [
    "# select related columns\n",
    "df = df.select('business_id', 'name', 'stars', 'address', 'city', 'postal_code', 'text')\n",
    "df.show(5)"
   ]
  },
  {
   "cell_type": "code",
   "execution_count": 9,
   "id": "d962b1a8",
   "metadata": {},
   "outputs": [
    {
     "ename": "NameError",
     "evalue": "name 'concat_ws' is not defined",
     "output_type": "error",
     "traceback": [
      "\u001b[0;31m---------------------------------------------------------------------------\u001b[0m",
      "\u001b[0;31mNameError\u001b[0m                                 Traceback (most recent call last)",
      "Cell \u001b[0;32mIn[9], line 2\u001b[0m\n\u001b[1;32m      1\u001b[0m \u001b[38;5;66;03m# combine reviews together for each business\u001b[39;00m\n\u001b[0;32m----> 2\u001b[0m combined_reviews_df \u001b[38;5;241m=\u001b[39m df\u001b[38;5;241m.\u001b[39mgroupBy(\u001b[38;5;124m'\u001b[39m\u001b[38;5;124mbusiness_id\u001b[39m\u001b[38;5;124m'\u001b[39m)\u001b[38;5;241m.\u001b[39magg(\u001b[43mconcat_ws\u001b[49m(\u001b[38;5;124m\"\u001b[39m\u001b[38;5;124m \u001b[39m\u001b[38;5;124m\"\u001b[39m, collect_list(col(\u001b[38;5;124m'\u001b[39m\u001b[38;5;124mtext\u001b[39m\u001b[38;5;124m'\u001b[39m)))\u001b[38;5;241m.\u001b[39malias(\u001b[38;5;124m'\u001b[39m\u001b[38;5;124mcombined_reviews\u001b[39m\u001b[38;5;124m'\u001b[39m))\n\u001b[1;32m      3\u001b[0m combined_reviews_df,show(\u001b[38;5;241m5\u001b[39m)\n",
      "\u001b[0;31mNameError\u001b[0m: name 'concat_ws' is not defined"
     ]
    }
   ],
   "source": [
    "# combine reviews together for each business\n",
    "combined_reviews_df = df.groupBy('business_id').agg(concat_ws(\" \", collect_list(col('text'))).alias('combined_reviews'))\n",
    "combined_reviews_df,show(5)"
   ]
  },
  {
   "cell_type": "markdown",
   "id": "42d36002",
   "metadata": {},
   "source": [
    "# Data cleaning"
   ]
  },
  {
   "cell_type": "code",
   "execution_count": 7,
   "id": "779a3ca1",
   "metadata": {},
   "outputs": [
    {
     "name": "stdout",
     "output_type": "stream",
     "text": [
      "                 business_id                             name  stars  \\\n",
      "0     RI33oswGDkIsc0fuQ8GzjA                    Oregon Steaks    3.5   \n",
      "1     MTSW4McQd7CbVtyjqoe9mw               St Honore Pastries    4.0   \n",
      "2     GmJDCmDhtKbjofeO35yBrw  The Freshworks of Port Richmond    4.5   \n",
      "3     y1HgVnt4K5owmYXC5yXLGg      Flambo Caribbean Restaurant    4.5   \n",
      "4     DOl21AqtT74dUZ3kvXNNcA                  Golden Triangle    4.5   \n",
      "...                      ...                              ...    ...   \n",
      "2271  Mj0eEQNzeL3kSPwSH8yRVA                          Buccann    3.5   \n",
      "2272  8OoLxv91ztELwzfvG26xjA   Taste Queen Chinese Restaurant    3.5   \n",
      "2273  NyH11DJUjiGIrSq7n8IDSQ                     ACME Markets    2.5   \n",
      "2274  6CpCnFzpyOV4ymhNP1AOGw               Tamalex Restaurant    4.5   \n",
      "2275  NQn2fIomrrMXXUxZXH99YA                         Rox Cafe    2.5   \n",
      "\n",
      "                address          city  postal_code  \\\n",
      "0        2654 S 10th St  Philadelphia        19148   \n",
      "1           935 Race St  Philadelphia        19107   \n",
      "2      2634 Belgrade St  Philadelphia        19125   \n",
      "3        820 N Broad St  Philadelphia        19130   \n",
      "4          610 S 5th St  Philadelphia        19147   \n",
      "...                 ...           ...          ...   \n",
      "2271    7254 Castor Ave  Philadelphia        19149   \n",
      "2272  9347 Krewstown Rd  Philadelphia        19115   \n",
      "2273      29 Snyder Ave  Philadelphia        19148   \n",
      "2274      1163 S 7th St  Philadelphia        19147   \n",
      "2275  5134 Rochelle Ave  Philadelphia        19128   \n",
      "\n",
      "                                                   text  \n",
      "0     after several ppl telling me to order from thi...  \n",
      "1     We have tried many of the bakeries in Chinatow...  \n",
      "2     OMG.  Terrible. I've given them 3 chances.  \\n...  \n",
      "3     One word.... excellent. I am a HUGE foodie. I ...  \n",
      "4     Amazing food ! Everything is authentic on the ...  \n",
      "...                                                 ...  \n",
      "2271  Really enjoyed Bucann! My family and I loved t...  \n",
      "2272  There is no ambiance to speak of at Taste Quee...  \n",
      "2273  You may want to avoid this place because the f...  \n",
      "2274  Went here for a Friday night around 6pm - plac...  \n",
      "2275  The owner gave us an old menu with old prices ...  \n",
      "\n",
      "[2276 rows x 7 columns]\n"
     ]
    }
   ],
   "source": [
    "columns_to_keep = ['business_id', 'name', 'stars', 'address', 'city', 'postal_code', 'text']\n",
    "df = df[columns_to_keep]\n",
    "\n",
    "#combine all the reviews together\n",
    "combined_text = df.groupby('business_id')['text'].apply(' '.join).reset_index()\n",
    "\n",
    "# Merging the aggregated 'text' with the original data based on 'name'\n",
    "df = pd.merge(df.drop('text', axis=1).drop_duplicates(subset=['business_id']), combined_text, on='business_id')\n",
    "\n",
    "# Printing the resulting DataFrame\n",
    "print(df)"
   ]
  },
  {
   "cell_type": "code",
   "execution_count": 8,
   "id": "2f1a224c",
   "metadata": {},
   "outputs": [
    {
     "name": "stderr",
     "output_type": "stream",
     "text": [
      "[nltk_data] Downloading package punkt to /Users/shining/nltk_data...\n",
      "[nltk_data]   Package punkt is already up-to-date!\n",
      "[nltk_data] Downloading package averaged_perceptron_tagger to\n",
      "[nltk_data]     /Users/shining/nltk_data...\n",
      "[nltk_data]   Package averaged_perceptron_tagger is already up-to-\n",
      "[nltk_data]       date!\n",
      "[nltk_data] Downloading package wordnet to /Users/shining/nltk_data...\n",
      "[nltk_data]   Package wordnet is already up-to-date!\n"
     ]
    }
   ],
   "source": [
    "import pandas as pd\n",
    "import nltk\n",
    "from nltk.tokenize import word_tokenize\n",
    "from nltk.corpus import wordnet\n",
    "from nltk.stem import WordNetLemmatizer\n",
    "\n",
    "\n",
    "# Step 1: Convert 'text' column to lowercase\n",
    "df['text'] = df['text'].str.lower()\n",
    "\n",
    "# Step 2: Remove specified words from 'text' column\n",
    "words_to_remove = ['bite', 'bit', 'restaurant', 'business', 'dish', 'meal', 'wait', 'waiter', 'waitress', 'favorite',\n",
    "                   'person', 'manager', 'size', 'point', 'husband', 'dine', 'course', 'home', 'ice', 'item', 'line',\n",
    "                   'location', 'owner', 'portion', 'selection', 'server', 'service', 'food', 'street', 'table',\n",
    "                   'taste', 'friend', 'plate', 'bowl', 'water', 'week', 'weekend', 'space', 'room', 'friend']\n",
    "for word in words_to_remove:\n",
    "    df['text'] = df['text'].str.replace(r'\\b' + word + r'\\b', '', regex=True)\n",
    "\n",
    "# Step 3: Tokenize and lemmatize, keeping only nouns\n",
    "nltk.download('punkt')\n",
    "nltk.download('averaged_perceptron_tagger')\n",
    "nltk.download('wordnet')\n",
    "\n",
    "lemmatizer = WordNetLemmatizer()\n",
    "def get_wordnet_pos(word):\n",
    "    tag = nltk.pos_tag([word])[0][1][0].upper()\n",
    "    tag_dict = {\"J\": wordnet.ADJ,\n",
    "                \"N\": wordnet.NOUN,\n",
    "                \"V\": wordnet.VERB,\n",
    "                \"R\": wordnet.ADV}\n",
    "    return tag_dict.get(tag, wordnet.NOUN)\n",
    "\n",
    "def lemmatize_text(text):\n",
    "    tokens = word_tokenize(text)\n",
    "    lemmatized_tokens = [lemmatizer.lemmatize(token, get_wordnet_pos(token)) for token in tokens]\n",
    "    nouns = [token for token, pos in nltk.pos_tag(lemmatized_tokens) if pos.startswith('N')]\n",
    "    return ' '.join(nouns)\n",
    "\n",
    "df['text'] = df['text'].apply(lemmatize_text)\n",
    "\n",
    "# Step 4: Create clusters\n",
    "def get_cluster(text):\n",
    "    if 'japanese' in text:\n",
    "        return 'japanese'\n",
    "    elif 'pizza' in text:\n",
    "        return 'pizza'\n",
    "    elif 'burger' in text:\n",
    "        return 'burger'\n",
    "    elif 'korean' in text:\n",
    "        return 'korean'\n",
    "    elif 'italian' in text:\n",
    "        return 'italian'\n",
    "    elif 'american' in text:\n",
    "        return 'american'\n",
    "    elif 'chinese' in text:\n",
    "        return 'chinese'\n",
    "    elif 'vegan' in text:\n",
    "        return 'vegan'\n",
    "    elif 'thai' in text:\n",
    "        return 'thai'\n",
    "    else:\n",
    "        return 'others'\n",
    "\n",
    "df['cluster'] = df['text'].apply(get_cluster)"
   ]
  },
  {
   "cell_type": "code",
   "execution_count": 9,
   "id": "6d738f6a",
   "metadata": {},
   "outputs": [
    {
     "name": "stdout",
     "output_type": "stream",
     "text": [
      "                 business_id                             name  stars  \\\n",
      "0     RI33oswGDkIsc0fuQ8GzjA                    Oregon Steaks    3.5   \n",
      "1     MTSW4McQd7CbVtyjqoe9mw               St Honore Pastries    4.0   \n",
      "2     GmJDCmDhtKbjofeO35yBrw  The Freshworks of Port Richmond    4.5   \n",
      "3     y1HgVnt4K5owmYXC5yXLGg      Flambo Caribbean Restaurant    4.5   \n",
      "4     DOl21AqtT74dUZ3kvXNNcA                  Golden Triangle    4.5   \n",
      "...                      ...                              ...    ...   \n",
      "2271  Mj0eEQNzeL3kSPwSH8yRVA                          Buccann    3.5   \n",
      "2272  8OoLxv91ztELwzfvG26xjA   Taste Queen Chinese Restaurant    3.5   \n",
      "2273  NyH11DJUjiGIrSq7n8IDSQ                     ACME Markets    2.5   \n",
      "2274  6CpCnFzpyOV4ymhNP1AOGw               Tamalex Restaurant    4.5   \n",
      "2275  NQn2fIomrrMXXUxZXH99YA                         Rox Cafe    2.5   \n",
      "\n",
      "                address          city  postal_code  \\\n",
      "0        2654 S 10th St  Philadelphia        19148   \n",
      "1           935 Race St  Philadelphia        19107   \n",
      "2      2634 Belgrade St  Philadelphia        19125   \n",
      "3        820 N Broad St  Philadelphia        19130   \n",
      "4          610 S 5th St  Philadelphia        19147   \n",
      "...                 ...           ...          ...   \n",
      "2271    7254 Castor Ave  Philadelphia        19149   \n",
      "2272  9347 Krewstown Rd  Philadelphia        19115   \n",
      "2273      29 Snyder Ave  Philadelphia        19148   \n",
      "2274      1163 S 7th St  Philadelphia        19147   \n",
      "2275  5134 Rochelle Ave  Philadelphia        19128   \n",
      "\n",
      "                                                   text  cluster  \n",
      "0     ppl order place i thru order cutlet cheese i p...    pizza  \n",
      "1     bakery chinatown beleive one quality pastry de...   others  \n",
      "2     omg chance nothing perogies frozen grocery sho...   others  \n",
      "3     word excellent i foodie i restaurant travel ea...  chinese  \n",
      "4     amaze everything menu .. byob delivery time .....     thai  \n",
      "...                                                 ...      ...  \n",
      "2271  bucann family i chicken empanadas disappoint b...   others  \n",
      "2272  ambiance queen while someone order order come ...  chinese  \n",
      "2273  place waste money burn manager staff money but...   others  \n",
      "2274  night place star place super cheap staff feel ...   others  \n",
      "2275  u menu price price look receipt item price pri...   others  \n",
      "\n",
      "[2276 rows x 8 columns]\n"
     ]
    }
   ],
   "source": [
    "print(df)"
   ]
  },
  {
   "cell_type": "code",
   "execution_count": 10,
   "id": "a39e60a1",
   "metadata": {},
   "outputs": [
    {
     "name": "stdout",
     "output_type": "stream",
     "text": [
      "cluster\n",
      "others      782\n",
      "pizza       615\n",
      "burger      437\n",
      "vegan       136\n",
      "thai         81\n",
      "american     67\n",
      "chinese      63\n",
      "italian      50\n",
      "japanese     23\n",
      "korean       22\n",
      "Name: count, dtype: int64\n"
     ]
    }
   ],
   "source": [
    "cluster_counts = df['cluster'].value_counts()\n",
    "print(cluster_counts)"
   ]
  },
  {
   "cell_type": "code",
   "execution_count": 11,
   "id": "18391b3e",
   "metadata": {},
   "outputs": [],
   "source": [
    "df.to_csv('processed_data.csv')"
   ]
  },
  {
   "cell_type": "markdown",
   "id": "e84aef74",
   "metadata": {},
   "source": [
    "# Topic modelling"
   ]
  },
  {
   "cell_type": "code",
   "execution_count": null,
   "id": "9b071c55",
   "metadata": {},
   "outputs": [],
   "source": [
    "#!pip install -U sklearn\n",
    "#!pip install -U pyLDAvis"
   ]
  },
  {
   "cell_type": "code",
   "execution_count": 12,
   "id": "c2a5a7ff",
   "metadata": {},
   "outputs": [],
   "source": [
    "from sklearn.decomposition import LatentDirichletAllocation\n",
    "from sklearn.feature_extraction.text import CountVectorizer\n",
    "from sklearn.model_selection import GridSearchCV"
   ]
  },
  {
   "cell_type": "code",
   "execution_count": 18,
   "id": "c6a01a2c",
   "metadata": {},
   "outputs": [],
   "source": [
    "param_grid = {\n",
    "    'n_components': [5, 10, 15],  # Try different numbers of topics\n",
    "    'learning_method': ['batch', 'online'],\n",
    "    'max_iter': [100, 500, 1000] \n",
    "    # Add other parameters to the grid\n",
    "}\n",
    "\n",
    "# Create CountVectorizer instance\n",
    "tf_vectorizer = CountVectorizer(strip_accents='unicode', \n",
    "                                stop_words='english',\n",
    "                                lowercase=True,\n",
    "                                max_features=100,\n",
    "                                token_pattern=r'\\b[a-zA-Z]{3,}\\b',\n",
    "                                max_df=0.7,\n",
    "                                min_df=100,\n",
    "                                ngram_range=(1, 3))\n",
    "\n",
    "# Transform the text data\n",
    "tf = tf_vectorizer.fit_transform(df['text'])"
   ]
  },
  {
   "cell_type": "code",
   "execution_count": 19,
   "id": "69c16709",
   "metadata": {},
   "outputs": [
    {
     "name": "stdout",
     "output_type": "stream",
     "text": [
      "Fitting 5 folds for each of 18 candidates, totalling 90 fits\n",
      "[CV] END learning_method=batch, max_iter=100, n_components=5; total time=  30.1s\n",
      "[CV] END learning_method=batch, max_iter=100, n_components=15; total time=  41.5s\n",
      "[CV] END learning_method=batch, max_iter=500, n_components=5; total time= 2.9min\n",
      "[CV] END learning_method=batch, max_iter=500, n_components=15; total time= 3.1min\n",
      "[CV] END learning_method=batch, max_iter=1000, n_components=10; total time= 5.8min\n",
      "[CV] END learning_method=batch, max_iter=1000, n_components=15; total time= 6.1min\n",
      "[CV] END learning_method=online, max_iter=500, n_components=10; total time= 3.1min\n",
      "[CV] END learning_method=online, max_iter=500, n_components=15; total time= 3.5min\n",
      "[CV] END learning_method=online, max_iter=1000, n_components=10; total time= 5.9min\n",
      "[CV] END learning_method=batch, max_iter=100, n_components=10; total time=  34.2s\n",
      "[CV] END learning_method=batch, max_iter=100, n_components=15; total time=  38.0s\n",
      "[CV] END learning_method=batch, max_iter=500, n_components=10; total time= 2.9min\n",
      "[CV] END learning_method=batch, max_iter=500, n_components=15; total time= 2.9min\n",
      "[CV] END learning_method=batch, max_iter=1000, n_components=10; total time= 5.6min\n",
      "[CV] END learning_method=batch, max_iter=1000, n_components=15; total time= 6.5min\n",
      "[CV] END learning_method=online, max_iter=500, n_components=10; total time= 3.0min\n",
      "[CV] END learning_method=online, max_iter=1000, n_components=5; total time= 5.3min\n",
      "[CV] END learning_method=online, max_iter=1000, n_components=10; total time= 5.5min\n",
      "[CV] END learning_method=batch, max_iter=100, n_components=10; total time=  35.6s\n",
      "[CV] END learning_method=batch, max_iter=100, n_components=15; total time=  43.8s\n",
      "[CV] END learning_method=batch, max_iter=500, n_components=10; total time= 3.0min\n",
      "[CV] END learning_method=batch, max_iter=1000, n_components=5; total time= 4.8min\n",
      "[CV] END learning_method=batch, max_iter=1000, n_components=10; total time= 5.8min\n",
      "[CV] END learning_method=online, max_iter=100, n_components=5; total time=  34.0s\n",
      "[CV] END learning_method=online, max_iter=100, n_components=10; total time=  38.0s\n",
      "[CV] END learning_method=online, max_iter=100, n_components=10; total time=  37.0s\n",
      "[CV] END learning_method=online, max_iter=100, n_components=15; total time=  45.2s\n",
      "[CV] END learning_method=online, max_iter=500, n_components=5; total time= 2.7min\n",
      "[CV] END learning_method=online, max_iter=500, n_components=10; total time= 2.9min\n",
      "[CV] END learning_method=online, max_iter=1000, n_components=5; total time= 5.1min\n",
      "[CV] END learning_method=online, max_iter=1000, n_components=10; total time= 5.5min\n",
      "[CV] END learning_method=batch, max_iter=100, n_components=5; total time=  29.9s\n",
      "[CV] END learning_method=batch, max_iter=100, n_components=15; total time=  43.0s\n",
      "[CV] END learning_method=batch, max_iter=500, n_components=10; total time= 2.8min\n",
      "[CV] END learning_method=batch, max_iter=500, n_components=15; total time= 3.2min\n",
      "[CV] END learning_method=batch, max_iter=1000, n_components=10; total time= 5.9min\n",
      "[CV] END learning_method=online, max_iter=100, n_components=5; total time=  33.8s\n",
      "[CV] END learning_method=online, max_iter=100, n_components=5; total time=  31.9s\n",
      "[CV] END learning_method=online, max_iter=100, n_components=5; total time=  31.6s\n",
      "[CV] END learning_method=online, max_iter=100, n_components=5; total time=  34.1s\n",
      "[CV] END learning_method=online, max_iter=100, n_components=10; total time=  35.1s\n",
      "[CV] END learning_method=online, max_iter=100, n_components=10; total time=  37.7s\n",
      "[CV] END learning_method=online, max_iter=100, n_components=10; total time=  37.5s\n",
      "[CV] END learning_method=online, max_iter=100, n_components=15; total time=  41.9s\n",
      "[CV] END learning_method=online, max_iter=500, n_components=5; total time= 2.7min\n",
      "[CV] END learning_method=online, max_iter=500, n_components=10; total time= 3.1min\n",
      "[CV] END learning_method=online, max_iter=1000, n_components=5; total time= 5.0min\n",
      "[CV] END learning_method=online, max_iter=1000, n_components=15; total time= 5.7min\n",
      "[CV] END learning_method=batch, max_iter=100, n_components=5; total time=  29.3s\n",
      "[CV] END learning_method=batch, max_iter=100, n_components=10; total time=  36.3s\n",
      "[CV] END learning_method=batch, max_iter=500, n_components=5; total time= 2.8min\n",
      "[CV] END learning_method=batch, max_iter=500, n_components=15; total time= 3.0min\n",
      "[CV] END learning_method=batch, max_iter=1000, n_components=5; total time= 4.9min\n",
      "[CV] END learning_method=batch, max_iter=1000, n_components=15; total time= 5.6min\n",
      "[CV] END learning_method=online, max_iter=100, n_components=15; total time=  43.1s\n",
      "[CV] END learning_method=online, max_iter=500, n_components=5; total time= 2.6min\n",
      "[CV] END learning_method=online, max_iter=500, n_components=15; total time= 3.2min\n",
      "[CV] END learning_method=online, max_iter=1000, n_components=5; total time= 5.4min\n",
      "[CV] END learning_method=online, max_iter=1000, n_components=15; total time= 5.4min\n",
      "[CV] END learning_method=batch, max_iter=100, n_components=10; total time=  37.3s\n",
      "[CV] END learning_method=batch, max_iter=500, n_components=5; total time= 2.9min\n",
      "[CV] END learning_method=batch, max_iter=500, n_components=10; total time= 2.9min\n",
      "[CV] END learning_method=batch, max_iter=1000, n_components=5; total time= 4.9min\n",
      "[CV] END learning_method=batch, max_iter=1000, n_components=10; total time= 5.9min\n",
      "[CV] END learning_method=online, max_iter=100, n_components=15; total time=  42.9s\n",
      "[CV] END learning_method=online, max_iter=500, n_components=5; total time= 2.8min\n",
      "[CV] END learning_method=online, max_iter=500, n_components=15; total time= 3.1min\n",
      "[CV] END learning_method=online, max_iter=1000, n_components=5; total time= 5.7min\n",
      "[CV] END learning_method=online, max_iter=1000, n_components=15; total time= 5.4min\n",
      "[CV] END learning_method=batch, max_iter=100, n_components=5; total time=  30.3s\n",
      "[CV] END learning_method=batch, max_iter=100, n_components=15; total time=  38.5s\n",
      "[CV] END learning_method=batch, max_iter=500, n_components=5; total time= 2.5min\n",
      "[CV] END learning_method=batch, max_iter=500, n_components=15; total time= 3.3min\n",
      "[CV] END learning_method=batch, max_iter=1000, n_components=5; total time= 5.0min\n",
      "[CV] END learning_method=batch, max_iter=1000, n_components=15; total time= 6.1min\n",
      "[CV] END learning_method=online, max_iter=500, n_components=5; total time= 2.8min\n",
      "[CV] END learning_method=online, max_iter=500, n_components=15; total time= 3.1min\n",
      "[CV] END learning_method=online, max_iter=1000, n_components=10; total time= 5.9min\n",
      "[CV] END learning_method=online, max_iter=1000, n_components=15; total time= 5.5min\n",
      "[CV] END learning_method=batch, max_iter=100, n_components=5; total time=  28.7s\n",
      "[CV] END learning_method=batch, max_iter=100, n_components=10; total time=  36.2s\n",
      "[CV] END learning_method=batch, max_iter=500, n_components=5; total time= 2.5min\n",
      "[CV] END learning_method=batch, max_iter=500, n_components=10; total time= 2.9min\n",
      "[CV] END learning_method=batch, max_iter=1000, n_components=5; total time= 5.3min\n",
      "[CV] END learning_method=batch, max_iter=1000, n_components=15; total time= 5.6min\n",
      "[CV] END learning_method=online, max_iter=100, n_components=15; total time=  40.3s\n",
      "[CV] END learning_method=online, max_iter=500, n_components=10; total time= 3.0min\n",
      "[CV] END learning_method=online, max_iter=500, n_components=15; total time= 3.5min\n",
      "[CV] END learning_method=online, max_iter=1000, n_components=10; total time= 5.8min\n",
      "[CV] END learning_method=online, max_iter=1000, n_components=15; total time= 5.0min\n",
      "   param_n_components param_learning_method param_max_iter  perplexity\n",
      "0                   5                 batch            100   63.818685\n",
      "1                  10                 batch            100   54.784939\n",
      "2                  15                 batch            100   50.844120\n",
      "3                   5                 batch            500   63.344262\n",
      "4                  10                 batch            500   54.305759\n",
      "5                  15                 batch            500   50.986125\n",
      "6                   5                 batch           1000   63.334036\n",
      "7                  10                 batch           1000   53.797876\n",
      "8                  15                 batch           1000   51.278315\n",
      "9                   5                online            100   63.818977\n",
      "10                 10                online            100   54.175251\n",
      "11                 15                online            100   51.701996\n",
      "12                  5                online            500   65.300576\n",
      "13                 10                online            500   55.146106\n",
      "14                 15                online            500   51.041768\n",
      "15                  5                online           1000   63.635787\n",
      "16                 10                online           1000   54.394320\n",
      "17                 15                online           1000   51.498879\n",
      "{'learning_method': 'online', 'max_iter': 1000, 'n_components': 15}\n"
     ]
    }
   ],
   "source": [
    "from gensim.models import CoherenceModel\n",
    "\n",
    "# Create LDA model\n",
    "lda = LatentDirichletAllocation()\n",
    "\n",
    "# GridSearchCV for parameter tuning\n",
    "grid_search = GridSearchCV(lda, param_grid=param_grid, cv=5, n_jobs=-1, verbose=2)\n",
    "grid_search.fit(tf)  \n",
    "\n",
    "# Get the results as a DataFrame\n",
    "results = pd.DataFrame(grid_search.cv_results_)\n",
    "\n",
    "# Calculate perplexity for each parameter combination\n",
    "perplexities = []\n",
    "for params in grid_search.cv_results_['params']:\n",
    "    lda_model = LatentDirichletAllocation(**params)\n",
    "    lda_model.fit(tf)\n",
    "    perplexity = lda_model.perplexity(tf)\n",
    "    perplexities.append(perplexity)\n",
    "\n",
    "# Add perplexity scores to the results DataFrame\n",
    "results['perplexity'] = perplexities\n",
    "\n",
    "# Display the table with perplexity scores for each parameter combination\n",
    "print(results[['param_n_components', 'param_learning_method', 'param_max_iter', 'perplexity']])\n",
    "\n",
    "# Best parameters\n",
    "print(grid_search.best_params_)"
   ]
  },
  {
   "cell_type": "code",
   "execution_count": 20,
   "id": "4485a81b",
   "metadata": {},
   "outputs": [
    {
     "data": {
      "text/html": [
       "<style>#sk-container-id-1 {color: black;}#sk-container-id-1 pre{padding: 0;}#sk-container-id-1 div.sk-toggleable {background-color: white;}#sk-container-id-1 label.sk-toggleable__label {cursor: pointer;display: block;width: 100%;margin-bottom: 0;padding: 0.3em;box-sizing: border-box;text-align: center;}#sk-container-id-1 label.sk-toggleable__label-arrow:before {content: \"▸\";float: left;margin-right: 0.25em;color: #696969;}#sk-container-id-1 label.sk-toggleable__label-arrow:hover:before {color: black;}#sk-container-id-1 div.sk-estimator:hover label.sk-toggleable__label-arrow:before {color: black;}#sk-container-id-1 div.sk-toggleable__content {max-height: 0;max-width: 0;overflow: hidden;text-align: left;background-color: #f0f8ff;}#sk-container-id-1 div.sk-toggleable__content pre {margin: 0.2em;color: black;border-radius: 0.25em;background-color: #f0f8ff;}#sk-container-id-1 input.sk-toggleable__control:checked~div.sk-toggleable__content {max-height: 200px;max-width: 100%;overflow: auto;}#sk-container-id-1 input.sk-toggleable__control:checked~label.sk-toggleable__label-arrow:before {content: \"▾\";}#sk-container-id-1 div.sk-estimator input.sk-toggleable__control:checked~label.sk-toggleable__label {background-color: #d4ebff;}#sk-container-id-1 div.sk-label input.sk-toggleable__control:checked~label.sk-toggleable__label {background-color: #d4ebff;}#sk-container-id-1 input.sk-hidden--visually {border: 0;clip: rect(1px 1px 1px 1px);clip: rect(1px, 1px, 1px, 1px);height: 1px;margin: -1px;overflow: hidden;padding: 0;position: absolute;width: 1px;}#sk-container-id-1 div.sk-estimator {font-family: monospace;background-color: #f0f8ff;border: 1px dotted black;border-radius: 0.25em;box-sizing: border-box;margin-bottom: 0.5em;}#sk-container-id-1 div.sk-estimator:hover {background-color: #d4ebff;}#sk-container-id-1 div.sk-parallel-item::after {content: \"\";width: 100%;border-bottom: 1px solid gray;flex-grow: 1;}#sk-container-id-1 div.sk-label:hover label.sk-toggleable__label {background-color: #d4ebff;}#sk-container-id-1 div.sk-serial::before {content: \"\";position: absolute;border-left: 1px solid gray;box-sizing: border-box;top: 0;bottom: 0;left: 50%;z-index: 0;}#sk-container-id-1 div.sk-serial {display: flex;flex-direction: column;align-items: center;background-color: white;padding-right: 0.2em;padding-left: 0.2em;position: relative;}#sk-container-id-1 div.sk-item {position: relative;z-index: 1;}#sk-container-id-1 div.sk-parallel {display: flex;align-items: stretch;justify-content: center;background-color: white;position: relative;}#sk-container-id-1 div.sk-item::before, #sk-container-id-1 div.sk-parallel-item::before {content: \"\";position: absolute;border-left: 1px solid gray;box-sizing: border-box;top: 0;bottom: 0;left: 50%;z-index: -1;}#sk-container-id-1 div.sk-parallel-item {display: flex;flex-direction: column;z-index: 1;position: relative;background-color: white;}#sk-container-id-1 div.sk-parallel-item:first-child::after {align-self: flex-end;width: 50%;}#sk-container-id-1 div.sk-parallel-item:last-child::after {align-self: flex-start;width: 50%;}#sk-container-id-1 div.sk-parallel-item:only-child::after {width: 0;}#sk-container-id-1 div.sk-dashed-wrapped {border: 1px dashed gray;margin: 0 0.4em 0.5em 0.4em;box-sizing: border-box;padding-bottom: 0.4em;background-color: white;}#sk-container-id-1 div.sk-label label {font-family: monospace;font-weight: bold;display: inline-block;line-height: 1.2em;}#sk-container-id-1 div.sk-label-container {text-align: center;}#sk-container-id-1 div.sk-container {/* jupyter's `normalize.less` sets `[hidden] { display: none; }` but bootstrap.min.css set `[hidden] { display: none !important; }` so we also need the `!important` here to be able to override the default hidden behavior on the sphinx rendered scikit-learn.org. See: https://github.com/scikit-learn/scikit-learn/issues/21755 */display: inline-block !important;position: relative;}#sk-container-id-1 div.sk-text-repr-fallback {display: none;}</style><div id=\"sk-container-id-1\" class=\"sk-top-container\"><div class=\"sk-text-repr-fallback\"><pre>LatentDirichletAllocation(learning_method=&#x27;online&#x27;, max_iter=1000,\n",
       "                          n_components=15, random_state=28474460)</pre><b>In a Jupyter environment, please rerun this cell to show the HTML representation or trust the notebook. <br />On GitHub, the HTML representation is unable to render, please try loading this page with nbviewer.org.</b></div><div class=\"sk-container\" hidden><div class=\"sk-item\"><div class=\"sk-estimator sk-toggleable\"><input class=\"sk-toggleable__control sk-hidden--visually\" id=\"sk-estimator-id-1\" type=\"checkbox\" checked><label for=\"sk-estimator-id-1\" class=\"sk-toggleable__label sk-toggleable__label-arrow\">LatentDirichletAllocation</label><div class=\"sk-toggleable__content\"><pre>LatentDirichletAllocation(learning_method=&#x27;online&#x27;, max_iter=1000,\n",
       "                          n_components=15, random_state=28474460)</pre></div></div></div></div></div>"
      ],
      "text/plain": [
       "LatentDirichletAllocation(learning_method='online', max_iter=1000,\n",
       "                          n_components=15, random_state=28474460)"
      ]
     },
     "execution_count": 20,
     "metadata": {},
     "output_type": "execute_result"
    }
   ],
   "source": [
    "#best LDA model\n",
    "lda_tf = LatentDirichletAllocation(n_components=15, \n",
    "                                   max_iter=1000,\n",
    "                                   learning_method='online', \n",
    "                                   random_state = 28474460)\n",
    "lda_tf.fit(tf)"
   ]
  },
  {
   "cell_type": "code",
   "execution_count": 74,
   "id": "c4b9cd69",
   "metadata": {},
   "outputs": [
    {
     "name": "stdout",
     "output_type": "stream",
     "text": [
      "Number of features is: 100\n",
      "First 10 features: ['amaze' 'ambiance' 'appetizer' 'bagel' 'bar' 'bartender' 'beef' 'beer'\n",
      " 'bread' 'breakfast']\n"
     ]
    }
   ],
   "source": [
    "#Examine the LDA features\n",
    "tf_feature_names = tf_vectorizer.get_feature_names_out()\n",
    "\n",
    "print('Number of features is:', len(tf_feature_names))\n",
    "print('First 10 features:', tf_feature_names[:10])"
   ]
  },
  {
   "cell_type": "code",
   "execution_count": 32,
   "id": "56aa2c01",
   "metadata": {},
   "outputs": [
    {
     "data": {
      "text/html": [
       "\n",
       "<link rel=\"stylesheet\" type=\"text/css\" href=\"https://cdn.jsdelivr.net/gh/bmabey/pyLDAvis@3.4.0/pyLDAvis/js/ldavis.v1.0.0.css\">\n",
       "\n",
       "\n",
       "<div id=\"ldavis_el68337108479081603277018588\" style=\"background-color:white;\"></div>\n",
       "<script type=\"text/javascript\">\n",
       "\n",
       "var ldavis_el68337108479081603277018588_data = {\"mdsDat\": {\"x\": [-0.04173027815957954, -0.1149791562568722, 0.14234232295925536, -0.0040758505218350645, -0.08661421878284763, 0.14063126292633887, -0.011769091148107598, 0.06581067610553801, -0.2002517611515149, -0.07819000112716909, -0.26104470111726563, 0.14729854223028457, 0.03825621151789597, 0.1697968326984698, 0.09451920982740918], \"y\": [-0.0913843855514513, -0.18213316586506487, -0.04247488689837111, 0.2250870987034311, 0.035354280706775765, -0.050296897455464014, 0.08946027294035416, 0.22263717956561652, -0.14131086062407872, 0.1194064274273359, 0.05260900421835182, -0.09741454727176319, -0.04249916076874123, -0.01774973953681166, -0.0792906195901184], \"topics\": [1, 2, 3, 4, 5, 6, 7, 8, 9, 10, 11, 12, 13, 14, 15], \"cluster\": [1, 1, 1, 1, 1, 1, 1, 1, 1, 1, 1, 1, 1, 1, 1], \"Freq\": [19.447498339598255, 12.063811017722532, 8.13574359952233, 7.9462832512682295, 7.762936535524077, 6.056316958793832, 5.477812833925761, 5.454614046694836, 5.267751941668342, 4.970538718280338, 4.61660474923894, 4.003973341734748, 3.578779166588647, 3.3623548795522797, 1.8549806198868484]}, \"tinfo\": {\"Term\": [\"pizza\", \"roll\", \"taco\", \"fry\", \"coffee\", \"sandwich\", \"burger\", \"pork\", \"rice\", \"bar\", \"sushi\", \"shrimp\", \"ramen\", \"cheesesteak\", \"drink\", \"steak\", \"soup\", \"beer\", \"cream\", \"tea\", \"crab\", \"meat\", \"brunch\", \"breakfast\", \"cake\", \"beef\", \"bun\", \"seafood\", \"egg\", \"bagel\", \"pasta\", \"wine\", \"reservation\", \"dessert\", \"appetizer\", \"dinner\", \"ambiance\", \"din\", \"chef\", \"date\", \"week\", \"cocktail\", \"mushroom\", \"share\", \"restaurant\", \"dish\", \"bread\", \"night\", \"salad\", \"end\", \"party\", \"grill\", \"amaze\", \"room\", \"potato\", \"group\", \"chocolate\", \"steak\", \"portion\", \"space\", \"seat\", \"drink\", \"friend\", \"cheese\", \"cake\", \"bar\", \"visit\", \"beer\", \"bartender\", \"bar\", \"drink\", \"cocktail\", \"room\", \"vibe\", \"group\", \"friend\", \"space\", \"party\", \"night\", \"table\", \"seat\", \"wing\", \"couple\", \"weekend\", \"door\", \"ambiance\", \"come\", \"date\", \"money\", \"visit\", \"end\", \"neighborhood\", \"variety\", \"fan\", \"wait\", \"house\", \"wine\", \"philadelphia\", \"dinner\", \"appetizer\", \"reservation\", \"week\", \"rice\", \"spice\", \"spicy\", \"dish\", \"crispy\", \"portion\", \"restaurant\", \"pepper\", \"shrimp\", \"lunch\", \"beef\", \"appetizer\", \"delivery\", \"fry\", \"fan\", \"season\", \"eat\", \"try\", \"piece\", \"tea\", \"item\", \"share\", \"group\", \"amaze\", \"come\", \"friend\", \"onion\", \"chef\", \"couple\", \"dinner\", \"night\", \"family\", \"egg\", \"cheesesteak\", \"steak\", \"sandwich\", \"onion\", \"pepper\", \"bread\", \"meat\", \"cheese\", \"mushroom\", \"philadelphia\", \"roll\", \"season\", \"grill\", \"fry\", \"shop\", \"door\", \"wait\", \"money\", \"hand\", \"visit\", \"slice\", \"try\", \"eat\", \"family\", \"today\", \"beef\", \"fan\", \"bun\", \"couple\", \"amaze\", \"seat\", \"lunch\", \"night\", \"toast\", \"brunch\", \"breakfast\", \"egg\", \"potato\", \"weekend\", \"portion\", \"coffee\", \"wait\", \"lunch\", \"seat\", \"today\", \"item\", \"table\", \"come\", \"bread\", \"chip\", \"visit\", \"neighborhood\", \"eat\", \"choice\", \"vibe\", \"share\", \"amaze\", \"friend\", \"party\", \"space\", \"pepper\", \"sandwich\", \"group\", \"cheese\", \"salad\", \"fry\", \"drink\", \"pork\", \"soup\", \"beef\", \"meat\", \"house\", \"grill\", \"hand\", \"variety\", \"slice\", \"mushroom\", \"family\", \"eat\", \"item\", \"choice\", \"come\", \"lunch\", \"bun\", \"philadelphia\", \"group\", \"visit\", \"table\", \"dish\", \"end\", \"friend\", \"weekend\", \"party\", \"spicy\", \"try\", \"door\", \"restaurant\", \"egg\", \"roll\", \"share\", \"seat\", \"dinner\", \"store\", \"delivery\", \"wing\", \"today\", \"salad\", \"money\", \"item\", \"wait\", \"door\", \"neighborhood\", \"family\", \"potato\", \"hand\", \"week\", \"piece\", \"try\", \"cheese\", \"lunch\", \"variety\", \"meat\", \"eat\", \"season\", \"portion\", \"choice\", \"end\", \"shop\", \"bread\", \"house\", \"couple\", \"philadelphia\", \"visit\", \"come\", \"night\", \"burger\", \"fry\", \"wing\", \"sandwich\", \"crispy\", \"bun\", \"onion\", \"season\", \"salad\", \"cheese\", \"potato\", \"grill\", \"lunch\", \"spicy\", \"piece\", \"fan\", \"neighborhood\", \"eat\", \"visit\", \"mushroom\", \"pie\", \"today\", \"choice\", \"try\", \"house\", \"spice\", \"table\", \"dinner\", \"din\", \"hand\", \"seat\", \"amaze\", \"drink\", \"roll\", \"tea\", \"cream\", \"cake\", \"chocolate\", \"dessert\", \"shop\", \"store\", \"variety\", \"drink\", \"pie\", \"chip\", \"fan\", \"hand\", \"try\", \"item\", \"philadelphia\", \"today\", \"visit\", \"piece\", \"choice\", \"friend\", \"door\", \"weekend\", \"family\", \"share\", \"slice\", \"amaze\", \"end\", \"couple\", \"money\", \"seat\", \"coffee\", \"week\", \"night\", \"pizza\", \"pie\", \"slice\", \"delivery\", \"mushroom\", \"cheese\", \"crispy\", \"shop\", \"neighborhood\", \"hand\", \"pepper\", \"fan\", \"onion\", \"family\", \"try\", \"eat\", \"salad\", \"wait\", \"couple\", \"night\", \"money\", \"week\", \"pasta\", \"house\", \"philadelphia\", \"piece\", \"weekend\", \"choice\", \"spicy\", \"today\", \"visit\", \"seat\", \"friend\", \"bagel\", \"coffee\", \"shop\", \"breakfast\", \"space\", \"sandwich\", \"neighborhood\", \"cheese\", \"cream\", \"vibe\", \"chocolate\", \"today\", \"variety\", \"store\", \"seat\", \"weekend\", \"table\", \"visit\", \"egg\", \"house\", \"door\", \"couple\", \"fan\", \"philadelphia\", \"bread\", \"drink\", \"try\", \"choice\", \"tea\", \"hand\", \"item\", \"lunch\", \"week\", \"sushi\", \"roll\", \"piece\", \"chef\", \"lunch\", \"spicy\", \"soup\", \"delivery\", \"shrimp\", \"crab\", \"variety\", \"date\", \"rice\", \"salad\", \"neighborhood\", \"appetizer\", \"amaze\", \"dinner\", \"couple\", \"restaurant\", \"hand\", \"come\", \"choice\", \"philadelphia\", \"din\", \"night\", \"eat\", \"try\", \"door\", \"ambiance\", \"week\", \"item\", \"seat\", \"tea\", \"taco\", \"chip\", \"shrimp\", \"onion\", \"fan\", \"chef\", \"steak\", \"restaurant\", \"season\", \"portion\", \"eat\", \"meat\", \"neighborhood\", \"try\", \"amaze\", \"house\", \"lunch\", \"pork\", \"come\", \"vibe\", \"spicy\", \"hand\", \"spice\", \"table\", \"din\", \"share\", \"night\", \"rice\", \"choice\", \"weekend\", \"friend\", \"seat\", \"drink\", \"cheese\", \"dinner\", \"week\", \"beef\", \"visit\", \"crab\", \"seafood\", \"shrimp\", \"season\", \"cake\", \"potato\", \"fry\", \"money\", \"house\", \"family\", \"wait\", \"come\", \"try\", \"choice\", \"grill\", \"soup\", \"today\", \"eat\", \"visit\", \"party\", \"door\", \"amaze\", \"hand\", \"piece\", \"week\", \"pepper\", \"weekend\", \"dinner\", \"night\", \"roll\", \"friend\", \"meat\", \"drink\", \"ramen\", \"bun\", \"pork\", \"spicy\", \"egg\", \"appetizer\", \"crispy\", \"spice\", \"choice\", \"seat\", \"table\", \"shop\", \"fan\", \"try\", \"wait\", \"piece\", \"lunch\", \"soup\", \"space\", \"today\", \"end\", \"slice\", \"neighborhood\", \"door\", \"philadelphia\", \"mushroom\", \"hand\", \"weekend\", \"share\", \"tea\", \"meat\", \"eat\", \"night\", \"visit\", \"bar\", \"friend\"], \"Freq\": [15639.0, 9869.0, 6959.0, 14666.0, 8759.0, 13162.0, 6575.0, 8042.0, 8306.0, 13127.0, 4984.0, 6716.0, 3668.0, 5842.0, 16464.0, 8395.0, 7223.0, 7614.0, 7085.0, 6097.0, 3908.0, 10830.0, 5433.0, 5896.0, 5717.0, 6420.0, 3189.0, 3218.0, 6859.0, 3234.0, 3902.6099729348916, 3602.6946463493823, 5973.1454972682195, 4924.387577600073, 3343.962995549656, 6744.718663757687, 2022.3376159909396, 2824.1970328438256, 1892.2652582540634, 1965.970668996745, 2966.3008516728737, 2355.7323959462415, 1594.3104132161973, 2078.9724196129478, 1811.5215844305965, 2232.749384199683, 3432.1114450889036, 4926.485508897166, 3625.4687433912673, 1193.9677586215653, 1593.5661895861035, 1112.887760382572, 1518.6092115418135, 1206.8382521387289, 1570.9960848834205, 1193.00631227882, 1229.0795672052702, 2272.959993239227, 1224.153280525115, 1144.5181361734935, 2395.7830353167487, 2481.7644777100813, 1439.5511987088407, 1591.8673910907435, 1328.8341825972957, 1540.6558984876094, 1257.6734324059987, 7346.587821904211, 3199.5877632981415, 10823.856273812564, 9889.385544583594, 2688.8906589748763, 1745.4639754420084, 1690.4381103559967, 1526.5712085305115, 2365.145388525379, 1382.3858543564227, 1401.932426736977, 3707.651980629743, 1055.7486243990563, 2548.257356999007, 784.8631284035149, 615.3472348438432, 643.0847102201756, 619.612356563185, 565.3763681927643, 795.1469456155214, 534.8180192460793, 558.7394108822185, 1024.0916238111477, 442.5701389351124, 545.4433151118245, 432.11229129014697, 431.72461853391576, 367.40004136782903, 418.3143809091418, 450.7271431212744, 491.00923478456815, 815.5079937456419, 513.659141859882, 584.0231202710969, 481.9065209611902, 7601.32379777603, 2110.9927488399526, 4107.435498021224, 2339.96996815608, 1081.431107983954, 1363.5612092259553, 1102.2637409573945, 870.9915763712562, 1478.2886199014213, 1415.2728211136432, 1162.5120018570926, 857.5166287990925, 854.1376889139979, 2358.43744034279, 501.3227662086253, 654.740304418208, 681.5952223280266, 721.7281399674296, 516.6429086050372, 723.6355847855716, 566.5941880701678, 493.7990583578079, 454.0349112657999, 456.0967897900793, 461.03688137324946, 691.0637995674979, 452.53881075532934, 303.30050167816563, 298.8460239619048, 994.2782461939676, 988.5889605173224, 428.3327489271766, 525.0217412929899, 5818.251297383931, 5506.15110622346, 7710.0047080024715, 2248.400663784473, 1282.5637221625122, 2497.6702520874246, 2950.685106959484, 2595.1680282887683, 565.1248833500629, 718.7600328572732, 1428.9367111149186, 589.2362880858598, 400.31227687076506, 1536.9212793491135, 376.9692144147334, 323.9828821873402, 279.0648590489639, 317.69682146072864, 389.40952526062586, 514.0777863605874, 300.2824452942341, 378.1863800578767, 347.13529477952557, 355.5866375525955, 234.7818877424783, 426.7848211791796, 206.6741136091104, 194.0951038799663, 167.04371239493415, 240.17151455220102, 520.1385468779022, 359.8003352601038, 350.0893049951963, 3636.984192888356, 4961.360659541002, 4926.536320011637, 4720.035783102472, 1459.3875848782595, 751.4763187844169, 742.3069178663205, 1356.877714369029, 451.8805692698993, 1095.8902798941808, 1429.7432960436058, 442.13221912580207, 581.4828705142188, 442.28307846101956, 491.7928302114127, 845.1148859036564, 351.63442444361783, 661.4419082008843, 386.57700118813744, 474.38968060310907, 358.9222446732744, 360.47319349277984, 417.7406382141497, 402.91736784425945, 571.3039267452657, 359.4517740693624, 353.60399198977814, 291.4339845807941, 986.7543201220739, 320.62838023041917, 615.308248291418, 550.4258784900807, 448.05375453586714, 362.9832591164086, 6312.60415652303, 5581.589163440654, 4179.813047923445, 4407.985394471805, 733.7432674776678, 551.328795636823, 679.845687205958, 497.56771093020046, 502.6877703571814, 449.2216797737897, 618.228670515232, 514.0830393455981, 530.7867815726572, 349.03473349083043, 367.5311903263428, 527.1781199242464, 223.26479814483915, 321.64218230050926, 287.47070729867556, 408.2643561093388, 247.30992741749844, 318.4329523885388, 185.14228495233542, 412.7817259037901, 186.0250025996799, 244.46196895740482, 379.42921478140977, 269.5787685179282, 170.86952272671778, 212.2886687749583, 332.810766634304, 313.0628241627472, 217.55559036882443, 257.6341624748707, 249.00887772018444, 2336.5601336772215, 3098.605115788661, 1931.519884075999, 1107.1276671014962, 2870.0414679761975, 988.2912849841246, 1216.0544607179168, 625.6276336165071, 655.250762730134, 684.9240511938805, 806.0275266514252, 824.6267833866161, 604.904677659951, 867.5507483228154, 519.0536267347987, 676.8938055444328, 1303.7845190584414, 943.4491622101256, 403.34272977091774, 1225.2467072447346, 509.02976934005113, 439.7781542178438, 408.3187794588543, 320.3454542808675, 262.09036278632027, 306.5231612396183, 661.9098392902207, 300.45837683411946, 234.85061804453144, 343.2302926883367, 399.4084875432381, 288.19816335518993, 306.1039890245739, 6575.012975706115, 8196.427524725037, 878.7008968887071, 2580.9801875924927, 615.9645528354063, 581.7033240233342, 718.8031627779874, 529.4818902388656, 1095.4941400937419, 1110.5790878002617, 557.9226944811556, 285.6146956696236, 669.3562312834042, 597.3790313205592, 266.1943918558217, 216.17928929778105, 233.61872161973326, 257.35450710526504, 334.40215178593036, 179.3577554495356, 145.68454292381622, 151.89866620727278, 157.04968773713384, 210.26555581573322, 152.70529243805717, 121.87282937092529, 143.01137462150373, 375.6859652237568, 153.7211020754683, 139.09355044881565, 291.21129755188974, 141.86468369860623, 168.05998873121848, 155.1421094054648, 4663.126561332075, 4475.016204550999, 3506.7053821850636, 2634.901099766167, 1855.9963412962297, 825.0251529642896, 622.1667265553158, 477.7690788037255, 1865.2547118002683, 376.7271942172664, 306.0103212070862, 287.4305136891564, 349.0450082626654, 378.928411434987, 365.12199277380626, 318.178688209681, 219.62163082580952, 403.1006081730867, 232.4988060065186, 222.0412317985606, 414.1997131586977, 193.5251429720645, 177.32290274120268, 273.86620844312097, 247.95996395067078, 205.56848891479044, 227.06949844714717, 150.2190363716839, 140.39260326440663, 155.8009006955047, 344.3714717018113, 310.50875895630884, 218.63837090569868, 287.5442066118978, 15636.96675158004, 2494.4085857936084, 2022.8848910636934, 591.8112463346162, 335.4062698276679, 929.4389081913132, 277.0450171860847, 263.4676848508844, 250.507936938026, 223.85338569036017, 183.77084548597705, 159.80804075134043, 213.27175430853507, 215.02966236660336, 214.0352366894187, 176.8429079833183, 346.63571679254244, 111.65950038835128, 111.39706805599978, 442.9241905537233, 122.39142573924288, 207.6150783052417, 124.08474479464446, 111.34901213239675, 139.19112706909792, 104.15557020626683, 87.33430483465321, 97.39256106478011, 178.21386730700544, 82.995732320966, 147.3807710597301, 172.6838950210638, 126.72478471052369, 3228.455499564203, 6883.069957996181, 1707.7340826179077, 879.0422495564601, 615.5328124746752, 1698.7053041626084, 453.7208633880155, 1090.27045703856, 776.9093808018392, 348.2132210464821, 371.72060801623934, 282.2517818552545, 263.22064197629595, 282.1021582522775, 779.932293551875, 247.5564549801901, 263.38639984895775, 382.0983734469914, 366.823373651346, 195.95662113899508, 165.6217845812643, 150.36195219595007, 157.42016510916636, 214.59368942708645, 358.8726645198325, 734.1435378819488, 219.0049642091572, 158.78771315679523, 257.99639874214154, 172.5848226390783, 200.83292181286356, 237.0778007346436, 207.94569129881194, 4983.798735560992, 7279.908497531795, 526.7427301343813, 379.59304586083965, 711.4642651319051, 663.8214566144845, 574.4056833727411, 403.1069467189247, 465.04822118757784, 203.991964083138, 170.6986701298039, 167.109041065705, 397.93384322791945, 421.4282226423044, 160.1697288110231, 217.7789490949604, 164.53202400614035, 389.3930818157728, 109.87096922370648, 144.97201229280677, 151.5837420008668, 156.44042317051782, 123.32558706958336, 155.35624995641643, 146.88829440568682, 376.52791825353125, 141.90807245220213, 146.952414007092, 90.54971878315507, 88.27133654841889, 160.90737457656851, 131.2304700860378, 189.03840045825515, 142.89193910101113, 6958.318698635878, 1939.4468742048866, 616.5711364555231, 320.98435324751347, 182.62657145210073, 169.33907181261728, 445.24669146546864, 207.32984720127894, 218.2490265024925, 224.52765947611502, 229.91742978654705, 493.1683806550749, 168.61287012032585, 225.08912481894214, 192.2920611746736, 161.4122782311339, 316.68718964027755, 338.75998206160926, 189.5128951154267, 158.43269606729783, 288.9913198562448, 163.51874782312208, 114.81169610845707, 143.8890083425413, 164.1590972206061, 160.9934513464733, 428.2172745011628, 276.91722215262547, 123.77527393624672, 107.01761424676965, 228.44792067701903, 306.48482409350777, 463.43097736716044, 271.0603140996748, 237.3672610553427, 180.56006085386116, 180.90466907271002, 164.36703826594612, 3703.36667752525, 3001.4272071109253, 3861.185211206292, 619.5823375357483, 647.7171857564348, 567.4760322400907, 1500.9894993142723, 353.63315683302164, 297.13158526338947, 265.70495638814384, 121.23709029124242, 178.2962053145555, 197.4206876946556, 134.56605125097752, 114.0217293052818, 252.58692781194392, 121.86851550693912, 161.5675126298292, 214.3958808614685, 132.23522333430253, 97.14007334681541, 130.11396373949404, 112.82331249893224, 92.48234509935551, 136.9685308563965, 78.46251873425854, 65.73768237766636, 204.90377430456988, 232.29902785786177, 167.4210038648373, 117.15950857697764, 138.18960523611995, 159.15859000374937, 3667.871654016453, 2119.7727265535505, 937.0706560665907, 443.5638437320551, 426.0234138741444, 187.6253538114741, 85.81188060581944, 76.2493928670996, 74.74495328378737, 190.08049048956866, 75.91973590354335, 68.90190521309499, 56.074366737106594, 83.3440378633214, 49.38229230498037, 59.49284889424823, 116.9897785717364, 112.42985658410404, 68.03911590842486, 52.65935725717527, 42.545350605304954, 53.768764413341394, 52.54495149746862, 44.4335162081959, 61.133206232200976, 42.03476442825897, 51.50652512336034, 37.60949641362996, 52.009581323855045, 67.63980994301991, 101.98811202696336, 50.67295148554461, 81.18084224997062, 56.69725577612855, 65.38062668876923, 53.85634838285235], \"Total\": [15639.0, 9869.0, 6959.0, 14666.0, 8759.0, 13162.0, 6575.0, 8042.0, 8306.0, 13127.0, 4984.0, 6716.0, 3668.0, 5842.0, 16464.0, 8395.0, 7223.0, 7614.0, 7085.0, 6097.0, 3908.0, 10830.0, 5433.0, 5896.0, 5717.0, 6420.0, 3189.0, 3218.0, 6859.0, 3234.0, 4150.232758618954, 4115.936636178153, 7014.946906539236, 7093.552298853365, 5250.775359130387, 10673.608616188749, 3254.5698711376604, 4645.947212777325, 3128.291219560596, 3258.0334582689834, 6252.231775417671, 5071.153052048284, 3488.5833399612256, 4558.881747275347, 4144.744838182391, 5199.153888460004, 8037.514169970273, 12348.927456927662, 9239.517287845672, 3057.54121128506, 4455.364913935916, 3149.967613338038, 4442.9027249019755, 3906.465474555417, 5241.2553084036335, 4308.087161281321, 4460.6686521480915, 8395.51886629159, 4583.609227650725, 4393.097255795149, 9935.553495974616, 16464.3335840008, 6982.5918284396885, 9872.53801665943, 5717.807465355114, 13127.661908055108, 6487.089673973112, 7614.073455623772, 3400.6718758467505, 13127.661908055108, 16464.3335840008, 5071.153052048284, 3906.465474555417, 3899.380073088844, 4308.087161281321, 6982.5918284396885, 4393.097255795149, 4455.364913935916, 12348.927456927662, 4012.662052437983, 9935.553495974616, 3698.115549433165, 3089.877885400999, 3234.242146481573, 3314.525680423246, 3254.5698711376604, 4583.353274202513, 3258.0334582689834, 3535.4736000965086, 6487.089673973112, 3057.54121128506, 3800.5304435245507, 3307.393500487775, 3361.423433472331, 3048.5205775885483, 3777.8617282627774, 4115.936636178153, 4744.025457996104, 10673.608616188749, 5250.775359130387, 7014.946906539236, 6252.231775417671, 8306.205066739707, 3088.9101677447684, 7135.072395515016, 5199.153888460004, 3232.1183522474835, 4583.609227650725, 4144.744838182391, 3641.279624652754, 6716.1329161687745, 7509.726354351225, 6420.808600381679, 5250.775359130387, 5283.92362774955, 14666.226172199522, 3361.423433472331, 4445.933129762439, 4704.12966770496, 5077.985119890847, 3765.931745645367, 6097.82406876968, 5063.353257708757, 4558.881747275347, 4308.087161281321, 4442.9027249019755, 4583.353274202513, 6982.5918284396885, 4641.429832671524, 3128.291219560596, 3089.877885400999, 10673.608616188749, 12348.927456927662, 4995.245019777202, 6859.893998988982, 5842.584836642477, 8395.51886629159, 13162.991962044294, 4641.429832671524, 3641.279624652754, 8037.514169970273, 10830.743929344082, 9872.53801665943, 3488.5833399612256, 4744.025457996104, 9869.448233433674, 4445.933129762439, 3149.967613338038, 14666.226172199522, 3659.984235468534, 3314.525680423246, 3048.5205775885483, 3535.4736000965086, 4341.9733113136745, 6487.089673973112, 3878.771290130675, 5077.985119890847, 4704.12966770496, 4995.245019777202, 3513.7056906665634, 6420.808600381679, 3361.423433472331, 3189.6238869364397, 3089.877885400999, 4442.9027249019755, 9935.553495974616, 7509.726354351225, 12348.927456927662, 3975.9244953470084, 5433.423924089692, 5896.785146605154, 6859.893998988982, 5241.2553084036335, 3234.242146481573, 4583.609227650725, 8759.327800661309, 3048.5205775885483, 7509.726354351225, 9935.553495974616, 3513.7056906665634, 5063.353257708757, 4012.662052437983, 4583.353274202513, 8037.514169970273, 3411.420221778915, 6487.089673973112, 3800.5304435245507, 4704.12966770496, 3716.2985233446057, 3899.380073088844, 4558.881747275347, 4442.9027249019755, 6982.5918284396885, 4455.364913935916, 4393.097255795149, 3641.279624652754, 13162.991962044294, 4308.087161281321, 9872.53801665943, 9239.517287845672, 14666.226172199522, 16464.3335840008, 8042.096638945553, 7223.08780439893, 6420.808600381679, 10830.743929344082, 3777.8617282627774, 3149.967613338038, 4341.9733113136745, 3307.393500487775, 3878.771290130675, 3488.5833399612256, 4995.245019777202, 4704.12966770496, 5063.353257708757, 3716.2985233446057, 4583.353274202513, 7509.726354351225, 3189.6238869364397, 4744.025457996104, 4308.087161281321, 6487.089673973112, 4012.662052437983, 5199.153888460004, 3057.54121128506, 6982.5918284396885, 3234.242146481573, 4455.364913935916, 7135.072395515016, 5077.985119890847, 3314.525680423246, 4144.744838182391, 6859.893998988982, 9869.448233433674, 4558.881747275347, 9935.553495974616, 10673.608616188749, 3586.2303432274794, 5283.92362774955, 3698.115549433165, 3513.7056906665634, 9239.517287845672, 3535.4736000965086, 5063.353257708757, 3048.5205775885483, 3314.525680423246, 3800.5304435245507, 4995.245019777202, 5241.2553084036335, 4341.9733113136745, 6252.231775417671, 3765.931745645367, 5077.985119890847, 9872.53801665943, 7509.726354351225, 3307.393500487775, 10830.743929344082, 4704.12966770496, 4445.933129762439, 4583.609227650725, 3716.2985233446057, 3057.54121128506, 3659.984235468534, 8037.514169970273, 3777.8617282627774, 3089.877885400999, 4744.025457996104, 6487.089673973112, 4583.353274202513, 12348.927456927662, 6575.95153122757, 14666.226172199522, 3698.115549433165, 13162.991962044294, 3232.1183522474835, 3189.6238869364397, 4641.429832671524, 4445.933129762439, 9239.517287845672, 9872.53801665943, 5241.2553084036335, 3149.967613338038, 7509.726354351225, 7135.072395515016, 3765.931745645367, 3361.423433472331, 3800.5304435245507, 4704.12966770496, 6487.089673973112, 3488.5833399612256, 3367.2163442856513, 3513.7056906665634, 3716.2985233446057, 5077.985119890847, 3777.8617282627774, 3088.9101677447684, 4012.662052437983, 10673.608616188749, 4645.947212777325, 4341.9733113136745, 9935.553495974616, 4442.9027249019755, 16464.3335840008, 9869.448233433674, 6097.82406876968, 7085.828474366983, 5717.807465355114, 4460.6686521480915, 7093.552298853365, 3659.984235468534, 3586.2303432274794, 3307.393500487775, 16464.3335840008, 3367.2163442856513, 3411.420221778915, 3361.423433472331, 4341.9733113136745, 5077.985119890847, 5063.353257708757, 4744.025457996104, 3513.7056906665634, 6487.089673973112, 3765.931745645367, 3716.2985233446057, 6982.5918284396885, 3314.525680423246, 3234.242146481573, 4995.245019777202, 4558.881747275347, 3878.771290130675, 4442.9027249019755, 3057.54121128506, 3089.877885400999, 3535.4736000965086, 9935.553495974616, 8759.327800661309, 6252.231775417671, 12348.927456927662, 15639.517357969547, 3367.2163442856513, 3878.771290130675, 5283.92362774955, 3488.5833399612256, 9872.53801665943, 3232.1183522474835, 3659.984235468534, 3800.5304435245507, 4341.9733113136745, 3641.279624652754, 3361.423433472331, 4641.429832671524, 4995.245019777202, 5077.985119890847, 4704.12966770496, 9239.517287845672, 3048.5205775885483, 3089.877885400999, 12348.927456927662, 3535.4736000965086, 6252.231775417671, 4150.232758618954, 3777.8617282627774, 4744.025457996104, 3765.931745645367, 3234.242146481573, 3716.2985233446057, 7135.072395515016, 3513.7056906665634, 6487.089673973112, 9935.553495974616, 6982.5918284396885, 3234.2871219312483, 8759.327800661309, 3659.984235468534, 5896.785146605154, 4393.097255795149, 13162.991962044294, 3800.5304435245507, 9872.53801665943, 7085.828474366983, 3899.380073088844, 4460.6686521480915, 3513.7056906665634, 3307.393500487775, 3586.2303432274794, 9935.553495974616, 3234.242146481573, 4012.662052437983, 6487.089673973112, 6859.893998988982, 3777.8617282627774, 3314.525680423246, 3089.877885400999, 3361.423433472331, 4744.025457996104, 8037.514169970273, 16464.3335840008, 5077.985119890847, 3716.2985233446057, 6097.82406876968, 4341.9733113136745, 5063.353257708757, 7509.726354351225, 6252.231775417671, 4984.737747124074, 9869.448233433674, 3765.931745645367, 3128.291219560596, 7509.726354351225, 7135.072395515016, 7223.08780439893, 5283.92362774955, 6716.1329161687745, 3908.2305519983342, 3307.393500487775, 3258.0334582689834, 8306.205066739707, 9239.517287845672, 3800.5304435245507, 5250.775359130387, 4442.9027249019755, 10673.608616188749, 3089.877885400999, 4144.744838182391, 4341.9733113136745, 4583.353274202513, 3716.2985233446057, 4744.025457996104, 4645.947212777325, 12348.927456927662, 4704.12966770496, 5077.985119890847, 3314.525680423246, 3254.5698711376604, 6252.231775417671, 5063.353257708757, 9935.553495974616, 6097.82406876968, 6959.257833820529, 3411.420221778915, 6716.1329161687745, 4641.429832671524, 3361.423433472331, 3128.291219560596, 8395.51886629159, 4144.744838182391, 4445.933129762439, 4583.609227650725, 4704.12966770496, 10830.743929344082, 3800.5304435245507, 5077.985119890847, 4442.9027249019755, 3777.8617282627774, 7509.726354351225, 8042.096638945553, 4583.353274202513, 3899.380073088844, 7135.072395515016, 4341.9733113136745, 3088.9101677447684, 4012.662052437983, 4645.947212777325, 4558.881747275347, 12348.927456927662, 8306.205066739707, 3716.2985233446057, 3234.242146481573, 6982.5918284396885, 9935.553495974616, 16464.3335840008, 9872.53801665943, 10673.608616188749, 6252.231775417671, 6420.808600381679, 6487.089673973112, 3908.2305519983342, 3218.8250020845812, 6716.1329161687745, 4445.933129762439, 5717.807465355114, 5241.2553084036335, 14666.226172199522, 3535.4736000965086, 3777.8617282627774, 4995.245019777202, 3048.5205775885483, 4583.353274202513, 5077.985119890847, 3716.2985233446057, 3149.967613338038, 7223.08780439893, 3513.7056906665634, 4704.12966770496, 6487.089673973112, 4455.364913935916, 3314.525680423246, 4442.9027249019755, 4341.9733113136745, 3765.931745645367, 6252.231775417671, 3641.279624652754, 3234.242146481573, 10673.608616188749, 12348.927456927662, 9869.448233433674, 6982.5918284396885, 10830.743929344082, 16464.3335840008, 3668.8096323880254, 3189.6238869364397, 8042.096638945553, 7135.072395515016, 6859.893998988982, 5250.775359130387, 3232.1183522474835, 3088.9101677447684, 3716.2985233446057, 9935.553495974616, 4012.662052437983, 3659.984235468534, 3361.423433472331, 5077.985119890847, 3048.5205775885483, 3765.931745645367, 7509.726354351225, 7223.08780439893, 4393.097255795149, 3513.7056906665634, 3057.54121128506, 3878.771290130675, 3800.5304435245507, 3314.525680423246, 4744.025457996104, 3488.5833399612256, 4341.9733113136745, 3234.242146481573, 4558.881747275347, 6097.82406876968, 10830.743929344082, 4704.12966770496, 12348.927456927662, 6487.089673973112, 13127.661908055108, 6982.5918284396885], \"Category\": [\"Default\", \"Default\", \"Default\", \"Default\", \"Default\", \"Default\", \"Default\", \"Default\", \"Default\", \"Default\", \"Default\", \"Default\", \"Default\", \"Default\", \"Default\", \"Default\", \"Default\", \"Default\", \"Default\", \"Default\", \"Default\", \"Default\", \"Default\", \"Default\", \"Default\", \"Default\", \"Default\", \"Default\", \"Default\", \"Default\", \"Topic1\", \"Topic1\", \"Topic1\", \"Topic1\", \"Topic1\", \"Topic1\", \"Topic1\", \"Topic1\", \"Topic1\", \"Topic1\", \"Topic1\", \"Topic1\", \"Topic1\", \"Topic1\", \"Topic1\", \"Topic1\", \"Topic1\", \"Topic1\", \"Topic1\", \"Topic1\", \"Topic1\", \"Topic1\", \"Topic1\", \"Topic1\", \"Topic1\", \"Topic1\", \"Topic1\", \"Topic1\", \"Topic1\", \"Topic1\", \"Topic1\", \"Topic1\", \"Topic1\", \"Topic1\", \"Topic1\", \"Topic1\", \"Topic1\", \"Topic2\", \"Topic2\", \"Topic2\", \"Topic2\", \"Topic2\", \"Topic2\", \"Topic2\", \"Topic2\", \"Topic2\", \"Topic2\", \"Topic2\", \"Topic2\", \"Topic2\", \"Topic2\", \"Topic2\", \"Topic2\", \"Topic2\", \"Topic2\", \"Topic2\", \"Topic2\", \"Topic2\", \"Topic2\", \"Topic2\", \"Topic2\", \"Topic2\", \"Topic2\", \"Topic2\", \"Topic2\", \"Topic2\", \"Topic2\", \"Topic2\", \"Topic2\", \"Topic2\", \"Topic2\", \"Topic2\", \"Topic3\", \"Topic3\", \"Topic3\", \"Topic3\", \"Topic3\", \"Topic3\", \"Topic3\", \"Topic3\", \"Topic3\", \"Topic3\", \"Topic3\", \"Topic3\", \"Topic3\", \"Topic3\", \"Topic3\", \"Topic3\", \"Topic3\", \"Topic3\", \"Topic3\", \"Topic3\", \"Topic3\", \"Topic3\", \"Topic3\", \"Topic3\", \"Topic3\", \"Topic3\", \"Topic3\", \"Topic3\", \"Topic3\", \"Topic3\", \"Topic3\", \"Topic3\", \"Topic3\", \"Topic4\", \"Topic4\", \"Topic4\", \"Topic4\", \"Topic4\", \"Topic4\", \"Topic4\", \"Topic4\", \"Topic4\", \"Topic4\", \"Topic4\", \"Topic4\", \"Topic4\", \"Topic4\", \"Topic4\", \"Topic4\", \"Topic4\", \"Topic4\", \"Topic4\", \"Topic4\", \"Topic4\", \"Topic4\", \"Topic4\", \"Topic4\", \"Topic4\", \"Topic4\", \"Topic4\", \"Topic4\", \"Topic4\", \"Topic4\", \"Topic4\", \"Topic4\", \"Topic4\", \"Topic5\", \"Topic5\", \"Topic5\", \"Topic5\", \"Topic5\", \"Topic5\", \"Topic5\", \"Topic5\", \"Topic5\", \"Topic5\", \"Topic5\", \"Topic5\", \"Topic5\", \"Topic5\", \"Topic5\", \"Topic5\", \"Topic5\", \"Topic5\", \"Topic5\", \"Topic5\", \"Topic5\", \"Topic5\", \"Topic5\", \"Topic5\", \"Topic5\", \"Topic5\", \"Topic5\", \"Topic5\", \"Topic5\", \"Topic5\", \"Topic5\", \"Topic5\", \"Topic5\", \"Topic5\", \"Topic6\", \"Topic6\", \"Topic6\", \"Topic6\", \"Topic6\", \"Topic6\", \"Topic6\", \"Topic6\", \"Topic6\", \"Topic6\", \"Topic6\", \"Topic6\", \"Topic6\", \"Topic6\", \"Topic6\", \"Topic6\", \"Topic6\", \"Topic6\", \"Topic6\", \"Topic6\", \"Topic6\", \"Topic6\", \"Topic6\", \"Topic6\", \"Topic6\", \"Topic6\", \"Topic6\", \"Topic6\", \"Topic6\", \"Topic6\", \"Topic6\", \"Topic6\", \"Topic6\", \"Topic6\", \"Topic6\", \"Topic7\", \"Topic7\", \"Topic7\", \"Topic7\", \"Topic7\", \"Topic7\", \"Topic7\", \"Topic7\", \"Topic7\", \"Topic7\", \"Topic7\", \"Topic7\", \"Topic7\", \"Topic7\", \"Topic7\", \"Topic7\", \"Topic7\", \"Topic7\", \"Topic7\", \"Topic7\", \"Topic7\", \"Topic7\", \"Topic7\", \"Topic7\", \"Topic7\", \"Topic7\", \"Topic7\", \"Topic7\", \"Topic7\", \"Topic7\", \"Topic7\", \"Topic7\", \"Topic7\", \"Topic8\", \"Topic8\", \"Topic8\", \"Topic8\", \"Topic8\", \"Topic8\", \"Topic8\", \"Topic8\", \"Topic8\", \"Topic8\", \"Topic8\", \"Topic8\", \"Topic8\", \"Topic8\", \"Topic8\", \"Topic8\", \"Topic8\", \"Topic8\", \"Topic8\", \"Topic8\", \"Topic8\", \"Topic8\", \"Topic8\", \"Topic8\", \"Topic8\", \"Topic8\", \"Topic8\", \"Topic8\", \"Topic8\", \"Topic8\", \"Topic8\", \"Topic8\", \"Topic8\", \"Topic8\", \"Topic9\", \"Topic9\", \"Topic9\", \"Topic9\", \"Topic9\", \"Topic9\", \"Topic9\", \"Topic9\", \"Topic9\", \"Topic9\", \"Topic9\", \"Topic9\", \"Topic9\", \"Topic9\", \"Topic9\", \"Topic9\", \"Topic9\", \"Topic9\", \"Topic9\", \"Topic9\", \"Topic9\", \"Topic9\", \"Topic9\", \"Topic9\", \"Topic9\", \"Topic9\", \"Topic9\", \"Topic9\", \"Topic9\", \"Topic9\", \"Topic9\", \"Topic9\", \"Topic9\", \"Topic9\", \"Topic10\", \"Topic10\", \"Topic10\", \"Topic10\", \"Topic10\", \"Topic10\", \"Topic10\", \"Topic10\", \"Topic10\", \"Topic10\", \"Topic10\", \"Topic10\", \"Topic10\", \"Topic10\", \"Topic10\", \"Topic10\", \"Topic10\", \"Topic10\", \"Topic10\", \"Topic10\", \"Topic10\", \"Topic10\", \"Topic10\", \"Topic10\", \"Topic10\", \"Topic10\", \"Topic10\", \"Topic10\", \"Topic10\", \"Topic10\", \"Topic10\", \"Topic10\", \"Topic10\", \"Topic11\", \"Topic11\", \"Topic11\", \"Topic11\", \"Topic11\", \"Topic11\", \"Topic11\", \"Topic11\", \"Topic11\", \"Topic11\", \"Topic11\", \"Topic11\", \"Topic11\", \"Topic11\", \"Topic11\", \"Topic11\", \"Topic11\", \"Topic11\", \"Topic11\", \"Topic11\", \"Topic11\", \"Topic11\", \"Topic11\", \"Topic11\", \"Topic11\", \"Topic11\", \"Topic11\", \"Topic11\", \"Topic11\", \"Topic11\", \"Topic11\", \"Topic11\", \"Topic11\", \"Topic12\", \"Topic12\", \"Topic12\", \"Topic12\", \"Topic12\", \"Topic12\", \"Topic12\", \"Topic12\", \"Topic12\", \"Topic12\", \"Topic12\", \"Topic12\", \"Topic12\", \"Topic12\", \"Topic12\", \"Topic12\", \"Topic12\", \"Topic12\", \"Topic12\", \"Topic12\", \"Topic12\", \"Topic12\", \"Topic12\", \"Topic12\", \"Topic12\", \"Topic12\", \"Topic12\", \"Topic12\", \"Topic12\", \"Topic12\", \"Topic12\", \"Topic12\", \"Topic12\", \"Topic12\", \"Topic13\", \"Topic13\", \"Topic13\", \"Topic13\", \"Topic13\", \"Topic13\", \"Topic13\", \"Topic13\", \"Topic13\", \"Topic13\", \"Topic13\", \"Topic13\", \"Topic13\", \"Topic13\", \"Topic13\", \"Topic13\", \"Topic13\", \"Topic13\", \"Topic13\", \"Topic13\", \"Topic13\", \"Topic13\", \"Topic13\", \"Topic13\", \"Topic13\", \"Topic13\", \"Topic13\", \"Topic13\", \"Topic13\", \"Topic13\", \"Topic13\", \"Topic13\", \"Topic13\", \"Topic13\", \"Topic13\", \"Topic13\", \"Topic13\", \"Topic13\", \"Topic14\", \"Topic14\", \"Topic14\", \"Topic14\", \"Topic14\", \"Topic14\", \"Topic14\", \"Topic14\", \"Topic14\", \"Topic14\", \"Topic14\", \"Topic14\", \"Topic14\", \"Topic14\", \"Topic14\", \"Topic14\", \"Topic14\", \"Topic14\", \"Topic14\", \"Topic14\", \"Topic14\", \"Topic14\", \"Topic14\", \"Topic14\", \"Topic14\", \"Topic14\", \"Topic14\", \"Topic14\", \"Topic14\", \"Topic14\", \"Topic14\", \"Topic14\", \"Topic14\", \"Topic15\", \"Topic15\", \"Topic15\", \"Topic15\", \"Topic15\", \"Topic15\", \"Topic15\", \"Topic15\", \"Topic15\", \"Topic15\", \"Topic15\", \"Topic15\", \"Topic15\", \"Topic15\", \"Topic15\", \"Topic15\", \"Topic15\", \"Topic15\", \"Topic15\", \"Topic15\", \"Topic15\", \"Topic15\", \"Topic15\", \"Topic15\", \"Topic15\", \"Topic15\", \"Topic15\", \"Topic15\", \"Topic15\", \"Topic15\", \"Topic15\", \"Topic15\", \"Topic15\", \"Topic15\", \"Topic15\", \"Topic15\"], \"logprob\": [30.0, 29.0, 28.0, 27.0, 26.0, 25.0, 24.0, 23.0, 22.0, 21.0, 20.0, 19.0, 18.0, 17.0, 16.0, 15.0, 14.0, 13.0, 12.0, 11.0, 10.0, 9.0, 8.0, 7.0, 6.0, 5.0, 4.0, 3.0, 2.0, 1.0, -3.3482, -3.4282, -2.9226, -3.1157, -3.5027, -2.8011, -4.0056, -3.6716, -4.0721, -4.0339, -3.6226, -3.853, -4.2434, -3.978, -4.1157, -3.9066, -3.4767, -3.1152, -3.4219, -4.5326, -4.2439, -4.6029, -4.2921, -4.5219, -4.2582, -4.5334, -4.5036, -3.8888, -4.5076, -4.5749, -3.8362, -3.8009, -4.3455, -4.245, -4.4256, -4.2777, -4.4806, -2.2381, -3.0693, -1.8506, -1.9409, -3.2432, -3.6753, -3.7074, -3.8093, -3.3715, -3.9085, -3.8945, -2.922, -4.1781, -3.2969, -4.4746, -4.7179, -4.6738, -4.711, -4.8026, -4.4616, -4.8582, -4.8144, -4.2086, -5.0475, -4.8385, -5.0714, -5.0723, -5.2337, -5.1039, -5.0293, -4.9437, -4.4363, -4.8986, -4.7702, -4.9624, -1.8101, -3.0913, -2.4256, -2.9883, -3.7601, -3.5283, -3.7411, -3.9765, -3.4475, -3.4911, -3.6878, -3.9921, -3.9961, -2.9804, -4.5289, -4.2619, -4.2217, -4.1645, -4.4988, -4.1619, -4.4065, -4.544, -4.628, -4.6235, -4.6127, -4.2079, -4.6313, -5.0314, -5.0462, -3.8442, -3.8499, -4.6863, -4.4827, -2.0539, -2.109, -1.7723, -3.0046, -3.566, -2.8995, -2.7328, -2.8612, -4.3856, -4.1451, -3.4579, -4.3438, -4.7304, -3.3851, -4.7904, -4.9419, -5.0912, -4.9615, -4.758, -4.4802, -5.0179, -4.7872, -4.8729, -4.8488, -5.264, -4.6663, -5.3915, -5.4543, -5.6044, -5.2413, -4.4685, -4.8371, -4.8644, -2.5004, -2.1898, -2.1969, -2.2397, -3.4135, -4.0772, -4.0895, -3.4863, -4.5858, -3.6999, -3.434, -4.6077, -4.3337, -4.6073, -4.5012, -3.9598, -4.8367, -4.2048, -4.7419, -4.5372, -4.8162, -4.8118, -4.6644, -4.7005, -4.3513, -4.8147, -4.8311, -5.0245, -3.8048, -4.929, -4.2771, -4.3886, -4.5944, -4.8049, -1.7007, -1.8238, -2.113, -2.0598, -3.8528, -4.1387, -3.9291, -4.2413, -4.231, -4.3435, -4.0241, -4.2086, -4.1766, -4.5958, -4.5442, -4.1835, -5.0426, -4.6776, -4.7899, -4.4391, -4.9404, -4.6876, -5.2299, -4.4281, -5.2251, -4.9519, -4.5123, -4.8541, -5.3101, -5.0931, -4.6434, -4.7046, -5.0686, -4.8995, -4.9335, -2.5942, -2.3119, -2.7845, -3.3411, -2.3885, -3.4546, -3.2472, -3.9119, -3.8656, -3.8213, -3.6585, -3.6357, -3.9455, -3.5849, -4.0986, -3.8331, -3.1776, -3.5011, -4.3508, -3.2397, -4.1181, -4.2643, -4.3386, -4.5812, -4.7819, -4.6253, -3.8555, -4.6453, -4.8917, -4.5122, -4.3606, -4.687, -4.6267, -1.5553, -1.3349, -3.5679, -2.4904, -3.9232, -3.9804, -3.7688, -4.0745, -3.3474, -3.3337, -4.0221, -4.6917, -3.84, -3.9538, -4.7621, -4.9703, -4.8927, -4.7959, -4.534, -5.157, -5.3649, -5.3232, -5.2898, -4.998, -5.3179, -5.5434, -5.3834, -4.4176, -5.3112, -5.4112, -4.6723, -5.3915, -5.222, -5.302, -1.8641, -1.9052, -2.1491, -2.4349, -2.7853, -3.5961, -3.8783, -4.1424, -2.7804, -4.38, -4.5879, -4.6505, -4.4563, -4.3742, -4.4113, -4.5489, -4.9196, -4.3123, -4.8626, -4.9086, -4.2852, -5.0461, -5.1335, -4.6989, -4.7982, -4.9857, -4.8863, -5.2994, -5.3671, -5.2629, -4.4698, -4.5733, -4.9241, -4.6501, -0.596, -2.4316, -2.6412, -3.8702, -4.4381, -3.4189, -4.6293, -4.6795, -4.7299, -4.8424, -5.0397, -5.1795, -4.8909, -4.8827, -4.8873, -5.0782, -4.4052, -5.538, -5.5403, -4.16, -5.4462, -4.9177, -5.4325, -5.5408, -5.3176, -5.6075, -5.7837, -5.6747, -5.0704, -5.8346, -5.2604, -5.102, -5.4114, -2.0998, -1.3427, -2.7366, -3.4007, -3.7571, -2.7419, -4.0621, -3.1854, -3.5242, -4.3267, -4.2614, -4.5368, -4.6066, -4.5373, -3.5204, -4.6679, -4.6059, -4.2339, -4.2747, -4.9017, -5.0699, -5.1665, -5.1206, -4.8108, -4.2966, -3.5809, -4.7905, -5.112, -4.6266, -5.0287, -4.8771, -4.7112, -4.8423, -1.5232, -1.1443, -3.7705, -4.0981, -3.4699, -3.5392, -3.6839, -4.038, -3.8951, -4.7191, -4.8973, -4.9185, -4.0509, -3.9935, -4.961, -4.6537, -4.9341, -4.0726, -5.3379, -5.0607, -5.0161, -4.9845, -5.2224, -4.9915, -5.0475, -4.1062, -5.082, -5.0471, -5.5313, -5.5568, -4.9564, -5.1602, -4.7952, -5.0751, -1.0772, -2.3548, -3.5008, -4.1535, -4.7175, -4.793, -3.8263, -4.5906, -4.5393, -4.5109, -4.4872, -3.7241, -4.7973, -4.5084, -4.6659, -4.841, -4.167, -4.0996, -4.6805, -4.8596, -4.2585, -4.828, -5.1816, -4.9559, -4.8241, -4.8436, -3.8653, -4.3012, -5.1065, -5.2519, -4.4936, -4.1998, -3.7863, -4.3226, -4.4553, -4.7289, -4.727, -4.8228, -1.6455, -1.8557, -1.6038, -3.4335, -3.3891, -3.5213, -2.5487, -3.9943, -4.1684, -4.2802, -5.0648, -4.6791, -4.5772, -4.9605, -5.1262, -4.3308, -5.0596, -4.7776, -4.4947, -4.978, -5.2864, -4.9941, -5.1367, -5.3355, -4.9428, -5.4999, -5.6769, -4.54, -4.4145, -4.742, -5.099, -4.9339, -4.7926, -1.0604, -1.6087, -2.425, -3.1729, -3.2133, -4.0333, -4.8156, -4.9338, -4.9537, -4.0203, -4.9381, -5.0351, -5.2411, -4.8448, -5.3682, -5.1819, -4.5057, -4.5454, -5.0477, -5.3039, -5.5172, -5.2831, -5.3061, -5.4738, -5.1547, -5.5293, -5.3261, -5.6405, -5.3164, -5.0536, -4.6429, -5.3424, -4.8711, -5.2301, -5.0876, -5.2815], \"loglift\": [30.0, 29.0, 28.0, 27.0, 26.0, 25.0, 24.0, 23.0, 22.0, 21.0, 20.0, 19.0, 18.0, 17.0, 16.0, 15.0, 14.0, 13.0, 12.0, 11.0, 10.0, 9.0, 8.0, 7.0, 6.0, 5.0, 4.0, 3.0, 2.0, 1.0, 1.5759, 1.5043, 1.4767, 1.2725, 1.1862, 1.1784, 1.1616, 1.1397, 1.1347, 1.1323, 0.8918, 0.8707, 0.8544, 0.8522, 0.8098, 0.7922, 0.7865, 0.7185, 0.7019, 0.6971, 0.6093, 0.597, 0.5639, 0.4628, 0.4326, 0.3534, 0.3484, 0.3308, 0.3172, 0.2924, 0.215, -0.2548, 0.0584, -0.1874, 0.1782, -0.5051, -0.0031, 2.0792, 2.054, 1.922, 1.6052, 1.4805, 1.3093, 1.2791, 1.0775, 1.0324, 0.9587, 0.9587, 0.9118, 0.7798, 0.7543, 0.5649, 0.5013, 0.4997, 0.438, 0.3646, 0.3633, 0.308, 0.27, 0.269, 0.1822, 0.1737, 0.0797, 0.0626, -0.001, -0.0857, -0.0968, -0.1532, -0.4568, -0.2096, -0.3709, -0.448, 2.4202, 2.1282, 1.9567, 1.7105, 1.4141, 1.2965, 1.1844, 1.0784, 0.9953, 0.84, 0.7999, 0.6968, 0.6866, 0.6814, 0.606, 0.5934, 0.5771, 0.5579, 0.5225, 0.3775, 0.3188, 0.2862, 0.2588, 0.2325, 0.2122, 0.196, 0.181, 0.1754, 0.1729, 0.1354, -0.0161, 0.0526, -0.0611, 2.5283, 2.1106, 1.9976, 1.8077, 1.489, 1.3637, 1.2321, 1.1964, 0.7123, 0.6454, 0.6, 0.5115, 0.4696, 0.2767, 0.2594, 0.2071, 0.1415, 0.123, 0.121, -0.0027, -0.0261, -0.0648, -0.074, -0.11, -0.1733, -0.1786, -0.2565, -0.2668, -0.3852, -0.3852, -0.4173, -0.5059, -1.0307, 2.4667, 2.4649, 2.376, 2.1819, 1.2773, 1.0963, 0.7353, 0.6909, 0.6468, 0.6312, 0.6172, 0.483, 0.3916, 0.3505, 0.3237, 0.3034, 0.2835, 0.2727, 0.2702, 0.2616, 0.2184, 0.1747, 0.1658, 0.1555, 0.0526, 0.0385, 0.0362, 0.0305, -0.0349, -0.0422, -0.2196, -0.2647, -0.9326, -1.2588, 2.5619, 2.5463, 2.3748, 1.9051, 1.1653, 1.0613, 0.9498, 0.9099, 0.7608, 0.7543, 0.7147, 0.5903, 0.5486, 0.4388, 0.2807, 0.1477, 0.1448, 0.1129, 0.0969, 0.0384, 0.0175, 0.0112, -0.0002, -0.0242, -0.0516, -0.0987, -0.13, -0.1317, -0.1611, -0.1676, -0.2218, -0.6467, -0.2383, -0.8483, -0.954, 2.476, 2.3707, 2.2549, 1.7496, 1.7353, 1.6298, 1.478, 1.3208, 1.2834, 1.1909, 1.0803, 1.0551, 0.9335, 0.9294, 0.9227, 0.8893, 0.88, 0.8301, 0.8003, 0.7252, 0.6808, 0.591, 0.4863, 0.4534, 0.4478, 0.4245, 0.4077, 0.3729, 0.3275, 0.2782, 0.1169, 0.1379, -0.7929, 2.9086, 2.3269, 1.4716, 1.2795, 1.251, 1.207, 1.0435, 0.7809, 0.7764, 0.7238, 0.6686, 0.5082, 0.4911, 0.4285, 0.2592, 0.1647, 0.1195, 0.003, -0.0565, -0.0592, -0.2317, -0.2325, -0.2552, -0.2756, -0.2997, -0.3239, -0.4256, -0.4381, -0.4999, -0.5322, -0.6211, -0.5355, -1.6759, -1.2441, 2.6753, 2.484, 2.4547, 2.4171, 1.6028, 1.4538, 1.1919, 1.0088, 0.7658, 0.7532, 0.5323, 0.4844, 0.4227, 0.3482, 0.314, 0.2415, 0.171, 0.1652, 0.1587, 0.1259, 0.1187, 0.1029, 0.04, 0.04, 0.032, 0.0061, -0.0302, -0.0697, -0.1479, -0.1785, -0.4186, -0.3961, -0.4097, -0.8164, 3.0015, 2.7016, 2.3506, 0.8124, 0.6597, 0.6387, 0.5449, 0.3704, 0.2822, 0.0365, 0.0152, -0.0445, -0.0786, -0.1438, -0.1649, -0.2793, -0.2813, -0.3053, -0.3211, -0.3263, -0.3617, -0.4034, -0.5083, -0.5226, -0.5272, -0.5862, -0.6102, -0.6401, -0.6882, -0.744, -0.7829, -1.0508, -1.0075, 3.0737, 2.8345, 2.3132, 1.1722, 1.1102, 1.028, 0.9501, 0.8722, 0.865, 0.6598, 0.5906, 0.5539, 0.5446, 0.5329, 0.5308, 0.5056, 0.3519, 0.2436, 0.1469, 0.1165, 0.0791, 0.0527, 0.0143, -0.0204, -0.0334, -0.0347, -0.0681, -0.0774, -0.0872, -0.1497, -0.1518, -0.3801, -0.3279, 3.2177, 2.9136, 1.2508, 1.1087, 0.8613, 0.8431, 0.6862, 0.6447, 0.5478, 0.2651, 0.2539, 0.2477, 0.1794, 0.1303, 0.0512, 0.0352, -0.0781, -0.0931, -0.1187, -0.1352, -0.1371, -0.1596, -0.1878, -0.201, -0.2362, -0.2724, -0.2831, -0.3247, -0.3823, -0.3895, -0.442, -0.4349, -0.744, -0.5357, 3.33, 2.7654, 0.9421, 0.6588, 0.4175, 0.4138, 0.3933, 0.3349, 0.316, 0.3139, 0.3117, 0.2409, 0.2149, 0.214, 0.1901, 0.1772, 0.1641, 0.163, 0.1444, 0.1269, 0.1238, 0.051, 0.0379, 0.002, -0.0128, -0.0133, -0.0315, -0.0709, -0.0719, -0.0784, -0.0897, -0.1486, -0.2401, -0.265, -0.4758, -0.2145, -0.2392, -0.3453, 3.3387, 3.3226, 2.839, 1.4218, 1.2146, 1.1694, 1.1131, 1.0902, 0.8498, 0.4587, 0.1679, 0.1458, 0.1452, 0.0741, 0.0738, 0.0392, 0.031, 0.0213, -0.0172, -0.1248, -0.1374, -0.1381, -0.2577, -0.3142, -0.4284, -0.4449, -0.5033, -0.5605, -0.5808, -0.6842, -0.6951, -0.969, -1.2465, 3.987, 3.5787, 1.8376, 1.2094, 1.2083, 0.6556, 0.3586, 0.2857, 0.0809, 0.0309, 0.0198, 0.0148, -0.1061, -0.1224, -0.1355, -0.1606, -0.1746, -0.1754, -0.1804, -0.2133, -0.2875, -0.2913, -0.2939, -0.3248, -0.3643, -0.4315, -0.4471, -0.467, -0.4861, -0.5142, -0.678, -0.5435, -1.0373, -0.7525, -1.315, -0.8776]}, \"token.table\": {\"Topic\": [1, 2, 3, 4, 5, 6, 7, 8, 9, 10, 11, 12, 13, 14, 15, 1, 2, 3, 4, 5, 8, 9, 11, 12, 13, 15, 1, 2, 3, 6, 10, 12, 13, 14, 15, 5, 11, 1, 2, 4, 5, 8, 9, 10, 11, 12, 13, 14, 15, 1, 2, 1, 3, 4, 5, 6, 8, 13, 1, 2, 4, 6, 8, 10, 12, 13, 1, 3, 4, 5, 7, 8, 9, 10, 11, 15, 4, 5, 6, 9, 10, 11, 13, 1, 2, 5, 13, 4, 5, 6, 8, 11, 15, 8, 1, 2, 3, 4, 5, 6, 7, 9, 11, 13, 14, 1, 2, 4, 5, 7, 8, 9, 10, 11, 13, 4, 10, 1, 2, 3, 4, 5, 6, 7, 8, 10, 12, 13, 14, 15, 1, 2, 4, 5, 7, 8, 9, 11, 13, 14, 15, 1, 4, 5, 9, 11, 13, 1, 2, 3, 4, 5, 6, 7, 8, 9, 10, 11, 12, 13, 14, 15, 1, 2, 13, 14, 1, 5, 9, 11, 1, 2, 3, 4, 5, 6, 7, 8, 9, 10, 11, 12, 13, 14, 15, 1, 2, 3, 4, 5, 6, 7, 8, 9, 10, 11, 12, 13, 14, 15, 12, 14, 1, 2, 4, 5, 8, 9, 10, 11, 12, 13, 15, 1, 3, 4, 5, 6, 7, 8, 9, 10, 11, 12, 13, 14, 15, 1, 2, 3, 4, 5, 6, 7, 9, 10, 11, 12, 13, 15, 3, 4, 5, 7, 8, 9, 10, 11, 12, 13, 1, 3, 6, 7, 8, 9, 10, 13, 14, 15, 1, 2, 3, 4, 5, 6, 8, 9, 10, 12, 13, 14, 15, 1, 2, 3, 4, 5, 6, 7, 8, 9, 10, 12, 13, 14, 15, 1, 2, 3, 5, 6, 1, 2, 3, 4, 5, 6, 7, 8, 9, 10, 11, 12, 13, 14, 15, 1, 2, 3, 4, 5, 7, 8, 9, 11, 12, 13, 14, 1, 2, 3, 4, 5, 6, 7, 8, 9, 10, 11, 12, 13, 14, 15, 1, 2, 3, 4, 5, 6, 8, 9, 10, 11, 12, 14, 15, 1, 2, 3, 4, 5, 6, 7, 8, 9, 10, 11, 12, 13, 14, 15, 1, 2, 3, 4, 5, 6, 7, 8, 9, 10, 11, 12, 13, 14, 1, 2, 3, 4, 5, 6, 7, 8, 9, 10, 11, 12, 13, 14, 15, 1, 2, 3, 4, 5, 6, 7, 8, 9, 10, 11, 12, 13, 14, 15, 1, 2, 3, 4, 5, 7, 8, 12, 13, 14, 15, 1, 2, 3, 4, 5, 6, 7, 8, 11, 13, 14, 1, 2, 3, 4, 5, 6, 9, 10, 11, 12, 13, 14, 15, 1, 2, 3, 4, 5, 6, 7, 8, 9, 10, 11, 12, 13, 14, 15, 1, 2, 3, 4, 5, 6, 7, 8, 9, 10, 11, 12, 13, 14, 15, 1, 2, 3, 4, 5, 6, 7, 8, 9, 10, 11, 12, 13, 14, 15, 1, 2, 3, 4, 5, 6, 7, 8, 9, 10, 11, 12, 13, 14, 15, 1, 3, 4, 5, 6, 7, 8, 10, 12, 13, 14, 15, 1, 2, 3, 4, 5, 6, 7, 9, 10, 11, 12, 13, 14, 15, 1, 3, 4, 5, 6, 8, 10, 11, 13, 15, 1, 2, 3, 4, 5, 6, 7, 8, 9, 10, 11, 12, 13, 15, 1, 2, 3, 4, 6, 7, 8, 9, 10, 12, 13, 14, 15, 1, 3, 4, 5, 7, 8, 10, 11, 12, 13, 1, 2, 3, 5, 6, 7, 8, 9, 10, 12, 13, 14, 15, 1, 7, 10, 14, 1, 3, 4, 5, 7, 8, 10, 11, 13, 14, 1, 2, 3, 4, 5, 6, 7, 8, 9, 10, 11, 12, 13, 14, 15, 1, 2, 5, 7, 8, 9, 10, 14, 1, 2, 3, 4, 5, 6, 7, 8, 9, 10, 11, 12, 13, 14, 15, 4, 10, 1, 2, 4, 5, 6, 11, 12, 13, 15, 1, 2, 3, 4, 5, 6, 7, 8, 9, 11, 12, 13, 14, 15, 1, 3, 4, 5, 6, 7, 8, 9, 12, 14, 15, 1, 2, 3, 5, 12, 13, 14, 15, 1, 2, 3, 4, 5, 6, 7, 8, 9, 10, 11, 12, 13, 14, 15, 3, 6, 9, 12, 13, 2, 3, 4, 5, 6, 8, 10, 11, 12, 14, 1, 2, 3, 4, 5, 6, 7, 9, 10, 11, 12, 13, 14, 15, 1, 2, 3, 5, 6, 7, 8, 10, 11, 12, 13, 14, 15, 2, 4, 5, 7, 8, 9, 11, 1, 6, 12, 14, 1, 2, 3, 4, 5, 6, 7, 8, 9, 10, 11, 13, 14, 15, 1, 2, 3, 4, 5, 6, 7, 8, 9, 10, 11, 12, 13, 14, 15, 1, 2, 3, 4, 5, 6, 7, 8, 9, 10, 11, 12, 13, 14, 15, 2, 4, 6, 7, 9, 10, 11, 12, 13, 15, 1, 2, 3, 5, 6, 12, 13, 14, 1, 3, 4, 5, 6, 7, 8, 9, 10, 11, 12, 13, 14, 15, 1, 3, 5, 6, 12, 14, 15, 1, 2, 3, 4, 5, 6, 7, 8, 9, 10, 11, 12, 13, 15, 1, 2, 3, 4, 5, 6, 7, 8, 10, 11, 13, 14, 15, 1, 2, 3, 4, 5, 6, 7, 8, 10, 11, 12, 13, 14, 15, 1, 4, 5, 9, 13, 14, 1, 2, 3, 4, 6, 7, 9, 10, 11, 12, 13, 15, 12, 1, 2, 3, 4, 5, 6, 7, 8, 9, 10, 11, 12, 13, 14, 15, 13, 3, 4, 5, 6, 9, 11, 12, 15, 1, 4, 5, 8, 10, 11, 15, 1, 2, 3, 4, 5, 6, 7, 8, 9, 10, 11, 12, 13, 14, 15, 1, 2, 3, 4, 5, 6, 7, 8, 9, 10, 11, 12, 13, 14, 15, 1, 2, 3, 4, 5, 6, 7, 8, 9, 10, 11, 12, 13, 14, 15, 1, 2, 3, 4, 5, 7, 8, 9, 10, 11, 12, 13, 14, 15, 1, 2, 3, 4, 5, 6, 7, 8, 9, 10, 11, 12, 13, 14, 15, 1, 2, 3, 4, 5, 6, 7, 8, 9, 10, 11, 12, 13, 14, 15, 1, 2, 3, 4, 5, 6, 7, 8, 9, 10, 11, 12, 13, 14, 15, 1, 2, 3, 4, 5, 6, 7, 9, 10, 11, 12, 13, 14, 15, 1, 2, 6, 8, 12, 14, 2, 3, 7, 8], \"Freq\": [0.3418935984094754, 0.06122123684488302, 0.1026356029458333, 0.05401873839254384, 0.09070646488414653, 0.04839178647665386, 0.049517176859831855, 0.03196108688225511, 0.05109272339628105, 0.022732885740195535, 0.02790968150281432, 0.037137882644873894, 0.043214990714035076, 0.029260149962627914, 0.008327888835517177, 0.6212802551672347, 0.17360204953980596, 0.05254150525895012, 0.0030726026467222294, 0.04485999864214455, 0.004916164234755567, 0.015055752968938924, 0.026424382761811173, 0.027038903291155617, 0.020586437733038938, 0.009832328469511134, 0.6368583249681853, 0.09789030473494235, 0.1634044386431528, 0.00038089612737331657, 0.0036185132100465074, 0.041517677883691505, 0.00895105899327294, 0.011807779948572813, 0.03580423597309176, 0.0015459357229281531, 0.9980561027224156, 0.11738571657260959, 0.8245184920064413, 0.007312802589857573, 0.010131278588031846, 0.004418151564705617, 0.005713127023326229, 0.0012188004316429288, 0.007769852751723671, 0.009598053399188065, 0.006398702266125376, 0.0005332251888437813, 0.004951376753549399, 0.05881190755876763, 0.9409905209402821, 0.040649085846366, 0.181129834633424, 0.06650252741915051, 0.010746310051338139, 0.6510083480375858, 0.02180410735054115, 0.028189595931771057, 0.003414729336607114, 0.9649237090789411, 0.0051220940049106715, 0.006566787185782912, 0.007880144622939494, 0.009193502060096077, 0.001707364668303557, 0.0011820216934409242, 0.42699769200067156, 0.0014929989230792714, 0.310792609154335, 0.10513200750016535, 0.08236377392320647, 0.009953326153861809, 0.004230163615391269, 0.01293932400002035, 0.044665551115454866, 0.0013685823461559987, 0.005087517902406761, 0.8355400235052705, 0.002713342881283606, 0.0016958393008022537, 0.0008479196504011269, 0.1490642745405181, 0.005087517902406761, 0.01969292319077176, 0.05079669907152342, 0.9130522612095205, 0.01619604897932631, 0.06082221819147854, 0.011913630367403012, 0.06991419926133872, 0.18246665457443562, 0.0100325308357078, 0.6646551678656417, 0.9998553013623882, 0.23243175081577538, 0.002448490979248198, 0.006296119660923938, 0.0022735987664447553, 0.01731432906754083, 0.0029731676176585264, 0.003148059830461969, 0.6133469903016736, 0.0034978442560688544, 0.0029731676176585264, 0.11333015389663088, 0.16125539322447552, 0.0337299283566271, 0.26285034259894097, 0.06229401182980682, 0.13208356329441964, 0.11253438559823638, 0.003241314436672875, 0.0940994097396594, 0.1104072729991698, 0.02744988163557341, 0.9957921301393365, 0.003936613783637803, 0.6048030273427526, 0.011507880012864215, 0.09685799010827381, 0.007032593341194797, 0.04890849005467291, 0.0015983166684533632, 0.01822081002036834, 0.019819126688821704, 0.007671920008576143, 0.1214720668024556, 0.054023103393723675, 0.0031966333369067264, 0.004794950005360089, 0.007035193098399642, 0.0923369094164953, 0.022571244524032183, 0.10318283210986141, 0.0680068666178632, 0.02345064366133214, 0.08969871200459544, 0.019346781020599016, 0.5683849757415377, 0.00498326177803308, 0.0008793991372999553, 0.27551923172059856, 0.0017934530950079646, 0.04416378246457112, 0.5907186131682483, 0.08339556891787035, 0.00403526946376792, 0.209348090610281, 0.09821600652024752, 0.07023117178571124, 0.05193339522851444, 0.09660149682402427, 0.09391064733031886, 0.08610718379857317, 0.042246337051174955, 0.05973685876026013, 0.02610124008894249, 0.04278450694991604, 0.03309744877257656, 0.0333665337219471, 0.03632646816502305, 0.020181371202790586, 0.46458862034313686, 0.5302541596361184, 0.0009859690584531767, 0.004141070045503343, 0.02374611439753362, 0.15492056364160153, 0.035505007584773825, 0.7857908913376149, 0.24654438189616007, 0.17345379080305068, 0.10058138057887593, 0.027272608616831867, 0.10734498751585023, 0.08029055976795302, 0.06283609025318063, 0.020072639941988255, 0.032072587733394275, 0.011563586053536712, 0.020072639941988255, 0.03403621555380617, 0.04145436509758444, 0.03883619467036858, 0.003490893902954479, 0.2275170819279047, 0.19903699201374309, 0.09676757823107185, 0.054047443359829424, 0.06569838923380462, 0.03527647500731382, 0.07605478556622704, 0.030098276841102615, 0.04530923395434802, 0.035923749778090215, 0.04854560780823002, 0.03560011239270202, 0.028156452528773412, 0.014240044957080807, 0.007443659863928603, 0.0521975347374765, 0.9474876035925268, 0.16850534899614075, 0.0001411267579532167, 0.0015523943374853837, 0.038245351405321724, 0.008044225203333352, 0.6315422418406448, 0.007338591413567269, 0.10965549092964938, 0.01721746447029244, 0.015241689858947404, 0.002258028127251467, 0.1816146366025935, 0.33445557439080675, 0.028464304203472915, 0.06559165751235063, 0.004950313774517029, 0.008972443716312116, 0.19058708031890562, 0.014541546712643773, 0.08570230722132606, 0.010519416770848687, 0.0173260982108096, 0.027845514981658288, 0.0034033407199804576, 0.02660793653802903, 0.6034314948516674, 0.1642094861371526, 0.06261445826538156, 0.004297070665271283, 0.02056455246951257, 0.0027624025705315393, 0.01841601713687693, 0.031921096370586675, 0.004297070665271283, 0.013505079233709747, 0.05125791436430745, 0.02056455246951257, 0.0018416017136876927, 0.16162232086683714, 0.012679971309224929, 0.01305847791547045, 0.5864959863774336, 0.003217306153086922, 0.008705651943646966, 0.112037955448674, 0.00018925330312276014, 0.07626908115847233, 0.025738449224695377, 0.6941515044297254, 0.018890394312263036, 0.0018326501944732798, 0.013674389912608319, 0.0014097309188256, 0.26164605853403133, 0.0008458385512953599, 0.00437016584835936, 0.0014097309188256, 0.0016916771025907197, 0.6078416027270844, 0.05962185692471756, 0.08071551027714471, 0.012053516201386944, 0.0671553045505844, 0.04025013445820283, 0.033147169553814096, 0.004089585854041998, 0.004950551296998209, 0.03164048002864073, 0.03529958316120462, 0.016573584776907048, 0.006241999461432524, 0.6319324834311241, 0.0764502455863302, 0.09312689229511302, 0.007776189195668391, 0.010680549015737308, 0.023328567587005175, 0.01705140281459816, 0.03522707394664235, 0.017238780867505833, 0.005808719640137835, 0.03644503129054222, 0.022204299269559143, 0.01920625042303639, 0.0034664939787919335, 0.4294929613367181, 0.004808474712681573, 0.4500732331069952, 0.05423959475904814, 0.061163798345309606, 0.1363694367099555, 0.18705542203577966, 0.028661717892579142, 0.09775154312837518, 0.06848642064858385, 0.05159109220664246, 0.19761500231199303, 0.006637450459334117, 0.058530244959582665, 0.019007244497184064, 0.05008258073861197, 0.027454908718154758, 0.028661717892579142, 0.029265122479791333, 0.013274900918668234, 0.15075010399521308, 0.6006316593105004, 0.015488024383069838, 0.004919725392269242, 0.02204765823942883, 6.07373505218425e-05, 0.01020387488766954, 0.11327515872323626, 0.0445812152830324, 0.000121474701043685, 0.02812139329161308, 0.009657238732972957, 0.14923058027490346, 0.048893210061578055, 0.14497899679128798, 0.07376497344072863, 0.10076252856168695, 0.10926569552891792, 0.10820279965801405, 0.05463284776445896, 0.039114568049262444, 0.03762651382999702, 0.009140904489773288, 0.03018624273366993, 0.048893210061578055, 0.03443782621728541, 0.010841537883219482, 0.013119736254417967, 0.018659180450727775, 0.07653179481743815, 0.002915496945426215, 0.6880572791205867, 0.04854302414134648, 0.014723259574402386, 0.004227470570868011, 0.005393669349038498, 0.05349936894857105, 0.007288742363565537, 0.005102119654495876, 0.062100084937578376, 0.39050986315182695, 0.14488766279418705, 0.05985201420166192, 0.04480724560452286, 0.040555463174896604, 0.06050613457545058, 0.08568976896631379, 0.018315370466082337, 0.04905902803414912, 0.021258912148131283, 0.021258912148131283, 0.026164814951546194, 0.02060479177434263, 0.0026164814951546195, 0.01406358803645608, 0.2334219833829104, 0.06606282548572935, 0.08568148275118838, 0.07126777537248379, 0.05925635255689663, 0.1237176550005477, 0.16135344648938746, 0.00440418836571529, 0.05485216419118134, 0.043040931755853974, 0.014213516998444801, 0.009408947872209939, 0.020019038025978594, 0.05325064114910306, 0.16867854086870937, 0.12851698351901666, 0.14904400171997073, 0.06158105460286216, 0.05771364537659545, 0.04254150148893376, 0.04997882692406204, 0.06425849175950833, 0.08538049599527266, 0.04759888278482099, 0.046706403732605595, 0.021419497253169446, 0.054441222185139006, 0.005354874313292362, 0.016659608974687348, 0.20622714822524268, 0.3386994483004854, 0.09896038848864076, 0.029072299367864072, 0.08177479280320388, 0.05914709181737863, 0.007017451571553397, 0.005442105300388349, 0.059290305114757275, 0.018188088767087374, 0.023486980770097084, 0.015323822819514561, 0.03265263180233009, 0.01675595579330097, 0.007733518058446601, 0.005795628609704741, 0.012682199075353904, 0.16077755601980917, 0.10479860203666103, 0.03054637196644381, 0.011318521755423376, 0.5588349657075301, 0.004636502887763793, 0.005318341547729056, 0.10234398286078607, 0.002795538505857581, 0.3533369661602799, 0.023492305027727506, 0.04952431870710123, 0.12698543258231085, 0.03365113963431237, 0.17492243338213317, 0.06444510703552275, 0.09079458429635225, 0.015873179072788856, 0.0304765038197546, 0.03619084828595859, 0.27692104531264294, 0.3544496531369705, 0.10538319746181048, 0.012998808497492041, 0.07451102728026689, 0.06661889354964672, 0.030407927020918882, 0.018569726424988633, 0.011606079015617894, 0.01740911852342684, 0.022051550129674, 0.0009284863212494315, 0.007892133730620168, 0.1213733853745303, 0.08567533085260962, 0.04721355598060476, 0.08959060134856221, 0.04606200583473635, 0.1566108198381036, 0.13933756765007746, 0.032013094055141765, 0.08037820018161494, 0.051589446534904715, 0.039843635047046945, 0.03500712443439963, 0.03777084478448381, 0.02602503329662604, 0.011976121517031452, 0.2300243001216467, 0.1106446000585136, 0.003441100001819801, 0.01985250001049885, 0.04341080002295749, 0.19428980010274877, 0.0794100000419954, 0.040499100021417656, 0.04076380002155764, 0.0293817000155383, 0.051881200027437, 0.02647000001399847, 0.042616700022537535, 0.07861590004157545, 0.00847040000447951, 0.1540481100765546, 0.05174436517956065, 0.11198112617103392, 0.006714917618721611, 0.11474609224933106, 0.10487121339826987, 0.2401570536578082, 0.022317226203398297, 0.07208661561274671, 0.002764966078297134, 0.039697012981265996, 0.025872182589780326, 0.031797109900417043, 0.012442347352337103, 0.008887390965955073, 0.10213421419218438, 0.0190419721375259, 0.18842231171048357, 0.04793783195461066, 0.1459440661729258, 0.07017565955577727, 0.12557048759221626, 0.08908447104898481, 0.004793783195461066, 0.012916582498881207, 0.03155907270345202, 0.09467721811035605, 0.042211924248921055, 0.009853887679558858, 0.015579795385248466, 0.09269908018781892, 0.021697493868662793, 0.27246512513371873, 0.011725879665192233, 0.40698958711942806, 0.11310395740047627, 0.012279858232051709, 0.0010156273725757052, 0.0002769892834297378, 0.04551857224362024, 0.012741507037767939, 0.009417635636611086, 0.08768273647738109, 0.15811177319630978, 0.0537410320345239, 0.08994551677357157, 0.04921547144214294, 0.02913329631345243, 0.27945336657952424, 0.044124215775714355, 0.03450739951690482, 0.01951648005464289, 0.02404204064702385, 0.02489058325809528, 0.10012802810642873, 0.0056569507404761995, 0.4569189968148265, 0.016625659859008744, 0.16195685897137826, 0.04930368096119834, 0.12870553925336078, 0.05131022611659595, 0.09602751815117119, 0.0008599479237418315, 0.025798437712254946, 0.012039270932385642, 0.09103992327953178, 0.14340103522353995, 0.06393844322811047, 0.04078378065990586, 0.10182789106699075, 0.0013156058277388985, 0.1802379984002291, 0.061570352738180456, 0.030522055203542446, 0.06604341255249271, 0.11945700915869199, 0.042099386487644753, 0.04446747697757477, 0.013945421774032326, 0.3989010395584232, 0.30026899201839896, 0.08008792694341871, 0.028342542396558694, 0.006235359327242913, 0.02477947992384846, 0.011660931728869863, 0.023321863457739726, 0.035873560804787145, 0.030528967095721792, 0.034658880416363204, 0.018787056674290335, 0.006559274097489297, 0.05106185131394888, 0.09759923478995292, 0.48433350950952353, 0.06463525482778339, 0.01766696965292746, 0.1549091607372542, 0.04589103092772621, 0.013788854363260456, 0.0010772542471297233, 0.06915972266572823, 0.35777091905853425, 0.3146768058469668, 0.04556304678098021, 0.08057701376537879, 0.05476543553970035, 0.027607166276160423, 0.001346691037861484, 0.04040073113584452, 0.011895770834443108, 0.019302571542681272, 0.007631249214548409, 0.02962720283295265, 0.008753491746099646, 0.9404291824101875, 0.02650453755191407, 0.029877842331248593, 0.003132354437953481, 0.16944592659753216, 0.2392016240947334, 0.35234866097995743, 0.07991696051844709, 0.03515247747890456, 0.020871783503099584, 0.05053168637592531, 0.0032955447636473026, 0.02773750176069813, 0.021421040963707467, 0.2329245510555832, 0.1034986014192682, 0.07588492161086874, 0.1515590517728184, 0.06176189453329039, 0.0678748465519437, 0.07230146697924437, 0.004637411876219757, 0.06703168075626739, 0.029300011399752097, 0.04532016151760216, 0.03267267458245737, 0.028246054155156696, 0.014123027077578348, 0.01285827838406387, 0.048704919206726024, 0.021085666241936266, 0.0323709523995923, 0.0005939624293503173, 0.04335925734257317, 0.11196191793253482, 0.7406711493998457, 0.000890943644025476, 0.21163421268098906, 0.013011388232582766, 0.1372834227805161, 0.03611324080880115, 0.06505694116291383, 0.032395701313777496, 0.13781449985123378, 0.0706332504054493, 0.06160494020324901, 0.027616007677318522, 0.00796615606076496, 0.13993880813410445, 0.018322158939759404, 0.02442954525301254, 0.015666773586171086, 0.00012788118419657273, 0.9998390386409038, 0.015294519019374437, 0.00547121005571118, 0.01566755606862747, 0.015294519019374437, 0.7849942973114701, 0.00024869136616869004, 0.004352098907952076, 0.04215318656559296, 0.11651190505003128, 0.26703847104072326, 0.006763229250214396, 0.2975820870094334, 0.028580097799293092, 0.16188116463416394, 0.03316164019459962, 0.08901282368024108, 0.014617301927882726, 0.008072241363159118, 0.0015271807984355086, 0.022035037234569482, 0.04908795423542707, 0.0150536392988643, 0.005454217137269674, 0.29973735442368493, 0.01087525728971995, 0.0017171458878505184, 0.2783684278193229, 0.01678987090342729, 0.15740503971963085, 0.10646304504673214, 0.006677789563863127, 0.013737167102804147, 0.10818019093458266, 0.9997793201421851, 0.8514675990536796, 0.08325080827847796, 0.002280844062424054, 0.03193181687393675, 0.017961646991589423, 0.004419135370946604, 0.0035638188475375842, 0.005131899140454121, 0.43718010896772663, 0.04656498953133071, 0.265878852142624, 0.012304738166310187, 0.0328126351101605, 0.051149107671720775, 0.03136501885530048, 0.02243805195033034, 0.0048253875162000736, 0.0004825387516200073, 0.0048253875162000736, 0.03498405949245053, 0.04994276079267076, 0.0016888856306700255, 0.003377771261340051, 0.9150990059752391, 0.0012039192290162334, 0.002407838458032467, 0.04791598531484609, 0.03334856264374967, 0.00303968360646264, 0.019352652294478807, 0.14479026245450374, 0.019453975081360896, 0.031714032294093544, 0.01570503196672364, 0.006484658360453632, 0.004863493770340224, 0.7376298885016006, 0.016920905409308695, 0.30897495648220596, 0.4466953596200906, 0.025854573823283183, 0.011775350454168578, 0.04838133121386655, 0.03276619256812126, 0.03251020668868281, 0.02022288447563734, 0.017151053922375974, 0.02790246085879076, 0.011775350454168578, 0.010495421056976342, 0.0033278164326998156, 0.0020478870355075786, 0.3923365135934738, 0.005952691930383741, 0.002705769059265337, 0.059526919303837404, 0.0007576153365942943, 0.31062228800366065, 0.11851268479582175, 0.037556074542602874, 0.00909138403913153, 0.04556515095802827, 0.007576153365942943, 0.005519768880901287, 0.004112768970083312, 0.0018232936758758493, 0.5857330933751166, 0.07498295242039431, 0.006989292424190756, 0.19608004072648197, 0.005317939887971228, 0.12907399813804452, 0.015222946251587623, 0.04473682163731873, 0.007456136939553121, 0.9323277898166216, 0.18488807096473853, 0.0222675413935634, 0.1473256526543841, 0.13248062505867517, 0.06545307621744394, 0.014620102935167889, 0.09896685063805956, 0.11898514542621251, 0.006297890495149245, 0.0013495479632462666, 0.010121609724347001, 0.04903357599794769, 0.13945328953544756, 0.008772061761100734, 0.2411541542170487, 0.2564527483076127, 0.0443860525917022, 0.05233729557298219, 0.14392756282570102, 0.025967350495825776, 0.0006038918719959483, 0.029288755791803494, 0.03462313399443437, 0.017412215642549845, 0.07850594335947328, 0.019022593967872373, 0.030798485471793365, 0.0063408646559574575, 0.01912324261320503, 0.4560328859686986, 0.07414098867600777, 0.10835990652647289, 0.0368511423005009, 0.09168915167624629, 0.04781874417564998, 0.004387040750059631, 0.02719965265036971, 0.05439930530073942, 0.01864492318775343, 0.007896673350107335, 0.012283714100166966, 0.03531567803798003, 0.013599826325184855, 0.01140630595015504, 0.003551927867343888, 0.10300590815297275, 0.0188525402189791, 0.08388014271342874, 0.22541080696605442, 0.07185823300857251, 0.4666686767248739, 0.0010929008822596579, 0.006830630514122861, 0.0188525402189791, 0.022632071446064914, 0.007891445964746318, 0.22006711577160487, 0.006849179516572277, 0.006402493895926258, 0.06923627120013279, 0.09186834264619771, 0.5748843937714252, 0.07038311351190873, 0.0020625088208617946, 0.07734408078231729, 0.056461178971091625, 0.12968024211168533, 0.034289209146827336, 0.008250035283447178, 0.05310960213719121, 0.5215569180754263, 0.010312544104308973, 0.011601612117347594, 0.007734408078231729, 0.0038672040391158646, 0.013921934540817114, 0.027135209387962045, 0.05122462996707121, 0.018690067690688143, 0.7727996877734905, 0.07946739892188885, 0.035026571301808154, 0.015505833935978312, 0.26063616016913227, 0.3145844308766295, 0.054858790044332646, 0.009560453036771666, 0.0805809613099326, 0.01638934806303714, 0.027998469607688446, 0.00796704419730972, 0.03778655247866896, 0.0043249668499681345, 0.14021997787265109, 0.012292011047277855, 0.017755127068290234, 0.015478828726201743, 0.07154626971924968, 0.020719281728651492, 0.6834125582684891, 0.019100587843600594, 0.026222840937824548, 0.009712163310305388, 0.0077697306482443105, 0.03949613079524191, 0.01618693885050898, 0.03593500424812993, 0.037229959356170655, 0.00809346942525449, 0.02460414705277365, 0.025367647301486877, 0.004204582425660808, 0.5756073340729646, 0.010511456064152021, 0.00784855386123351, 0.05311789131084821, 0.007988706608755535, 0.08367119027065008, 0.024947189058920797, 0.004064429678138782, 0.09306142435462589, 0.040504144033865784, 0.0067273318810572936, 0.06222781989977996, 0.2707396691258957, 0.6558260528848138, 0.015841784423116644, 0.0004764446443042599, 0.053004466678848915, 0.00404977947658621, 0.003067287638334015, 0.012547994884093699, 0.0036249762998492906, 0.042384338275160936, 0.016451815514700627, 0.6516592009805994, 0.17344117373125068, 0.0008365329922729132, 0.07863410127365385, 0.006413419607425668, 0.0058557309459103925, 0.005019197953637479, 0.9998519988088641, 0.25868114145554316, 0.2631669415963907, 0.05034064602506716, 0.03239744546167689, 0.11015131456970141, 0.061555146377186086, 0.0074763335680792815, 0.03563719000784458, 0.026914800845085414, 0.014703456017222586, 0.0655425242801617, 0.014952667136158563, 0.03588640112678055, 0.0034889556651036646, 0.01894004503913418, 0.9998192574767935, 0.11873087708581219, 0.0016399292415167428, 0.018039221656684173, 0.020007136746504263, 0.7646990053192572, 0.04231017443113197, 0.023450988153689425, 0.011151518842313852, 0.030936201163766032, 0.010563580885188401, 0.9147558018911957, 0.002263624475397515, 0.003772707458995858, 0.036972533098159406, 0.0005030276611994477, 0.01622218962487632, 0.051512567054431815, 0.06858855613324899, 0.06688095722536727, 0.12579311954728653, 0.04895116869260924, 0.3150519985041769, 0.04325917233300351, 0.06261195995566297, 0.02362178489236376, 0.08025714867044073, 0.023052585256403187, 0.024760184164284906, 0.034721177793594925, 0.015083790352955172, 0.11756631536030036, 0.08467925561964683, 0.14218237804043027, 0.0744389735447128, 0.06478947697410188, 0.05317069538908056, 0.1333205954755835, 0.04135498530261822, 0.07463590204615383, 0.042142699308382374, 0.04312734181558757, 0.028948489711832753, 0.044308912824233805, 0.03879491478388471, 0.016345065619606247, 0.09584586773640597, 0.13061645066917152, 0.08193763456329974, 0.01662940922871397, 0.04837646321080427, 0.1505717417436283, 0.12184821671221326, 0.00997764553722838, 0.14452468384227776, 0.02358352581526708, 0.07951881140275951, 0.05170234505654706, 0.029932936611685144, 0.0045352934260129004, 0.00997764553722838, 0.20977693496598085, 0.4334022250519653, 0.03949345719408441, 0.011796746954077161, 0.09232236746669083, 0.00487256939407535, 0.019746728597042205, 0.020003179617783015, 0.008975785725928276, 0.08924495521780114, 0.016156414306670894, 0.04051926127704764, 0.005385471435556966, 0.007693530622224236, 0.19392363343568822, 0.1578519877886683, 0.06613135035286982, 0.07923429855798389, 0.10189469133623999, 0.06289415138454753, 0.061506780398123684, 0.051486878829507046, 0.062123389725423174, 0.022660392778256093, 0.05888619075710087, 0.014027862196063296, 0.025280982419278907, 0.03298859901052248, 0.00878668291401767, 0.10988936812917724, 0.12038626299524789, 0.04854813875557681, 0.09151980211355358, 0.1482686399832481, 0.03575504813755319, 0.20534550581750732, 0.029850544775388444, 0.039691383712329685, 0.03673913203124731, 0.03411490831472965, 0.012465062653458911, 0.031490684598211985, 0.039691383712329685, 0.0160733702636707, 0.47439060267433236, 0.0770924715067526, 0.035987149562280774, 0.018073546224612123, 0.02974937697148544, 0.02830989098899421, 0.13883042586693206, 0.014714745598799251, 0.035027492240619955, 0.033268120484241784, 0.033268120484241784, 0.025750804797898687, 0.02894966253676809, 0.021912175511255405, 0.004958229495247574, 0.12429496054812184, 0.19881009858816504, 0.06493020327140693, 0.045760333734134406, 0.23220277455631716, 0.057509608611817566, 0.03524782463304948, 0.05472688561447155, 0.026899655641011443, 0.07667947814909008, 0.01762391231652474, 0.03308348452400258, 0.020406635313870748, 0.01174927487768316, 0.8753779075048056, 0.10957408722860597, 0.00024295806480843896, 0.00024295806480843896, 0.01166198711080507, 0.0029154967777012676, 0.21227027373991117, 0.027581615186587184, 0.5224282405930043, 0.23768862499029544], \"Term\": [\"amaze\", \"amaze\", \"amaze\", \"amaze\", \"amaze\", \"amaze\", \"amaze\", \"amaze\", \"amaze\", \"amaze\", \"amaze\", \"amaze\", \"amaze\", \"amaze\", \"amaze\", \"ambiance\", \"ambiance\", \"ambiance\", \"ambiance\", \"ambiance\", \"ambiance\", \"ambiance\", \"ambiance\", \"ambiance\", \"ambiance\", \"ambiance\", \"appetizer\", \"appetizer\", \"appetizer\", \"appetizer\", \"appetizer\", \"appetizer\", \"appetizer\", \"appetizer\", \"appetizer\", \"bagel\", \"bagel\", \"bar\", \"bar\", \"bar\", \"bar\", \"bar\", \"bar\", \"bar\", \"bar\", \"bar\", \"bar\", \"bar\", \"bar\", \"bartender\", \"bartender\", \"beef\", \"beef\", \"beef\", \"beef\", \"beef\", \"beef\", \"beef\", \"beer\", \"beer\", \"beer\", \"beer\", \"beer\", \"beer\", \"beer\", \"beer\", \"bread\", \"bread\", \"bread\", \"bread\", \"bread\", \"bread\", \"bread\", \"bread\", \"bread\", \"bread\", \"breakfast\", \"breakfast\", \"breakfast\", \"breakfast\", \"breakfast\", \"breakfast\", \"breakfast\", \"brunch\", \"brunch\", \"brunch\", \"brunch\", \"bun\", \"bun\", \"bun\", \"bun\", \"bun\", \"bun\", \"burger\", \"cake\", \"cake\", \"cake\", \"cake\", \"cake\", \"cake\", \"cake\", \"cake\", \"cake\", \"cake\", \"cake\", \"cheese\", \"cheese\", \"cheese\", \"cheese\", \"cheese\", \"cheese\", \"cheese\", \"cheese\", \"cheese\", \"cheese\", \"cheesesteak\", \"cheesesteak\", \"chef\", \"chef\", \"chef\", \"chef\", \"chef\", \"chef\", \"chef\", \"chef\", \"chef\", \"chef\", \"chef\", \"chef\", \"chef\", \"chip\", \"chip\", \"chip\", \"chip\", \"chip\", \"chip\", \"chip\", \"chip\", \"chip\", \"chip\", \"chip\", \"chocolate\", \"chocolate\", \"chocolate\", \"chocolate\", \"chocolate\", \"chocolate\", \"choice\", \"choice\", \"choice\", \"choice\", \"choice\", \"choice\", \"choice\", \"choice\", \"choice\", \"choice\", \"choice\", \"choice\", \"choice\", \"choice\", \"choice\", \"cocktail\", \"cocktail\", \"cocktail\", \"cocktail\", \"coffee\", \"coffee\", \"coffee\", \"coffee\", \"come\", \"come\", \"come\", \"come\", \"come\", \"come\", \"come\", \"come\", \"come\", \"come\", \"come\", \"come\", \"come\", \"come\", \"come\", \"couple\", \"couple\", \"couple\", \"couple\", \"couple\", \"couple\", \"couple\", \"couple\", \"couple\", \"couple\", \"couple\", \"couple\", \"couple\", \"couple\", \"couple\", \"crab\", \"crab\", \"cream\", \"cream\", \"cream\", \"cream\", \"cream\", \"cream\", \"cream\", \"cream\", \"cream\", \"cream\", \"cream\", \"crispy\", \"crispy\", \"crispy\", \"crispy\", \"crispy\", \"crispy\", \"crispy\", \"crispy\", \"crispy\", \"crispy\", \"crispy\", \"crispy\", \"crispy\", \"crispy\", \"date\", \"date\", \"date\", \"date\", \"date\", \"date\", \"date\", \"date\", \"date\", \"date\", \"date\", \"date\", \"date\", \"delivery\", \"delivery\", \"delivery\", \"delivery\", \"delivery\", \"delivery\", \"delivery\", \"delivery\", \"delivery\", \"delivery\", \"dessert\", \"dessert\", \"dessert\", \"dessert\", \"dessert\", \"dessert\", \"dessert\", \"dessert\", \"dessert\", \"dessert\", \"din\", \"din\", \"din\", \"din\", \"din\", \"din\", \"din\", \"din\", \"din\", \"din\", \"din\", \"din\", \"din\", \"dinner\", \"dinner\", \"dinner\", \"dinner\", \"dinner\", \"dinner\", \"dinner\", \"dinner\", \"dinner\", \"dinner\", \"dinner\", \"dinner\", \"dinner\", \"dinner\", \"dish\", \"dish\", \"dish\", \"dish\", \"dish\", \"door\", \"door\", \"door\", \"door\", \"door\", \"door\", \"door\", \"door\", \"door\", \"door\", \"door\", \"door\", \"door\", \"door\", \"door\", \"drink\", \"drink\", \"drink\", \"drink\", \"drink\", \"drink\", \"drink\", \"drink\", \"drink\", \"drink\", \"drink\", \"drink\", \"eat\", \"eat\", \"eat\", \"eat\", \"eat\", \"eat\", \"eat\", \"eat\", \"eat\", \"eat\", \"eat\", \"eat\", \"eat\", \"eat\", \"eat\", \"egg\", \"egg\", \"egg\", \"egg\", \"egg\", \"egg\", \"egg\", \"egg\", \"egg\", \"egg\", \"egg\", \"egg\", \"egg\", \"end\", \"end\", \"end\", \"end\", \"end\", \"end\", \"end\", \"end\", \"end\", \"end\", \"end\", \"end\", \"end\", \"end\", \"end\", \"family\", \"family\", \"family\", \"family\", \"family\", \"family\", \"family\", \"family\", \"family\", \"family\", \"family\", \"family\", \"family\", \"family\", \"fan\", \"fan\", \"fan\", \"fan\", \"fan\", \"fan\", \"fan\", \"fan\", \"fan\", \"fan\", \"fan\", \"fan\", \"fan\", \"fan\", \"fan\", \"friend\", \"friend\", \"friend\", \"friend\", \"friend\", \"friend\", \"friend\", \"friend\", \"friend\", \"friend\", \"friend\", \"friend\", \"friend\", \"friend\", \"friend\", \"fry\", \"fry\", \"fry\", \"fry\", \"fry\", \"fry\", \"fry\", \"fry\", \"fry\", \"fry\", \"fry\", \"grill\", \"grill\", \"grill\", \"grill\", \"grill\", \"grill\", \"grill\", \"grill\", \"grill\", \"grill\", \"grill\", \"group\", \"group\", \"group\", \"group\", \"group\", \"group\", \"group\", \"group\", \"group\", \"group\", \"group\", \"group\", \"group\", \"hand\", \"hand\", \"hand\", \"hand\", \"hand\", \"hand\", \"hand\", \"hand\", \"hand\", \"hand\", \"hand\", \"hand\", \"hand\", \"hand\", \"hand\", \"house\", \"house\", \"house\", \"house\", \"house\", \"house\", \"house\", \"house\", \"house\", \"house\", \"house\", \"house\", \"house\", \"house\", \"house\", \"item\", \"item\", \"item\", \"item\", \"item\", \"item\", \"item\", \"item\", \"item\", \"item\", \"item\", \"item\", \"item\", \"item\", \"item\", \"lunch\", \"lunch\", \"lunch\", \"lunch\", \"lunch\", \"lunch\", \"lunch\", \"lunch\", \"lunch\", \"lunch\", \"lunch\", \"lunch\", \"lunch\", \"lunch\", \"lunch\", \"meat\", \"meat\", \"meat\", \"meat\", \"meat\", \"meat\", \"meat\", \"meat\", \"meat\", \"meat\", \"meat\", \"meat\", \"money\", \"money\", \"money\", \"money\", \"money\", \"money\", \"money\", \"money\", \"money\", \"money\", \"money\", \"money\", \"money\", \"money\", \"mushroom\", \"mushroom\", \"mushroom\", \"mushroom\", \"mushroom\", \"mushroom\", \"mushroom\", \"mushroom\", \"mushroom\", \"mushroom\", \"neighborhood\", \"neighborhood\", \"neighborhood\", \"neighborhood\", \"neighborhood\", \"neighborhood\", \"neighborhood\", \"neighborhood\", \"neighborhood\", \"neighborhood\", \"neighborhood\", \"neighborhood\", \"neighborhood\", \"neighborhood\", \"night\", \"night\", \"night\", \"night\", \"night\", \"night\", \"night\", \"night\", \"night\", \"night\", \"night\", \"night\", \"night\", \"onion\", \"onion\", \"onion\", \"onion\", \"onion\", \"onion\", \"onion\", \"onion\", \"onion\", \"onion\", \"party\", \"party\", \"party\", \"party\", \"party\", \"party\", \"party\", \"party\", \"party\", \"party\", \"party\", \"party\", \"party\", \"pasta\", \"pasta\", \"pasta\", \"pasta\", \"pepper\", \"pepper\", \"pepper\", \"pepper\", \"pepper\", \"pepper\", \"pepper\", \"pepper\", \"pepper\", \"pepper\", \"philadelphia\", \"philadelphia\", \"philadelphia\", \"philadelphia\", \"philadelphia\", \"philadelphia\", \"philadelphia\", \"philadelphia\", \"philadelphia\", \"philadelphia\", \"philadelphia\", \"philadelphia\", \"philadelphia\", \"philadelphia\", \"philadelphia\", \"pie\", \"pie\", \"pie\", \"pie\", \"pie\", \"pie\", \"pie\", \"pie\", \"piece\", \"piece\", \"piece\", \"piece\", \"piece\", \"piece\", \"piece\", \"piece\", \"piece\", \"piece\", \"piece\", \"piece\", \"piece\", \"piece\", \"piece\", \"pizza\", \"pizza\", \"pork\", \"pork\", \"pork\", \"pork\", \"pork\", \"pork\", \"pork\", \"pork\", \"pork\", \"portion\", \"portion\", \"portion\", \"portion\", \"portion\", \"portion\", \"portion\", \"portion\", \"portion\", \"portion\", \"portion\", \"portion\", \"portion\", \"portion\", \"potato\", \"potato\", \"potato\", \"potato\", \"potato\", \"potato\", \"potato\", \"potato\", \"potato\", \"potato\", \"ramen\", \"reservation\", \"reservation\", \"reservation\", \"reservation\", \"reservation\", \"reservation\", \"reservation\", \"reservation\", \"restaurant\", \"restaurant\", \"restaurant\", \"restaurant\", \"restaurant\", \"restaurant\", \"restaurant\", \"restaurant\", \"restaurant\", \"restaurant\", \"restaurant\", \"restaurant\", \"restaurant\", \"restaurant\", \"restaurant\", \"rice\", \"rice\", \"rice\", \"rice\", \"rice\", \"roll\", \"roll\", \"roll\", \"roll\", \"roll\", \"roll\", \"roll\", \"roll\", \"roll\", \"roll\", \"room\", \"room\", \"room\", \"room\", \"room\", \"room\", \"room\", \"room\", \"room\", \"room\", \"room\", \"room\", \"room\", \"room\", \"salad\", \"salad\", \"salad\", \"salad\", \"salad\", \"salad\", \"salad\", \"salad\", \"salad\", \"salad\", \"salad\", \"salad\", \"salad\", \"sandwich\", \"sandwich\", \"sandwich\", \"sandwich\", \"sandwich\", \"sandwich\", \"sandwich\", \"seafood\", \"seafood\", \"seafood\", \"seafood\", \"season\", \"season\", \"season\", \"season\", \"season\", \"season\", \"season\", \"season\", \"season\", \"season\", \"season\", \"season\", \"season\", \"season\", \"seat\", \"seat\", \"seat\", \"seat\", \"seat\", \"seat\", \"seat\", \"seat\", \"seat\", \"seat\", \"seat\", \"seat\", \"seat\", \"seat\", \"seat\", \"share\", \"share\", \"share\", \"share\", \"share\", \"share\", \"share\", \"share\", \"share\", \"share\", \"share\", \"share\", \"share\", \"share\", \"share\", \"shop\", \"shop\", \"shop\", \"shop\", \"shop\", \"shop\", \"shop\", \"shop\", \"shop\", \"shop\", \"shrimp\", \"shrimp\", \"shrimp\", \"shrimp\", \"shrimp\", \"shrimp\", \"shrimp\", \"shrimp\", \"slice\", \"slice\", \"slice\", \"slice\", \"slice\", \"slice\", \"slice\", \"slice\", \"slice\", \"slice\", \"slice\", \"slice\", \"slice\", \"slice\", \"soup\", \"soup\", \"soup\", \"soup\", \"soup\", \"soup\", \"soup\", \"space\", \"space\", \"space\", \"space\", \"space\", \"space\", \"space\", \"space\", \"space\", \"space\", \"space\", \"space\", \"space\", \"space\", \"spice\", \"spice\", \"spice\", \"spice\", \"spice\", \"spice\", \"spice\", \"spice\", \"spice\", \"spice\", \"spice\", \"spice\", \"spice\", \"spicy\", \"spicy\", \"spicy\", \"spicy\", \"spicy\", \"spicy\", \"spicy\", \"spicy\", \"spicy\", \"spicy\", \"spicy\", \"spicy\", \"spicy\", \"spicy\", \"steak\", \"steak\", \"steak\", \"steak\", \"steak\", \"steak\", \"store\", \"store\", \"store\", \"store\", \"store\", \"store\", \"store\", \"store\", \"store\", \"store\", \"store\", \"store\", \"sushi\", \"table\", \"table\", \"table\", \"table\", \"table\", \"table\", \"table\", \"table\", \"table\", \"table\", \"table\", \"table\", \"table\", \"table\", \"table\", \"taco\", \"tea\", \"tea\", \"tea\", \"tea\", \"tea\", \"tea\", \"tea\", \"tea\", \"toast\", \"toast\", \"toast\", \"toast\", \"toast\", \"toast\", \"toast\", \"today\", \"today\", \"today\", \"today\", \"today\", \"today\", \"today\", \"today\", \"today\", \"today\", \"today\", \"today\", \"today\", \"today\", \"today\", \"try\", \"try\", \"try\", \"try\", \"try\", \"try\", \"try\", \"try\", \"try\", \"try\", \"try\", \"try\", \"try\", \"try\", \"try\", \"variety\", \"variety\", \"variety\", \"variety\", \"variety\", \"variety\", \"variety\", \"variety\", \"variety\", \"variety\", \"variety\", \"variety\", \"variety\", \"variety\", \"variety\", \"vibe\", \"vibe\", \"vibe\", \"vibe\", \"vibe\", \"vibe\", \"vibe\", \"vibe\", \"vibe\", \"vibe\", \"vibe\", \"vibe\", \"vibe\", \"vibe\", \"visit\", \"visit\", \"visit\", \"visit\", \"visit\", \"visit\", \"visit\", \"visit\", \"visit\", \"visit\", \"visit\", \"visit\", \"visit\", \"visit\", \"visit\", \"wait\", \"wait\", \"wait\", \"wait\", \"wait\", \"wait\", \"wait\", \"wait\", \"wait\", \"wait\", \"wait\", \"wait\", \"wait\", \"wait\", \"wait\", \"week\", \"week\", \"week\", \"week\", \"week\", \"week\", \"week\", \"week\", \"week\", \"week\", \"week\", \"week\", \"week\", \"week\", \"week\", \"weekend\", \"weekend\", \"weekend\", \"weekend\", \"weekend\", \"weekend\", \"weekend\", \"weekend\", \"weekend\", \"weekend\", \"weekend\", \"weekend\", \"weekend\", \"weekend\", \"wine\", \"wine\", \"wine\", \"wine\", \"wine\", \"wine\", \"wing\", \"wing\", \"wing\", \"wing\"]}, \"R\": 30, \"lambda.step\": 0.01, \"plot.opts\": {\"xlab\": \"PC1\", \"ylab\": \"PC2\"}, \"topic.order\": [6, 8, 11, 7, 9, 10, 15, 1, 4, 12, 14, 3, 2, 13, 5]};\n",
       "\n",
       "function LDAvis_load_lib(url, callback){\n",
       "  var s = document.createElement('script');\n",
       "  s.src = url;\n",
       "  s.async = true;\n",
       "  s.onreadystatechange = s.onload = callback;\n",
       "  s.onerror = function(){console.warn(\"failed to load library \" + url);};\n",
       "  document.getElementsByTagName(\"head\")[0].appendChild(s);\n",
       "}\n",
       "\n",
       "if(typeof(LDAvis) !== \"undefined\"){\n",
       "   // already loaded: just create the visualization\n",
       "   !function(LDAvis){\n",
       "       new LDAvis(\"#\" + \"ldavis_el68337108479081603277018588\", ldavis_el68337108479081603277018588_data);\n",
       "   }(LDAvis);\n",
       "}else if(typeof define === \"function\" && define.amd){\n",
       "   // require.js is available: use it to load d3/LDAvis\n",
       "   require.config({paths: {d3: \"https://d3js.org/d3.v5\"}});\n",
       "   require([\"d3\"], function(d3){\n",
       "      window.d3 = d3;\n",
       "      LDAvis_load_lib(\"https://cdn.jsdelivr.net/gh/bmabey/pyLDAvis@3.4.0/pyLDAvis/js/ldavis.v3.0.0.js\", function(){\n",
       "        new LDAvis(\"#\" + \"ldavis_el68337108479081603277018588\", ldavis_el68337108479081603277018588_data);\n",
       "      });\n",
       "    });\n",
       "}else{\n",
       "    // require.js not available: dynamically load d3 & LDAvis\n",
       "    LDAvis_load_lib(\"https://d3js.org/d3.v5.js\", function(){\n",
       "         LDAvis_load_lib(\"https://cdn.jsdelivr.net/gh/bmabey/pyLDAvis@3.4.0/pyLDAvis/js/ldavis.v3.0.0.js\", function(){\n",
       "                 new LDAvis(\"#\" + \"ldavis_el68337108479081603277018588\", ldavis_el68337108479081603277018588_data);\n",
       "            })\n",
       "         });\n",
       "}\n",
       "</script>"
      ],
      "text/plain": [
       "PreparedData(topic_coordinates=              x         y  topics  cluster       Freq\n",
       "topic                                                \n",
       "5     -0.041730 -0.091384       1        1  19.447498\n",
       "7     -0.114979 -0.182133       2        1  12.063811\n",
       "10     0.142342 -0.042475       3        1   8.135744\n",
       "6     -0.004076  0.225087       4        1   7.946283\n",
       "8     -0.086614  0.035354       5        1   7.762937\n",
       "9      0.140631 -0.050297       6        1   6.056317\n",
       "14    -0.011769  0.089460       7        1   5.477813\n",
       "0      0.065811  0.222637       8        1   5.454614\n",
       "3     -0.200252 -0.141311       9        1   5.267752\n",
       "11    -0.078190  0.119406      10        1   4.970539\n",
       "13    -0.261045  0.052609      11        1   4.616605\n",
       "2      0.147299 -0.097415      12        1   4.003973\n",
       "1      0.038256 -0.042499      13        1   3.578779\n",
       "12     0.169797 -0.017750      14        1   3.362355\n",
       "4      0.094519 -0.079291      15        1   1.854981, topic_info=      Term          Freq         Total Category  logprob  loglift\n",
       "60   pizza  15639.000000  15639.000000  Default  30.0000  30.0000\n",
       "68    roll   9869.000000   9869.000000  Default  29.0000  29.0000\n",
       "87    taco   6959.000000   6959.000000  Default  28.0000  28.0000\n",
       "41     fry  14666.000000  14666.000000  Default  27.0000  27.0000\n",
       "21  coffee   8759.000000   8759.000000  Default  26.0000  26.0000\n",
       "..     ...           ...           ...      ...      ...      ...\n",
       "35     eat     50.672951   4704.129668  Topic15  -5.3424  -0.5435\n",
       "52   night     81.180842  12348.927457  Topic15  -4.8711  -1.0373\n",
       "94   visit     56.697256   6487.089674  Topic15  -5.2301  -0.7525\n",
       "4      bar     65.380627  13127.661908  Topic15  -5.0876  -1.3150\n",
       "40  friend     53.856348   6982.591828  Topic15  -5.2815  -0.8776\n",
       "\n",
       "[545 rows x 6 columns], token_table=      Topic      Freq   Term\n",
       "term                        \n",
       "0         1  0.341894  amaze\n",
       "0         2  0.061221  amaze\n",
       "0         3  0.102636  amaze\n",
       "0         4  0.054019  amaze\n",
       "0         5  0.090706  amaze\n",
       "...     ...       ...    ...\n",
       "98       14  0.002915   wine\n",
       "99        2  0.212270   wing\n",
       "99        3  0.027582   wing\n",
       "99        7  0.522428   wing\n",
       "99        8  0.237689   wing\n",
       "\n",
       "[1053 rows x 3 columns], R=30, lambda_step=0.01, plot_opts={'xlab': 'PC1', 'ylab': 'PC2'}, topic_order=[6, 8, 11, 7, 9, 10, 15, 1, 4, 12, 14, 3, 2, 13, 5])"
      ]
     },
     "execution_count": 32,
     "metadata": {},
     "output_type": "execute_result"
    }
   ],
   "source": [
    "import pyLDAvis\n",
    "import pyLDAvis.lda_model\n",
    "pyLDAvis.enable_notebook()\n",
    "pyLDAvis.lda_model.prepare(lda_tf, tf, tf_vectorizer)"
   ]
  },
  {
   "cell_type": "code",
   "execution_count": null,
   "id": "a8b1e370",
   "metadata": {},
   "outputs": [],
   "source": [
    "n_top_words = 3  # Number of top words to extract\n",
    "\n",
    "# Extract top words for each review\n",
    "reviews = {}\n",
    "for idx, review in enumerate(tf):  # Assuming 'tf' is your topic-token matrix\n",
    "    topic = lda_tf.transform(review.reshape(1, -1))  # Transform the review to match LDA input\n",
    "    ordered_indexes = topic.argsort()[0][::-1]\n",
    "    top_indexes = ordered_indexes[:n_top_words]\n",
    "    top_features = [tf_feature_names[i] for i in top_indexes]\n",
    "    reviews[idx] = top_features\n",
    "\n",
    "# Add a new 'topic' column to df1 containing the top 3 words for each review\n",
    "df['topic'] = [reviews[i] for i in range(len(df))]"
   ]
  },
  {
   "cell_type": "code",
   "execution_count": 71,
   "id": "f724f884",
   "metadata": {},
   "outputs": [
    {
     "name": "stdout",
     "output_type": "stream",
     "text": [
      "                 business_id                             name  stars  \\\n",
      "0     RI33oswGDkIsc0fuQ8GzjA                    Oregon Steaks    3.5   \n",
      "1     MTSW4McQd7CbVtyjqoe9mw               St Honore Pastries    4.0   \n",
      "2     GmJDCmDhtKbjofeO35yBrw  The Freshworks of Port Richmond    4.5   \n",
      "3     y1HgVnt4K5owmYXC5yXLGg      Flambo Caribbean Restaurant    4.5   \n",
      "4     DOl21AqtT74dUZ3kvXNNcA                  Golden Triangle    4.5   \n",
      "...                      ...                              ...    ...   \n",
      "2271  Mj0eEQNzeL3kSPwSH8yRVA                          Buccann    3.5   \n",
      "2272  8OoLxv91ztELwzfvG26xjA   Taste Queen Chinese Restaurant    3.5   \n",
      "2273  NyH11DJUjiGIrSq7n8IDSQ                     ACME Markets    2.5   \n",
      "2274  6CpCnFzpyOV4ymhNP1AOGw               Tamalex Restaurant    4.5   \n",
      "2275  NQn2fIomrrMXXUxZXH99YA                         Rox Cafe    2.5   \n",
      "\n",
      "                address          city  postal_code  \\\n",
      "0        2654 S 10th St  Philadelphia        19148   \n",
      "1           935 Race St  Philadelphia        19107   \n",
      "2      2634 Belgrade St  Philadelphia        19125   \n",
      "3        820 N Broad St  Philadelphia        19130   \n",
      "4          610 S 5th St  Philadelphia        19147   \n",
      "...                 ...           ...          ...   \n",
      "2271    7254 Castor Ave  Philadelphia        19149   \n",
      "2272  9347 Krewstown Rd  Philadelphia        19115   \n",
      "2273      29 Snyder Ave  Philadelphia        19148   \n",
      "2274      1163 S 7th St  Philadelphia        19147   \n",
      "2275  5134 Rochelle Ave  Philadelphia        19128   \n",
      "\n",
      "                                                   text  cluster  \\\n",
      "0     ppl order place i thru order cutlet cheese i p...    pizza   \n",
      "1     bakery chinatown beleive one quality pastry de...   others   \n",
      "2     omg chance nothing perogies frozen grocery sho...   others   \n",
      "3     word excellent i foodie i restaurant travel ea...  chinese   \n",
      "4     amaze everything menu .. byob delivery time .....     thai   \n",
      "...                                                 ...      ...   \n",
      "2271  bucann family i chicken empanadas disappoint b...   others   \n",
      "2272  ambiance queen while someone order order come ...  chinese   \n",
      "2273  place waste money burn manager staff money but...   others   \n",
      "2274  night place star place super cheap staff feel ...   others   \n",
      "2275  u menu price price look receipt item price pri...   others   \n",
      "\n",
      "                               topic  \n",
      "0          [beef, cheese, breakfast]  \n",
      "1                 [bagel, bar, beef]  \n",
      "2          [beef, cheese, breakfast]  \n",
      "3        [brunch, bartender, cheese]  \n",
      "4        [brunch, breakfast, cheese]  \n",
      "...                              ...  \n",
      "2271       [beer, bartender, cheese]  \n",
      "2272  [brunch, appetizer, breakfast]  \n",
      "2273     [cheese, burger, bartender]  \n",
      "2274      [ambiance, cheese, brunch]  \n",
      "2275             [bread, cake, beef]  \n",
      "\n",
      "[2276 rows x 9 columns]\n"
     ]
    }
   ],
   "source": [
    "print(df)"
   ]
  },
  {
   "cell_type": "code",
   "execution_count": 80,
   "id": "4cd1a4eb",
   "metadata": {},
   "outputs": [
    {
     "name": "stdout",
     "output_type": "stream",
     "text": [
      "                 business_id                             name  stars  \\\n",
      "0     RI33oswGDkIsc0fuQ8GzjA                    Oregon Steaks    3.5   \n",
      "1     MTSW4McQd7CbVtyjqoe9mw               St Honore Pastries    4.0   \n",
      "2     GmJDCmDhtKbjofeO35yBrw  The Freshworks of Port Richmond    4.5   \n",
      "3     y1HgVnt4K5owmYXC5yXLGg      Flambo Caribbean Restaurant    4.5   \n",
      "4     DOl21AqtT74dUZ3kvXNNcA                  Golden Triangle    4.5   \n",
      "...                      ...                              ...    ...   \n",
      "2271  Mj0eEQNzeL3kSPwSH8yRVA                          Buccann    3.5   \n",
      "2272  8OoLxv91ztELwzfvG26xjA   Taste Queen Chinese Restaurant    3.5   \n",
      "2273  NyH11DJUjiGIrSq7n8IDSQ                     ACME Markets    2.5   \n",
      "2274  6CpCnFzpyOV4ymhNP1AOGw               Tamalex Restaurant    4.5   \n",
      "2275  NQn2fIomrrMXXUxZXH99YA                         Rox Cafe    2.5   \n",
      "\n",
      "                address          city  postal_code  \\\n",
      "0        2654 S 10th St  Philadelphia        19148   \n",
      "1           935 Race St  Philadelphia        19107   \n",
      "2      2634 Belgrade St  Philadelphia        19125   \n",
      "3        820 N Broad St  Philadelphia        19130   \n",
      "4          610 S 5th St  Philadelphia        19147   \n",
      "...                 ...           ...          ...   \n",
      "2271    7254 Castor Ave  Philadelphia        19149   \n",
      "2272  9347 Krewstown Rd  Philadelphia        19115   \n",
      "2273      29 Snyder Ave  Philadelphia        19148   \n",
      "2274      1163 S 7th St  Philadelphia        19147   \n",
      "2275  5134 Rochelle Ave  Philadelphia        19128   \n",
      "\n",
      "                                                   text  cluster  \\\n",
      "0     ppl order place i thru order cutlet cheese i p...    pizza   \n",
      "1     bakery chinatown beleive one quality pastry de...   others   \n",
      "2     omg chance nothing perogies frozen grocery sho...   others   \n",
      "3     word excellent i foodie i restaurant travel ea...  chinese   \n",
      "4     amaze everything menu .. byob delivery time .....     thai   \n",
      "...                                                 ...      ...   \n",
      "2271  bucann family i chicken empanadas disappoint b...   others   \n",
      "2272  ambiance queen while someone order order come ...  chinese   \n",
      "2273  place waste money burn manager staff money but...   others   \n",
      "2274  night place star place super cheap staff feel ...   others   \n",
      "2275  u menu price price look receipt item price pri...   others   \n",
      "\n",
      "                               topic  \n",
      "0          [Beef, Cheese, Breakfast]  \n",
      "1                 [Bagel, Bar, Beef]  \n",
      "2          [Beef, Cheese, Breakfast]  \n",
      "3        [Brunch, Bartender, Cheese]  \n",
      "4        [Brunch, Breakfast, Cheese]  \n",
      "...                              ...  \n",
      "2271       [Beer, Bartender, Cheese]  \n",
      "2272  [Brunch, Appetizer, Breakfast]  \n",
      "2273     [Cheese, Burger, Bartender]  \n",
      "2274      [Ambiance, Cheese, Brunch]  \n",
      "2275             [Bread, Cake, Beef]  \n",
      "\n",
      "[2276 rows x 9 columns]\n"
     ]
    }
   ],
   "source": [
    "# Convert the first character of each word in the 'topic' column to uppercase\n",
    "df['topic'] = df['topic'].apply(lambda x: [word.capitalize() for word in x])\n",
    "print(df)"
   ]
  },
  {
   "cell_type": "code",
   "execution_count": 51,
   "id": "8726b588",
   "metadata": {},
   "outputs": [],
   "source": [
    "df.to_json('tm.json', orient='records')"
   ]
  }
 ],
 "metadata": {
  "kernelspec": {
   "display_name": "Python 3 (ipykernel)",
   "language": "python",
   "name": "python3"
  },
  "language_info": {
   "codemirror_mode": {
    "name": "ipython",
    "version": 3
   },
   "file_extension": ".py",
   "mimetype": "text/x-python",
   "name": "python",
   "nbconvert_exporter": "python",
   "pygments_lexer": "ipython3",
   "version": "3.11.6"
  }
 },
 "nbformat": 4,
 "nbformat_minor": 5
}
