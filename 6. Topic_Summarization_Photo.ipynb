{
 "cells": [
  {
   "cell_type": "code",
   "execution_count": 12,
   "metadata": {},
   "outputs": [],
   "source": [
    "from pyspark.sql import SparkSession\n",
    "import pyspark.sql.functions as F\n",
    "from pyspark.sql.window import Window\n",
    "from pyspark.sql.functions import lit, concat_ws\n"
   ]
  },
  {
   "cell_type": "markdown",
   "metadata": {},
   "source": [
    "## Load data from photo, topic modeling, text summarization"
   ]
  },
  {
   "cell_type": "code",
   "execution_count": 3,
   "metadata": {},
   "outputs": [
    {
     "name": "stderr",
     "output_type": "stream",
     "text": [
      "23/12/09 01:41:59 WARN Utils: Your hostname, CelinedeMacBook-Pro.local resolves to a loopback address: 127.0.0.1; using 192.168.100.25 instead (on interface en0)\n",
      "23/12/09 01:41:59 WARN Utils: Set SPARK_LOCAL_IP if you need to bind to another address\n",
      "Setting default log level to \"WARN\".\n",
      "To adjust logging level use sc.setLogLevel(newLevel). For SparkR, use setLogLevel(newLevel).\n",
      "23/12/09 01:41:59 WARN NativeCodeLoader: Unable to load native-hadoop library for your platform... using builtin-java classes where applicable\n",
      "23/12/09 01:42:00 WARN Utils: Service 'SparkUI' could not bind on port 4040. Attempting port 4041.\n",
      "23/12/09 01:42:00 WARN Utils: Service 'SparkUI' could not bind on port 4041. Attempting port 4042.\n",
      "23/12/09 01:42:00 WARN Utils: Service 'SparkUI' could not bind on port 4042. Attempting port 4043.\n",
      "23/12/09 01:42:00 WARN Utils: Service 'SparkUI' could not bind on port 4043. Attempting port 4044.\n",
      "23/12/09 01:42:00 WARN Utils: Service 'SparkUI' could not bind on port 4044. Attempting port 4045.\n",
      "23/12/09 01:42:00 WARN Utils: Service 'SparkUI' could not bind on port 4045. Attempting port 4046.\n"
     ]
    },
    {
     "name": "stderr",
     "output_type": "stream",
     "text": [
      "23/12/09 01:42:14 WARN GarbageCollectionMetrics: To enable non-built-in garbage collector(s) List(G1 Concurrent GC), users should configure it(them) to spark.eventLog.gcMetrics.youngGenerationGarbageCollectors or spark.eventLog.gcMetrics.oldGenerationGarbageCollectors\n"
     ]
    }
   ],
   "source": [
    "spark= SparkSession.builder.getOrCreate()"
   ]
  },
  {
   "cell_type": "code",
   "execution_count": 4,
   "metadata": {},
   "outputs": [
    {
     "name": "stderr",
     "output_type": "stream",
     "text": [
      "                                                                                \r"
     ]
    }
   ],
   "source": [
    "# Load data from photo.json, topic modeling dataset, text summarization dataset\n",
    "photo = spark.read.json('/Users/celine/Desktop/5430nlp/group/photos.json')\n",
    "topic = spark.read.json('/Users/celine/Desktop/5430nlp/group/tm.json')\n",
    "summarization = spark.read.option(\"header\", \"true\") \\\n",
    "    .option(\"multiLine\", \"true\") \\\n",
    "    .option(\"quote\", \"\\\"\") \\\n",
    "    .option(\"escape\", \"\\\"\").csv('/Users/celine/Desktop/5430nlp/group/summarization_data_clean.csv')\n"
   ]
  },
  {
   "cell_type": "code",
   "execution_count": 5,
   "metadata": {},
   "outputs": [
    {
     "name": "stdout",
     "output_type": "stream",
     "text": [
      "+--------------------+--------------------+-------+--------------------+\n",
      "|         business_id|             caption|  label|            photo_id|\n",
      "+--------------------+--------------------+-------+--------------------+\n",
      "|Nk-SJhPlDBkAZvfsA...|Nice rock artwork...| inside|zsvj7vloL4L5jhYyP...|\n",
      "|yVZtL5MmrpiivyCIr...|                    |outside|HCUdRJHHm_e0OCTlZ...|\n",
      "|_ab50qdWOk0DdB6XO...|      oyster shooter|  drink|vkr8T0scuJmGVvN2H...|\n",
      "|SZU9c8V2GuREDN5Kg...|       Shrimp scampi|   food|pve7D6NUrafHW3EAO...|\n",
      "|Gzur0f0XMkrVxIwYJ...|                    |   food|H52Er-uBg6rNrHcRe...|\n",
      "|jl38yx7zzMRbg-kOK...|                    |   food|wZ29mUm6nKz566j17...|\n",
      "|-9NmUeTphyS9Lq1o9...|                    | inside|QRUgAISgYLQJ9SK2y...|\n",
      "|RRCgIohWjaeGtlbpc...|                    | inside|bb7o8kXXXqc-8PWU6...|\n",
      "|p2J__JQ_mN5lVd7iG...|                    | inside|mcjlyGuLFJ0t4vDix...|\n",
      "|u9vhzYtXpfyvAOAMn...|    Inside reception| inside|3ROd5PAQ_0OkmoKWV...|\n",
      "|4OLfgjPToHrYf4HKX...|Small portion of ...|outside|foJzmWwl8WlC3xi-Q...|\n",
      "|GMVFik6o0Kh38ztkC...|                    | inside|yED5k8-aiPcgiUKoP...|\n",
      "|BELS5YkYjDFkpbM2F...|Fried Chick'un Sa...|   food|Le9rMdT8YFlvqr431...|\n",
      "|iryqT-RFwl7erA4MD...|The Korrito! Kore...|   food|9kVdBkGWcKfCFzSwU...|\n",
      "|KRc2irAIY3pgGlV0p...|                    | inside|RBBVVDG3t4lTTyl_v...|\n",
      "|H3WJK0fpoPrIotWqO...|                    |   food|dxIzVOEowFFsg2Rmg...|\n",
      "|368cyArdo0P0aDUOh...|     Drive-thru menu|   menu|6LJa8QZOGBjt9maE5...|\n",
      "|3lW1gubDMpnEIlo45...|                    |   food|50CbWRa6-tAKRPrq5...|\n",
      "|jTFl9Cr7RqZqwjH-C...|These cream fille...|   food|e0dD0np3hY3F8LoUt...|\n",
      "|Ghn6flCdNlOchzLA2...|Piedmont Salad--s...|   food|xiyqMEgTl4B4ux047...|\n",
      "+--------------------+--------------------+-------+--------------------+\n",
      "only showing top 20 rows\n",
      "\n"
     ]
    }
   ],
   "source": [
    "photo.show()"
   ]
  },
  {
   "cell_type": "code",
   "execution_count": 9,
   "metadata": {},
   "outputs": [
    {
     "name": "stdout",
     "output_type": "stream",
     "text": [
      "+--------------------+--------------------+------------+--------+--------------------+-----------+-----+--------------------+--------------------+\n",
      "|             address|         business_id|        city| cluster|                name|postal_code|stars|                text|               topic|\n",
      "+--------------------+--------------------+------------+--------+--------------------+-----------+-----+--------------------+--------------------+\n",
      "|      2654 S 10th St|RI33oswGDkIsc0fuQ...|Philadelphia|   pizza|       Oregon Steaks|      19148|  3.5|ppl order place i...|[Beef, Cheese, Br...|\n",
      "|         935 Race St|MTSW4McQd7CbVtyjq...|Philadelphia|  others|  St Honore Pastries|      19107|  4.0|bakery chinatown ...|  [Bagel, Bar, Beef]|\n",
      "|    2634 Belgrade St|GmJDCmDhtKbjofeO3...|Philadelphia|  others|The Freshworks of...|      19125|  4.5|omg chance nothin...|[Beef, Cheese, Br...|\n",
      "|      820 N Broad St|y1HgVnt4K5owmYXC5...|Philadelphia| chinese|Flambo Caribbean ...|      19130|  4.5|word excellent i ...|[Brunch, Bartende...|\n",
      "|        610 S 5th St|DOl21AqtT74dUZ3kv...|Philadelphia|    thai|     Golden Triangle|      19147|  4.5|amaze everything ...|[Brunch, Breakfas...|\n",
      "|  1200  S Federal St|tqBkgu2wyCjYBWuTQ...|Philadelphia|  burger|Orchard Smoothie ...|      19146|  3.0|i order takeout p...|[Amaze, Burger, B...|\n",
      "|         56 S 2nd St|OHzX-ZD9qyoeoxR8Z...|Philadelphia|  burger|     Khyber Pass Pub|      19106|  4.0|pub variety nothi...|[Beer, Amaze, Bre...|\n",
      "|        4243 Main St|hUX1yAimviBIhb21D...|Philadelphia|  others|Cactus Restaurant...|      19127|  3.0|place cinco drink...|[Ambiance, Beer, ...|\n",
      "|        705 N 2nd St|PYUI1OJVksGUbCrte...|Philadelphia|   pizza|    Bourbon & Branch|      19123|  4.0|super i place gru...|[Beer, Amaze, Bread]|\n",
      "|      3942 Spruce St|bSWL0YxfawjS03_g2...|Philadelphia|   pizza|       Allegro Pizza|      19104|  3.0|pizza place pizza...| [Bun, Cheese, Beer]|\n",
      "|   2821 W Girard Ave|Gw7UW0E2BguzL9suQ...|Philadelphia|   pizza|SPOT Gourmet Burgers|      19130|  4.5|burger guy burger...|[Amaze, Beef, Che...|\n",
      "|       1042 South St|jj9-k3CsTJz0a3_pP...|Philadelphia|  others|Tsaocaa & sushi c...|      19147|  4.0|time visit place ...|[Bagel, Appetizer...|\n",
      "|  S 31st & Ludlow St|B-DiQpcSTJ7oMMnwz...|Philadelphia|  burger|       Cucina Zapata|      19104|  4.5|captain crunch ta...|[Brunch, Ambiance...|\n",
      "|        740 South St|qjGS_7iaQDpbVhS6W...|Philadelphia|   vegan|The Sweet Life Ba...|      19147|  5.0|strawberry cream ...|[Bagel, Cheese, B...|\n",
      "|1800 Spring Garde...|3BJxm-HnvzdwD1zjm...|Philadelphia|american|Golden Chopstick ...|      19130|  3.0|platter people st...|[Brunch, Breakfas...|\n",
      "|     3020 S Broad St|pDurCski6kcl8mcXm...|Philadelphia|   pizza|       Ace of Steaks|      19145|  4.5|spot order mood b...|[Beef, Cheese, Br...|\n",
      "|  901 N Delaware Ave|aPNXGTDkf-4bjhyMB...|Philadelphia|   pizza|          Craft Hall|      19123|  3.5|place visit child...|[Beer, Amaze, Bread]|\n",
      "|       116 S 11th St|E1gf1YIWOo1BgzMUw...|Philadelphia|   pizza|Top Tomato Bar & ...|      19107|  3.5|yeah fam chain ti...| [Bun, Beer, Cheese]|\n",
      "|         50 S 3rd St|AWJyivVwe3t9BO-k8...|Philadelphia|   vegan|     Cafe Square One|      19106|  4.5|egg flavour salt ...|[Bread, Cake, Che...|\n",
      "|     6047 Ogontz Ave|UhIdCsdiWS4K0Ekbv...|Philadelphia|   pizza|    Ed's Pizza House|      19141|  1.5|order pizza hour ...|[Bun, Cheese, Amaze]|\n",
      "+--------------------+--------------------+------------+--------+--------------------+-----------+-----+--------------------+--------------------+\n",
      "only showing top 20 rows\n",
      "\n"
     ]
    }
   ],
   "source": [
    "topic.show()"
   ]
  },
  {
   "cell_type": "code",
   "execution_count": 10,
   "metadata": {},
   "outputs": [
    {
     "name": "stdout",
     "output_type": "stream",
     "text": [
      "+--------------------+----------------------+---------------------+----------------------+------------+-------------------+\n",
      "|         business_id|positive_summarization|neutral_summarization|negative_summarization|review_count|positive_percentage|\n",
      "+--------------------+----------------------+---------------------+----------------------+------------+-------------------+\n",
      "|6_T2xzR74JqGCTPef...|  This was my first...|  BUT. It's was good.|  It felt it took h...|         222|             76.58%|\n",
      "|u0Bt7uvvj7LAjAdiM...|  Overall, go try l...| Spectacular servi...|  I don't know if i...|         149|             81.21%|\n",
      "|05ev984NYfimRN0Ui...|  This was some of ...| They have a great...|  Overall the Resta...|         185|             77.84%|\n",
      "|Jg9kkOl4sx2AXJVoh...|  If you haven't wa...| I was there like ...|  Overall, it wasn'...|         343|             86.88%|\n",
      "|wUnLSg_GKfEIQ5CQQ...|  I love a good tas...| As a result, I wo...|  We had dinner las...|          85|             88.24%|\n",
      "|AlxnbBd2JNkozNvI0...|  You wouldn't thin...| As a bar I'd give...|  When I called and...|         147|             75.51%|\n",
      "|0mijbNf-7wiKJ9xto...|  We also got chick...| I haven't had a b...|  It. This restaura...|         203|             82.27%|\n",
      "|ctHjyadbDQAtUFfkc...|  Zahav has also lo...| The second course...|  If you're a fan o...|         468|             88.03%|\n",
      "|2CDI713ATuxHfnB5b...|  So - if you are n...| Of all the dishes...|  I am not from Phi...|         218|             90.37%|\n",
      "|of-GVqY0G_UDHXT9X...|  The food was all ...| All of the food w...|  My in-laws told u...|         276|             77.90%|\n",
      "|4R2KR_-FybS7oegGr...|  We also had a cra...| overall, the insi...|  It is not our iss...|         236|             61.02%|\n",
      "|1vPSY4EA-fTRIZYz1...|  All the pastries ...| Service-wise, the...|  After 45 minutes ...|         352|             87.50%|\n",
      "|KrKQChZ1hwHHVaUK9...|  They are a brewer...| I will never go t...|  They weren't. It ...|         243|             69.55%|\n",
      "|hyFzDuyOWNG2rg5GY...|  For my main, I ha...| Our reservation w...|  The table had two...|         142|             79.58%|\n",
      "|G2oWC7vWPTiTZt--0...|  We also got a chi...| Still a no go so ...|  Kalaya is not for...|         249|             82.73%|\n",
      "|QhgrhVKlXZtSY6gRT...|  I would have love...| There was one goo...|  Good service but ...|         148|             83.11%|\n",
      "|p-MSh95si_sDdih94...|  It's so good. Fir...| The cocktail was ...|  I will say the pr...|         125|             86.40%|\n",
      "|LizaSXXtaPjbxGtwo...|  The Gnocchi Speci...| We made our reser...|  Took 25 minutes t...|          86|             81.40%|\n",
      "|ktM6aYuzqWd-kA8SI...|  If you are lookin...| Not the best I've...|  Not only did I wa...|         121|             60.33%|\n",
      "|vhDWGF-8BfsxvS7Zo...|  This was THE best...| We got the duck t...|  I was excited to ...|         146|             91.10%|\n",
      "+--------------------+----------------------+---------------------+----------------------+------------+-------------------+\n",
      "only showing top 20 rows\n",
      "\n"
     ]
    }
   ],
   "source": [
    "summarization.show()"
   ]
  },
  {
   "cell_type": "markdown",
   "metadata": {},
   "source": [
    "## Photo"
   ]
  },
  {
   "cell_type": "code",
   "execution_count": 6,
   "metadata": {},
   "outputs": [],
   "source": [
    "# Select photo with label food and drink\n",
    "photo_food = photo.filter((F.col('label') == 'food') | (F.col('label') == 'drink'))\n"
   ]
  },
  {
   "cell_type": "code",
   "execution_count": 8,
   "metadata": {},
   "outputs": [
    {
     "name": "stderr",
     "output_type": "stream",
     "text": [
      "                                                                                \r"
     ]
    },
    {
     "data": {
      "text/plain": [
       "28237"
      ]
     },
     "execution_count": 8,
     "metadata": {},
     "output_type": "execute_result"
    }
   ],
   "source": [
    "# Only select one photo for each business\n",
    "windowSpec = Window.partitionBy('business_id').orderBy('photo_id')\n",
    "\n",
    "# Add a row number column\n",
    "photo_food_with_row_number = photo_food.withColumn('row_number', F.row_number().over(windowSpec))\n",
    "\n",
    "# Filter for the first photo for each business\n",
    "photo_per_business = photo_food_with_row_number.filter(F.col('row_number') == 1)\n",
    "\n",
    "# Now you can drop the 'row_number' column if you want\n",
    "photo_per_business = photo_per_business.drop('row_number')\n",
    "\n",
    "photo_per_business.count()\n"
   ]
  },
  {
   "cell_type": "markdown",
   "metadata": {},
   "source": [
    "## Topic modeling"
   ]
  },
  {
   "cell_type": "code",
   "execution_count": 13,
   "metadata": {},
   "outputs": [],
   "source": [
    "# Add a state column fill \"PA\"\n",
    "topic = topic.withColumn('state', lit('PA'))\n",
    "# Concat address, city, state, postal_code as full address\n",
    "topic = topic.withColumn('full_address', concat_ws(', ', 'address', 'city', concat_ws(' ', 'state','postal_code')))"
   ]
  },
  {
   "cell_type": "code",
   "execution_count": 15,
   "metadata": {},
   "outputs": [
    {
     "name": "stdout",
     "output_type": "stream",
     "text": [
      "+--------------------+--------------------+------------+--------+--------------------+-----------+-----+--------------------+--------------------+-----+--------------------+\n",
      "|             address|         business_id|        city| cluster|                name|postal_code|stars|                text|               topic|state|        full_address|\n",
      "+--------------------+--------------------+------------+--------+--------------------+-----------+-----+--------------------+--------------------+-----+--------------------+\n",
      "|      2654 S 10th St|RI33oswGDkIsc0fuQ...|Philadelphia|   pizza|       Oregon Steaks|      19148|  3.5|ppl order place i...|[Beef, Cheese, Br...|   PA|2654 S 10th St, P...|\n",
      "|         935 Race St|MTSW4McQd7CbVtyjq...|Philadelphia|  others|  St Honore Pastries|      19107|  4.0|bakery chinatown ...|  [Bagel, Bar, Beef]|   PA|935 Race St, Phil...|\n",
      "|    2634 Belgrade St|GmJDCmDhtKbjofeO3...|Philadelphia|  others|The Freshworks of...|      19125|  4.5|omg chance nothin...|[Beef, Cheese, Br...|   PA|2634 Belgrade St,...|\n",
      "|      820 N Broad St|y1HgVnt4K5owmYXC5...|Philadelphia| chinese|Flambo Caribbean ...|      19130|  4.5|word excellent i ...|[Brunch, Bartende...|   PA|820 N Broad St, P...|\n",
      "|        610 S 5th St|DOl21AqtT74dUZ3kv...|Philadelphia|    thai|     Golden Triangle|      19147|  4.5|amaze everything ...|[Brunch, Breakfas...|   PA|610 S 5th St, Phi...|\n",
      "|  1200  S Federal St|tqBkgu2wyCjYBWuTQ...|Philadelphia|  burger|Orchard Smoothie ...|      19146|  3.0|i order takeout p...|[Amaze, Burger, B...|   PA|1200  S Federal S...|\n",
      "|         56 S 2nd St|OHzX-ZD9qyoeoxR8Z...|Philadelphia|  burger|     Khyber Pass Pub|      19106|  4.0|pub variety nothi...|[Beer, Amaze, Bre...|   PA|56 S 2nd St, Phil...|\n",
      "|        4243 Main St|hUX1yAimviBIhb21D...|Philadelphia|  others|Cactus Restaurant...|      19127|  3.0|place cinco drink...|[Ambiance, Beer, ...|   PA|4243 Main St, Phi...|\n",
      "|        705 N 2nd St|PYUI1OJVksGUbCrte...|Philadelphia|   pizza|    Bourbon & Branch|      19123|  4.0|super i place gru...|[Beer, Amaze, Bread]|   PA|705 N 2nd St, Phi...|\n",
      "|      3942 Spruce St|bSWL0YxfawjS03_g2...|Philadelphia|   pizza|       Allegro Pizza|      19104|  3.0|pizza place pizza...| [Bun, Cheese, Beer]|   PA|3942 Spruce St, P...|\n",
      "|   2821 W Girard Ave|Gw7UW0E2BguzL9suQ...|Philadelphia|   pizza|SPOT Gourmet Burgers|      19130|  4.5|burger guy burger...|[Amaze, Beef, Che...|   PA|2821 W Girard Ave...|\n",
      "|       1042 South St|jj9-k3CsTJz0a3_pP...|Philadelphia|  others|Tsaocaa & sushi c...|      19147|  4.0|time visit place ...|[Bagel, Appetizer...|   PA|1042 South St, Ph...|\n",
      "|  S 31st & Ludlow St|B-DiQpcSTJ7oMMnwz...|Philadelphia|  burger|       Cucina Zapata|      19104|  4.5|captain crunch ta...|[Brunch, Ambiance...|   PA|S 31st & Ludlow S...|\n",
      "|        740 South St|qjGS_7iaQDpbVhS6W...|Philadelphia|   vegan|The Sweet Life Ba...|      19147|  5.0|strawberry cream ...|[Bagel, Cheese, B...|   PA|740 South St, Phi...|\n",
      "|1800 Spring Garde...|3BJxm-HnvzdwD1zjm...|Philadelphia|american|Golden Chopstick ...|      19130|  3.0|platter people st...|[Brunch, Breakfas...|   PA|1800 Spring Garde...|\n",
      "|     3020 S Broad St|pDurCski6kcl8mcXm...|Philadelphia|   pizza|       Ace of Steaks|      19145|  4.5|spot order mood b...|[Beef, Cheese, Br...|   PA|3020 S Broad St, ...|\n",
      "|  901 N Delaware Ave|aPNXGTDkf-4bjhyMB...|Philadelphia|   pizza|          Craft Hall|      19123|  3.5|place visit child...|[Beer, Amaze, Bread]|   PA|901 N Delaware Av...|\n",
      "|       116 S 11th St|E1gf1YIWOo1BgzMUw...|Philadelphia|   pizza|Top Tomato Bar & ...|      19107|  3.5|yeah fam chain ti...| [Bun, Beer, Cheese]|   PA|116 S 11th St, Ph...|\n",
      "|         50 S 3rd St|AWJyivVwe3t9BO-k8...|Philadelphia|   vegan|     Cafe Square One|      19106|  4.5|egg flavour salt ...|[Bread, Cake, Che...|   PA|50 S 3rd St, Phil...|\n",
      "|     6047 Ogontz Ave|UhIdCsdiWS4K0Ekbv...|Philadelphia|   pizza|    Ed's Pizza House|      19141|  1.5|order pizza hour ...|[Bun, Cheese, Amaze]|   PA|6047 Ogontz Ave, ...|\n",
      "+--------------------+--------------------+------------+--------+--------------------+-----------+-----+--------------------+--------------------+-----+--------------------+\n",
      "only showing top 20 rows\n",
      "\n"
     ]
    }
   ],
   "source": [
    "topic.show()"
   ]
  },
  {
   "cell_type": "code",
   "execution_count": 16,
   "metadata": {},
   "outputs": [],
   "source": [
    "topic = topic.select('business_id', 'name', 'stars', 'full_address', 'topic')"
   ]
  },
  {
   "cell_type": "code",
   "execution_count": 18,
   "metadata": {},
   "outputs": [
    {
     "data": {
      "text/plain": [
       "2276"
      ]
     },
     "execution_count": 18,
     "metadata": {},
     "output_type": "execute_result"
    }
   ],
   "source": [
    "# Join photo and topic modeling dataset\n",
    "photo_food_tm = photo_per_business.select('business_id', 'photo_id').join(topic, 'business_id', 'right')\n",
    "photo_food_tm.count()"
   ]
  },
  {
   "cell_type": "code",
   "execution_count": 19,
   "metadata": {},
   "outputs": [
    {
     "name": "stdout",
     "output_type": "stream",
     "text": [
      "+--------------------+--------------------+--------------------+-----+--------------------+--------------------+\n",
      "|         business_id|            photo_id|                name|stars|        full_address|               topic|\n",
      "+--------------------+--------------------+--------------------+-----+--------------------+--------------------+\n",
      "|RI33oswGDkIsc0fuQ...|EBrKYUF01H2nvHC1r...|       Oregon Steaks|  3.5|2654 S 10th St, P...|[Beef, Cheese, Br...|\n",
      "|MTSW4McQd7CbVtyjq...|7urDyNpZZ3Z8RpKLr...|  St Honore Pastries|  4.0|935 Race St, Phil...|  [Bagel, Bar, Beef]|\n",
      "|GmJDCmDhtKbjofeO3...|                NULL|The Freshworks of...|  4.5|2634 Belgrade St,...|[Beef, Cheese, Br...|\n",
      "|y1HgVnt4K5owmYXC5...|ZZm7cTtBSkdxXKt_3...|Flambo Caribbean ...|  4.5|820 N Broad St, P...|[Brunch, Bartende...|\n",
      "|DOl21AqtT74dUZ3kv...|7KDZ-oY2I_u42XE7L...|     Golden Triangle|  4.5|610 S 5th St, Phi...|[Brunch, Breakfas...|\n",
      "|tqBkgu2wyCjYBWuTQ...|                NULL|Orchard Smoothie ...|  3.0|1200  S Federal S...|[Amaze, Burger, B...|\n",
      "|OHzX-ZD9qyoeoxR8Z...|IqwtheOv0HLbTtDdj...|     Khyber Pass Pub|  4.0|56 S 2nd St, Phil...|[Beer, Amaze, Bre...|\n",
      "|hUX1yAimviBIhb21D...|                NULL|Cactus Restaurant...|  3.0|4243 Main St, Phi...|[Ambiance, Beer, ...|\n",
      "|PYUI1OJVksGUbCrte...|mnmfhKs8CXlCBZRZy...|    Bourbon & Branch|  4.0|705 N 2nd St, Phi...|[Beer, Amaze, Bread]|\n",
      "|bSWL0YxfawjS03_g2...|                NULL|       Allegro Pizza|  3.0|3942 Spruce St, P...| [Bun, Cheese, Beer]|\n",
      "|Gw7UW0E2BguzL9suQ...|B9nkxvTCQ2FfEDsXH...|SPOT Gourmet Burgers|  4.5|2821 W Girard Ave...|[Amaze, Beef, Che...|\n",
      "|jj9-k3CsTJz0a3_pP...|gVh7QET9Crw-J6nRL...|Tsaocaa & sushi c...|  4.0|1042 South St, Ph...|[Bagel, Appetizer...|\n",
      "|B-DiQpcSTJ7oMMnwz...|KKTBi-vcBBHbr3D8t...|       Cucina Zapata|  4.5|S 31st & Ludlow S...|[Brunch, Ambiance...|\n",
      "|qjGS_7iaQDpbVhS6W...|08DYCOiBLdVJvuitl...|The Sweet Life Ba...|  5.0|740 South St, Phi...|[Bagel, Cheese, B...|\n",
      "|3BJxm-HnvzdwD1zjm...|An2pTAMga2EG6Irxy...|Golden Chopstick ...|  3.0|1800 Spring Garde...|[Brunch, Breakfas...|\n",
      "|pDurCski6kcl8mcXm...|                NULL|       Ace of Steaks|  4.5|3020 S Broad St, ...|[Beef, Cheese, Br...|\n",
      "|aPNXGTDkf-4bjhyMB...|7VJLjrHS4dG6Ukwc0...|          Craft Hall|  3.5|901 N Delaware Av...|[Beer, Amaze, Bread]|\n",
      "|E1gf1YIWOo1BgzMUw...|2ImEYdX7R6xgrlUgZ...|Top Tomato Bar & ...|  3.5|116 S 11th St, Ph...| [Bun, Beer, Cheese]|\n",
      "|AWJyivVwe3t9BO-k8...|B89Yzplj9nhqEFPmk...|     Cafe Square One|  4.5|50 S 3rd St, Phil...|[Bread, Cake, Che...|\n",
      "|UhIdCsdiWS4K0Ekbv...|                NULL|    Ed's Pizza House|  1.5|6047 Ogontz Ave, ...|[Bun, Cheese, Amaze]|\n",
      "+--------------------+--------------------+--------------------+-----+--------------------+--------------------+\n",
      "only showing top 20 rows\n",
      "\n"
     ]
    }
   ],
   "source": [
    "photo_food_tm.show()"
   ]
  },
  {
   "cell_type": "markdown",
   "metadata": {},
   "source": [
    "# Text summarization"
   ]
  },
  {
   "cell_type": "code",
   "execution_count": 21,
   "metadata": {},
   "outputs": [
    {
     "name": "stdout",
     "output_type": "stream",
     "text": [
      "+--------------------+--------------------+--------------------+-----+--------------------+--------------------+----------------------+---------------------+----------------------+------------+-------------------+\n",
      "|         business_id|            photo_id|                name|stars|        full_address|               topic|positive_summarization|neutral_summarization|negative_summarization|review_count|positive_percentage|\n",
      "+--------------------+--------------------+--------------------+-----+--------------------+--------------------+----------------------+---------------------+----------------------+------------+-------------------+\n",
      "|nBr6NgqcZz1GhtAng...|                NULL|          Forin Cafe|  4.5|2041 Coral St, St...|[Cake, Bagel, Bru...|  I was so excited ...| The cafe is also ...|  Sorry, this busin...|          12|             91.67%|\n",
      "|VwZ5NDbIu3elGQI6M...|9qhTofis6GYRB2Ynb...|           Blue Corn|  4.5|940 S 9th St, Phi...|[Ambiance, Barten...|  A + + + !! I had ...| I didn't have to ...|  The food there wa...|         134|             87.31%|\n",
      "|W6k6b-bUaX0goySzl...|Qr0lkw-rMpByqZXSl...|    Red Poke Express|  4.5|135 South St, Phi...|[Brunch, Cheese, ...|  I would have like...| We ordered poke b...|  It was Salmon lov...|          46|             91.30%|\n",
      "|3FKIev7ZB_KE6XHL9...|6W4vrhpyWetiTpjFT...|       Strangelove's|  4.0|216 S 11th St, Ph...|[Beer, Amaze, Bread]|  This is a good sp...| We also ordered t...|  So, I looked for ...|          75|             62.67%|\n",
      "|wopwoiKIllIzcggK7...|ojAVqKUxFXVellx4X...|The Gold Standard...|  3.0|4800 Baltimore Av...|[Bread, Cake, Amaze]|  My partner and I ...| Upon walking in, ...|  I addressed the i...|          34|             50.00%|\n",
      "|mhm7pNRVZhSr3RBo9...|SBP29CN6dV71JaudZ...|   Kick Axe Throwing|  4.5|232 Market St, Ph...|[Beer, Bagel, Amaze]|  In summary, it's ...| Then when I order...|  In our excitement...|         100|             91.00%|\n",
      "|r3X75SK37buS94mDl...|469Km7BFrrxb9OZd4...|    Real Food Eatery|  4.5|207 S 16th St, Ph...|[Cheese, Brunch, ...|  In my experience,...| The second meal I...|  Instead, I feel l...|          65|             80.00%|\n",
      "|gdklkhsq4C7KANfnX...|5dpakeUV--TJr6-SX...|Lil' Pop Shop & Cafe|  4.5|229 S 20th St, Ph...|  [Bagel, Cake, Bun]|  It was a pretty h...| The texture was a...|  So then I asked w...|          48|             89.58%|\n",
      "|2fJ-WxJlUN6azp3bz...|Av8Id4j-r4PUGtuHU...|              Pho Ha|  4.0|600 Washington Av...|[Breakfast, Brunc...|  The place isn't v...| The pho we got ta...|  They were attenti...|          56|             75.00%|\n",
      "|XTNu6IrYn_xn05wuq...|                NULL|        Jimmy John's|  3.0|221 S 11th St, Ph...|[Beef, Cheese, Ap...|  Large platters of...| We just walked in...|  When the 30-minut...|          19|             15.79%|\n",
      "|FTFtoylMzkrzqNVSl...|pCNVoVMg16vm1UpVs...|   Giant Food Stores|  4.0|60 N 23rd St, Phi...|[Cheese, Beer, Ba...|  If you don't have...| The store was fil...|  For Thanksgiving ...|          19|             63.16%|\n",
      "|Xeqb2RxA3ApFCThIY...|                NULL|  TAP Esports Center|  4.5|924 Cherry St, Ph...|[Beer, Bagel, Amb...|  They also recogni...| First time I went...|  Sorry, this busin...|          11|             90.91%|\n",
      "|AGlh4ZDv6jnoiYfz7...|4dSfEZZ2I9LlDgcuo...|      Dim Sum Garden|  4.0|1020 Race St, Phi...|[Breakfast, Brunc...|  Pork with sauce n...| It's always a bum...|  We also got the v...|         582|             64.43%|\n",
      "|IjMs1n7UelI7ev_5I...|BUmeWNAyI964RW71r...|          Pho Saigon|  4.0|1100 S Christophe...|[Breakfast, Brunc...|  They are my go to...| They should know ...|  We got our food a...|          42|             61.90%|\n",
      "|u-xGrOvBv1bxtpAHk...|XQl4G8zKIGPCMUuvO...|    Vegan Commissary|  4.5|1429 Wolf St, Phi...|[Beef, Cheese, Br...|  The food was deli...| Sorry, this busin...|  We brought the de...|          25|             88.00%|\n",
      "|9o55tW2eCwxRvwWVQ...|                NULL|                Trio|  3.5|2601 Pennsylvania...|[Brunch, Bartende...|  It was like old t...| Sometimes, I have...|  Our somosas (app)...|          22|             63.64%|\n",
      "|RAwtx2OKnhhQxBurD...|0fEYlTak6kH_eDfCR...|         Coney Shack|  4.0|3818 Chestnut St,...|[Ambiance, Brunch...|  It was my first t...| I ordered a Mach ...|  While delicious, ...|          34|             76.47%|\n",
      "|xQE1fuwKCXJEBcJgS...|-3ymMXx7KAxWZSq6D...|Urban Farmer Phil...|  4.0|1850 Benjamin Fra...|[Bartender, Bread...|  On top of all thi...| She said I don't ...|  It was $24. Was e...|         187|             71.66%|\n",
      "|XJnTY0wG45x9GBrgf...|-q-9AACATcf2JEDWX...|        Lucha Cartel|  3.5|207 Chestnut St, ...|[Ambiance, Beer, ...|  The food was good...| The service was g...|  We were seated at...|         115|             56.52%|\n",
      "|pW5DXTpKnw3y0fopi...|m_LDyd7Dtnm8djwYO...|Landmark American...|  3.0|3333 Market St, P...|[Beer, Bread, Amaze]|  Overall,  it's a ...| I asked for lemon...|  I wish there was ...|          60|             36.67%|\n",
      "+--------------------+--------------------+--------------------+-----+--------------------+--------------------+----------------------+---------------------+----------------------+------------+-------------------+\n",
      "only showing top 20 rows\n",
      "\n"
     ]
    }
   ],
   "source": [
    "# Join photo_food_tm and text summarization dataset\n",
    "topic_sum_photo = photo_food_tm.join(summarization, 'business_id', 'inner')\n",
    "topic_sum_photo.show()"
   ]
  }
 ],
 "metadata": {
  "kernelspec": {
   "display_name": "Python 3",
   "language": "python",
   "name": "python3"
  },
  "language_info": {
   "codemirror_mode": {
    "name": "ipython",
    "version": 3
   },
   "file_extension": ".py",
   "mimetype": "text/x-python",
   "name": "python",
   "nbconvert_exporter": "python",
   "pygments_lexer": "ipython3",
   "version": "3.11.6"
  }
 },
 "nbformat": 4,
 "nbformat_minor": 2
}
